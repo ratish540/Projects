{
 "cells": [
  {
   "cell_type": "markdown",
   "metadata": {
    "id": "zeD8WGmObs_I"
   },
   "source": [
    "### <b>**Regression** </b>"
   ]
  },
  {
   "cell_type": "markdown",
   "metadata": {
    "id": "H9j_qmmEbzuy"
   },
   "source": [
    "### **Agenda**"
   ]
  },
  {
   "cell_type": "markdown",
   "metadata": {
    "id": "vOoy8vQqb-f9"
   },
   "source": [
    "In this lesson, we will cover the following concepts with the help of a business use case:\n",
    "* Use Case: Regression\n",
    "* Regression Algorithms\n",
    "* Types of Model Evaluation Metrics\n",
    "* Gradient Descent\n",
    "* Types of Gradient Descents\n",
    "* Use Case: Stochastic Gradient Descent (SGD)\n"
   ]
  },
  {
   "cell_type": "markdown",
   "metadata": {
    "id": "Po9OHdbTohLr"
   },
   "source": [
    "### **Use Case: Regression**\n",
    "\n",
    "Note: At first, with the help of a use case, we are going to perform all the basic steps to reach the model training and predicition part.\n",
    "  "
   ]
  },
  {
   "cell_type": "markdown",
   "metadata": {
    "id": "bQKjQddGolUL"
   },
   "source": [
    "#### <b> **Problem Statement:** </b>"
   ]
  },
  {
   "cell_type": "markdown",
   "metadata": {
    "id": "2nbWDeSHonx7"
   },
   "source": [
    "Google Play Store team is about to launch a new feature wherein, certain apps that are promising are boosted in visibility. The boost will manifest in multiple ways including higher priority in recommendations sections (“Similar apps”, “You might also like”, “New and updated games”). These will also get a boost in search results visibility.  This feature will help bring more attention to newer apps that have the potential."
   ]
  },
  {
   "cell_type": "markdown",
   "metadata": {
    "id": "-JlzR6UYbmkg"
   },
   "source": [
    "#### <b> **Analysis to be done:** </b>\n",
    "\n",
    "The problem is to identify the apps that are going to be good for Google to promote. App ratings, which are provided by the customers, are always great indicators of the goodness of the app. The problem reduces to: predict which apps will have high ratings."
   ]
  },
  {
   "cell_type": "markdown",
   "metadata": {
    "id": "oNYZuDx9op8z"
   },
   "source": [
    "#### <b>**Dataset**</b>"
   ]
  },
  {
   "cell_type": "markdown",
   "metadata": {
    "id": "8ExUfIJNotUZ"
   },
   "source": [
    "Google Play Store data (**googleplaystore.csv**)\n",
    "\n",
    "Link: https://www.dropbox.com/sh/i06ohrau3ucfgbm/AACeYXumL56543KnDNQFlj8ma?dl=0\n"
   ]
  },
  {
   "cell_type": "markdown",
   "metadata": {
    "id": "iMeGdaAwotkY"
   },
   "source": [
    "#### <b> **Data Dictionary:**</b>"
   ]
  },
  {
   "cell_type": "markdown",
   "metadata": {
    "id": "4YUU25rPowJf"
   },
   "source": [
    "|Variables|Description|\n",
    "|:-|:-|\n",
    "|App| Application name|\n",
    "|Category|Category to which the app belongs|\n",
    "|Rating|Overall user rating of the app|\n",
    "|Reviews|Number of user reviews for the app|\n",
    "|Size|Size of the app|\n",
    "|Installs|Number of user downloads/installs for the app|\n",
    "|Type|Paid or Free|\n",
    "|Price|Price of the app|\n",
    "|Content Rating|Age group the app is targeted at - Children / Mature 21+ / Adult|\n",
    "|Genres|An app can belong to multiple genres (apart from its main category)<br>For example, a musical family game will belong to Music, Game, Family genres|\n",
    "|Last Updated|Date when the app was last updated on Play Store|\n",
    "|Current Ver|Current version of the app available on Play Store|\n",
    "|Android Ver|Minimum required Android version|"
   ]
  },
  {
   "cell_type": "markdown",
   "metadata": {
    "id": "Kr90ro50ozGI"
   },
   "source": [
    "#### <b> **Solution:**</b>"
   ]
  },
  {
   "cell_type": "markdown",
   "metadata": {
    "id": "W14jX_v34LoZ"
   },
   "source": [
    "#### <b> **Import Libraries**</b>"
   ]
  },
  {
   "cell_type": "code",
   "execution_count": 44,
   "metadata": {
    "id": "6MAzISPa4L97"
   },
   "outputs": [],
   "source": [
    "#Importing libraries\n",
    "import pandas as pd\n",
    "import numpy as np\n",
    "import matplotlib.pyplot as plt, seaborn as sns\n",
    "%matplotlib inline"
   ]
  },
  {
   "cell_type": "markdown",
   "metadata": {
    "id": "kTrPpBFR4YZm"
   },
   "source": [
    "#### <b> **Import and Check Dataset**</b>"
   ]
  },
  {
   "cell_type": "code",
   "execution_count": 59,
   "metadata": {
    "id": "kcE49r1x4fL8"
   },
   "outputs": [],
   "source": [
    "inp0 = pd.read_csv(\"c:\\\\users\\\\maa\\\\desktop\\\\googleplaystore.csv\")"
   ]
  },
  {
   "cell_type": "code",
   "execution_count": 60,
   "metadata": {
    "id": "4Aq-fRZv4fg5"
   },
   "outputs": [
    {
     "data": {
      "text/html": [
       "<div>\n",
       "<style scoped>\n",
       "    .dataframe tbody tr th:only-of-type {\n",
       "        vertical-align: middle;\n",
       "    }\n",
       "\n",
       "    .dataframe tbody tr th {\n",
       "        vertical-align: top;\n",
       "    }\n",
       "\n",
       "    .dataframe thead th {\n",
       "        text-align: right;\n",
       "    }\n",
       "</style>\n",
       "<table border=\"1\" class=\"dataframe\">\n",
       "  <thead>\n",
       "    <tr style=\"text-align: right;\">\n",
       "      <th></th>\n",
       "      <th>App</th>\n",
       "      <th>Category</th>\n",
       "      <th>Rating</th>\n",
       "      <th>Reviews</th>\n",
       "      <th>Size</th>\n",
       "      <th>Installs</th>\n",
       "      <th>Type</th>\n",
       "      <th>Price</th>\n",
       "      <th>Content_Rating</th>\n",
       "      <th>Genres</th>\n",
       "      <th>Last Updated</th>\n",
       "      <th>Current Ver</th>\n",
       "      <th>Android Ver</th>\n",
       "    </tr>\n",
       "  </thead>\n",
       "  <tbody>\n",
       "    <tr>\n",
       "      <th>0</th>\n",
       "      <td>Photo Editor &amp; Candy Camera &amp; Grid &amp; ScrapBook</td>\n",
       "      <td>ART_AND_DESIGN</td>\n",
       "      <td>4.1</td>\n",
       "      <td>159</td>\n",
       "      <td>19M</td>\n",
       "      <td>10,000+</td>\n",
       "      <td>Free</td>\n",
       "      <td>0</td>\n",
       "      <td>Everyone</td>\n",
       "      <td>Art_&amp;_Design</td>\n",
       "      <td>January 7, 2018</td>\n",
       "      <td>1.0.0</td>\n",
       "      <td>4.0.3 and up</td>\n",
       "    </tr>\n",
       "    <tr>\n",
       "      <th>1</th>\n",
       "      <td>Coloring book moana</td>\n",
       "      <td>ART_AND_DESIGN</td>\n",
       "      <td>3.9</td>\n",
       "      <td>967</td>\n",
       "      <td>14M</td>\n",
       "      <td>500,000+</td>\n",
       "      <td>Free</td>\n",
       "      <td>0</td>\n",
       "      <td>Everyone</td>\n",
       "      <td>Art_&amp;_Design_Pretend_Play</td>\n",
       "      <td>January 15, 2018</td>\n",
       "      <td>2.0.0</td>\n",
       "      <td>4.0.3 and up</td>\n",
       "    </tr>\n",
       "  </tbody>\n",
       "</table>\n",
       "</div>"
      ],
      "text/plain": [
       "                                              App        Category  Rating  \\\n",
       "0  Photo Editor & Candy Camera & Grid & ScrapBook  ART_AND_DESIGN     4.1   \n",
       "1                             Coloring book moana  ART_AND_DESIGN     3.9   \n",
       "\n",
       "  Reviews Size  Installs  Type Price Content_Rating  \\\n",
       "0     159  19M   10,000+  Free     0       Everyone   \n",
       "1     967  14M  500,000+  Free     0       Everyone   \n",
       "\n",
       "                      Genres      Last Updated Current Ver   Android Ver  \n",
       "0               Art_&_Design   January 7, 2018       1.0.0  4.0.3 and up  \n",
       "1  Art_&_Design_Pretend_Play  January 15, 2018       2.0.0  4.0.3 and up  "
      ]
     },
     "execution_count": 60,
     "metadata": {},
     "output_type": "execute_result"
    }
   ],
   "source": [
    "# Check first five rows\n",
    "inp0.head(2)"
   ]
  },
  {
   "cell_type": "markdown",
   "metadata": {
    "id": "xW16LHo8z8ii"
   },
   "source": [
    "#### <b> Observations </b>\n",
    "The data will be displayed on the screen."
   ]
  },
  {
   "cell_type": "code",
   "execution_count": 61,
   "metadata": {
    "id": "lHP7mep35QZl"
   },
   "outputs": [
    {
     "name": "stdout",
     "output_type": "stream",
     "text": [
      "<class 'pandas.core.frame.DataFrame'>\n",
      "RangeIndex: 10841 entries, 0 to 10840\n",
      "Data columns (total 13 columns):\n",
      " #   Column          Non-Null Count  Dtype  \n",
      "---  ------          --------------  -----  \n",
      " 0   App             10841 non-null  object \n",
      " 1   Category        10841 non-null  object \n",
      " 2   Rating          9367 non-null   float64\n",
      " 3   Reviews         10841 non-null  object \n",
      " 4   Size            10841 non-null  object \n",
      " 5   Installs        10841 non-null  object \n",
      " 6   Type            10840 non-null  object \n",
      " 7   Price           10841 non-null  object \n",
      " 8   Content_Rating  10840 non-null  object \n",
      " 9   Genres          10841 non-null  object \n",
      " 10  Last Updated    10841 non-null  object \n",
      " 11  Current Ver     10833 non-null  object \n",
      " 12  Android Ver     10838 non-null  object \n",
      "dtypes: float64(1), object(12)\n",
      "memory usage: 1.1+ MB\n"
     ]
    }
   ],
   "source": [
    "#Check number of columns and rows, and data types\n",
    "inp0.info()"
   ]
  },
  {
   "cell_type": "markdown",
   "metadata": {
    "id": "2Kh77c_4iYZe"
   },
   "source": [
    "#### <b> **Check Data Types**</b>"
   ]
  },
  {
   "cell_type": "code",
   "execution_count": 62,
   "metadata": {
    "id": "GQ9Xdj6NiYZf"
   },
   "outputs": [
    {
     "data": {
      "text/plain": [
       "App                object\n",
       "Category           object\n",
       "Rating            float64\n",
       "Reviews            object\n",
       "Size               object\n",
       "Installs           object\n",
       "Type               object\n",
       "Price              object\n",
       "Content_Rating     object\n",
       "Genres             object\n",
       "Last Updated       object\n",
       "Current Ver        object\n",
       "Android Ver        object\n",
       "dtype: object"
      ]
     },
     "execution_count": 62,
     "metadata": {},
     "output_type": "execute_result"
    }
   ],
   "source": [
    "#checking datatypes\n",
    "inp0.dtypes"
   ]
  },
  {
   "cell_type": "markdown",
   "metadata": {
    "id": "RdC9Cp5A59Zs"
   },
   "source": [
    "#### <b> **Finding and Treating Null Values**</b>"
   ]
  },
  {
   "cell_type": "code",
   "execution_count": 63,
   "metadata": {
    "id": "PUPGM_kN5S5P"
   },
   "outputs": [
    {
     "data": {
      "text/plain": [
       "App                  0\n",
       "Category             0\n",
       "Rating            1474\n",
       "Reviews              0\n",
       "Size                 0\n",
       "Installs             0\n",
       "Type                 1\n",
       "Price                0\n",
       "Content_Rating       1\n",
       "Genres               0\n",
       "Last Updated         0\n",
       "Current Ver          8\n",
       "Android Ver          3\n",
       "dtype: int64"
      ]
     },
     "execution_count": 63,
     "metadata": {},
     "output_type": "execute_result"
    }
   ],
   "source": [
    "#Finding count of null values\n",
    "inp0.isnull().sum(axis=0)"
   ]
  },
  {
   "cell_type": "code",
   "execution_count": 64,
   "metadata": {
    "id": "x63VpabT6DPm"
   },
   "outputs": [],
   "source": [
    "#Dropping the records with null ratings\n",
    "#This is done because ratings is our target variable\n",
    "inp0.dropna(how ='any', inplace = True)"
   ]
  },
  {
   "cell_type": "code",
   "execution_count": 65,
   "metadata": {
    "id": "x8J8PBEd6aOG"
   },
   "outputs": [
    {
     "data": {
      "text/plain": [
       "App               0\n",
       "Category          0\n",
       "Rating            0\n",
       "Reviews           0\n",
       "Size              0\n",
       "Installs          0\n",
       "Type              0\n",
       "Price             0\n",
       "Content_Rating    0\n",
       "Genres            0\n",
       "Last Updated      0\n",
       "Current Ver       0\n",
       "Android Ver       0\n",
       "dtype: int64"
      ]
     },
     "execution_count": 65,
     "metadata": {},
     "output_type": "execute_result"
    }
   ],
   "source": [
    "inp0.isnull().sum(axis=0)"
   ]
  },
  {
   "cell_type": "code",
   "execution_count": 66,
   "metadata": {},
   "outputs": [
    {
     "name": "stdout",
     "output_type": "stream",
     "text": [
      "<class 'pandas.core.frame.DataFrame'>\n",
      "Int64Index: 9360 entries, 0 to 10840\n",
      "Data columns (total 13 columns):\n",
      " #   Column          Non-Null Count  Dtype  \n",
      "---  ------          --------------  -----  \n",
      " 0   App             9360 non-null   object \n",
      " 1   Category        9360 non-null   object \n",
      " 2   Rating          9360 non-null   float64\n",
      " 3   Reviews         9360 non-null   object \n",
      " 4   Size            9360 non-null   object \n",
      " 5   Installs        9360 non-null   object \n",
      " 6   Type            9360 non-null   object \n",
      " 7   Price           9360 non-null   object \n",
      " 8   Content_Rating  9360 non-null   object \n",
      " 9   Genres          9360 non-null   object \n",
      " 10  Last Updated    9360 non-null   object \n",
      " 11  Current Ver     9360 non-null   object \n",
      " 12  Android Ver     9360 non-null   object \n",
      "dtypes: float64(1), object(12)\n",
      "memory usage: 1023.8+ KB\n"
     ]
    }
   ],
   "source": [
    "inp0.info()"
   ]
  },
  {
   "cell_type": "markdown",
   "metadata": {
    "id": "bWju26fEULXA"
   },
   "source": [
    "#### <b> Handling the Variables </b>"
   ]
  },
  {
   "cell_type": "markdown",
   "metadata": {
    "id": "UWKyYsF7iYZj"
   },
   "source": [
    "**1. Clean the price column**"
   ]
  },
  {
   "cell_type": "code",
   "execution_count": 67,
   "metadata": {
    "id": "z0Km-RkWiYZk"
   },
   "outputs": [
    {
     "data": {
      "text/plain": [
       "0        8715\n",
       "$2.99     114\n",
       "$0.99     106\n",
       "$4.99      70\n",
       "$1.99      59\n",
       "Name: Price, dtype: int64"
      ]
     },
     "execution_count": 67,
     "metadata": {},
     "output_type": "execute_result"
    }
   ],
   "source": [
    "#Cleaning the price column\n",
    "inp0.Price.value_counts()[:5]"
   ]
  },
  {
   "cell_type": "markdown",
   "metadata": {
    "id": "GsFTB2GkiYZm"
   },
   "source": [
    "#### <b> Observations </b>\n",
    "Some have dollars, some have 0\n",
    "* We need to conditionally handle this.\n",
    "* First, let's modify the column to take 0 if value is 0, else take the first letter onwards."
   ]
  },
  {
   "cell_type": "code",
   "execution_count": 68,
   "metadata": {
    "id": "39s073WbiYZm"
   },
   "outputs": [],
   "source": [
    "#Modifying the column\n",
    "inp0['Price'] = inp0.Price.map(lambda x: 0 if x=='0' else float(x[1:]))"
   ]
  },
  {
   "cell_type": "code",
   "execution_count": 70,
   "metadata": {},
   "outputs": [
    {
     "data": {
      "text/plain": [
       "array([  0.  ,   4.99,   3.99,   6.99,   7.99,   5.99,   2.99,   3.49,\n",
       "         1.99,   9.99,   7.49,   0.99,   9.  ,   5.49,  10.  ,  24.99,\n",
       "        11.99,  79.99,  16.99,  14.99,  29.99,  12.99,   2.49,  10.99,\n",
       "         1.5 ,  19.99,  15.99,  33.99,  39.99,   3.95,   4.49,   1.7 ,\n",
       "         8.99,   1.49,   3.88, 399.99,  17.99, 400.  ,   3.02,   1.76,\n",
       "         4.84,   4.77,   1.61,   2.5 ,   1.59,   6.49,   1.29, 299.99,\n",
       "       379.99,  37.99,  18.99, 389.99,   8.49,   1.75,  14.  ,   2.  ,\n",
       "         3.08,   2.59,  19.4 ,   3.9 ,   4.59,  15.46,   3.04,  13.99,\n",
       "         4.29,   3.28,   4.6 ,   1.  ,   2.95,   2.9 ,   1.97,   2.56,\n",
       "         1.2 ])"
      ]
     },
     "execution_count": 70,
     "metadata": {},
     "output_type": "execute_result"
    }
   ],
   "source": [
    "inp0['Price'].unique()"
   ]
  },
  {
   "cell_type": "markdown",
   "metadata": {
    "id": "jA16xDwviYZp"
   },
   "source": [
    "**The other columns with numeric data are:<br>**\n",
    "1. Reviews\n",
    "2. Installs\n",
    "3. Size"
   ]
  },
  {
   "cell_type": "markdown",
   "metadata": {
    "id": "OeoT3_56iYZp"
   },
   "source": [
    "**2. Convert reviews to numeric**"
   ]
  },
  {
   "cell_type": "code",
   "execution_count": 71,
   "metadata": {
    "id": "UK1BOY4iiYZp"
   },
   "outputs": [],
   "source": [
    "#Converting reviews to numeric\n",
    "inp0.Reviews = inp0.Reviews.astype(\"int32\")"
   ]
  },
  {
   "cell_type": "code",
   "execution_count": 72,
   "metadata": {
    "id": "oyFJKcmniYZr"
   },
   "outputs": [
    {
     "data": {
      "text/plain": [
       "count    9.360000e+03\n",
       "mean     5.143767e+05\n",
       "std      3.145023e+06\n",
       "min      1.000000e+00\n",
       "25%      1.867500e+02\n",
       "50%      5.955000e+03\n",
       "75%      8.162750e+04\n",
       "max      7.815831e+07\n",
       "Name: Reviews, dtype: float64"
      ]
     },
     "execution_count": 72,
     "metadata": {},
     "output_type": "execute_result"
    }
   ],
   "source": [
    "inp0.Reviews.describe()"
   ]
  },
  {
   "cell_type": "markdown",
   "metadata": {
    "id": "ai6T8UdaiYZu"
   },
   "source": [
    "**3. Handle the installs column**"
   ]
  },
  {
   "cell_type": "code",
   "execution_count": 73,
   "metadata": {
    "id": "DE_b23nRiYZu"
   },
   "outputs": [
    {
     "data": {
      "text/plain": [
       "1,000,000+        1576\n",
       "10,000,000+       1252\n",
       "100,000+          1150\n",
       "10,000+           1009\n",
       "5,000,000+         752\n",
       "1,000+             712\n",
       "500,000+           537\n",
       "50,000+            466\n",
       "5,000+             431\n",
       "100,000,000+       409\n",
       "100+               309\n",
       "50,000,000+        289\n",
       "500+               201\n",
       "500,000,000+        72\n",
       "10+                 69\n",
       "1,000,000,000+      58\n",
       "50+                 56\n",
       "5+                   9\n",
       "1+                   3\n",
       "Name: Installs, dtype: int64"
      ]
     },
     "execution_count": 73,
     "metadata": {},
     "output_type": "execute_result"
    }
   ],
   "source": [
    "#Handling the installs column\n",
    "inp0.Installs.value_counts()"
   ]
  },
  {
   "cell_type": "markdown",
   "metadata": {
    "id": "2xTkBcWtiYZw"
   },
   "source": [
    "We'll need to remove the commas and the plus signs."
   ]
  },
  {
   "cell_type": "markdown",
   "metadata": {
    "id": "y8SDpiyAiYZw"
   },
   "source": [
    "<b> Defining function for the same </b>"
   ]
  },
  {
   "cell_type": "code",
   "execution_count": 74,
   "metadata": {
    "id": "ILohI9zHiYZx"
   },
   "outputs": [],
   "source": [
    "def clean_installs(val):\n",
    "    return int(val.replace(\",\",\"\").replace(\"+\",\"\"))"
   ]
  },
  {
   "cell_type": "code",
   "execution_count": 75,
   "metadata": {
    "id": "j4B6bJfFiYZz"
   },
   "outputs": [],
   "source": [
    "inp0.Installs = inp0.Installs.map(clean_installs)"
   ]
  },
  {
   "cell_type": "code",
   "execution_count": 76,
   "metadata": {
    "id": "X_mgD2ONiYZ1"
   },
   "outputs": [
    {
     "data": {
      "text/plain": [
       "count    9.360000e+03\n",
       "mean     1.790875e+07\n",
       "std      9.126637e+07\n",
       "min      1.000000e+00\n",
       "25%      1.000000e+04\n",
       "50%      5.000000e+05\n",
       "75%      5.000000e+06\n",
       "max      1.000000e+09\n",
       "Name: Installs, dtype: float64"
      ]
     },
     "execution_count": 76,
     "metadata": {},
     "output_type": "execute_result"
    }
   ],
   "source": [
    "inp0.Installs.describe()"
   ]
  },
  {
   "cell_type": "markdown",
   "metadata": {
    "id": "J1lIXPfviYZ3"
   },
   "source": [
    "**4. Handle the app size field**"
   ]
  },
  {
   "cell_type": "code",
   "execution_count": 77,
   "metadata": {
    "id": "lENw90neiYZ4"
   },
   "outputs": [],
   "source": [
    "#Handling the app size field\n",
    "def change_size(size):\n",
    "    if 'M' in size:\n",
    "        x = size[:-1]\n",
    "        x = float(x)*1000\n",
    "        return(x)\n",
    "    elif 'k' == size[-1:]:\n",
    "        x = size[:-1]\n",
    "        x = float(x)\n",
    "        return(x)\n",
    "    else:\n",
    "        return None"
   ]
  },
  {
   "cell_type": "code",
   "execution_count": 78,
   "metadata": {
    "id": "eG9fjJn8iYZ6"
   },
   "outputs": [],
   "source": [
    "inp0[\"Size\"] = inp0[\"Size\"].map(change_size)"
   ]
  },
  {
   "cell_type": "code",
   "execution_count": 79,
   "metadata": {
    "id": "232kUvlliYZ8"
   },
   "outputs": [
    {
     "data": {
      "text/plain": [
       "count      7723.000000\n",
       "mean      22970.456105\n",
       "std       23449.628935\n",
       "min           8.500000\n",
       "25%        5300.000000\n",
       "50%       14000.000000\n",
       "75%       33000.000000\n",
       "max      100000.000000\n",
       "Name: Size, dtype: float64"
      ]
     },
     "execution_count": 79,
     "metadata": {},
     "output_type": "execute_result"
    }
   ],
   "source": [
    "inp0.Size.describe()"
   ]
  },
  {
   "cell_type": "code",
   "execution_count": 80,
   "metadata": {
    "id": "BMJQPESkiYZ-"
   },
   "outputs": [],
   "source": [
    "#Filling Size which had NA\n",
    "inp0.Size.fillna(method = 'ffill', inplace = True)"
   ]
  },
  {
   "cell_type": "code",
   "execution_count": 81,
   "metadata": {
    "id": "GNUrivb0iYaA"
   },
   "outputs": [
    {
     "data": {
      "text/plain": [
       "App                object\n",
       "Category           object\n",
       "Rating            float64\n",
       "Reviews             int32\n",
       "Size              float64\n",
       "Installs            int64\n",
       "Type               object\n",
       "Price             float64\n",
       "Content_Rating     object\n",
       "Genres             object\n",
       "Last Updated       object\n",
       "Current Ver        object\n",
       "Android Ver        object\n",
       "dtype: object"
      ]
     },
     "execution_count": 81,
     "metadata": {},
     "output_type": "execute_result"
    }
   ],
   "source": [
    "#Checking datatypes\n",
    "inp0.dtypes"
   ]
  },
  {
   "cell_type": "markdown",
   "metadata": {
    "id": "yF-L5Vs-iYaC"
   },
   "source": [
    "#### **Sanity checks**"
   ]
  },
  {
   "cell_type": "markdown",
   "metadata": {
    "id": "sRUvEtMpiYaD"
   },
   "source": [
    "1. Average rating should be between 1 and 5, as only these values are allowed on Play Store. Drop any rows that have a value outside this range."
   ]
  },
  {
   "cell_type": "code",
   "execution_count": 83,
   "metadata": {
    "id": "wWqz6ARViYaD",
    "scrolled": true
   },
   "outputs": [
    {
     "data": {
      "text/plain": [
       "count    9360.000000\n",
       "mean        4.191838\n",
       "std         0.515263\n",
       "min         1.000000\n",
       "25%         4.000000\n",
       "50%         4.300000\n",
       "75%         4.500000\n",
       "max         5.000000\n",
       "Name: Rating, dtype: float64"
      ]
     },
     "execution_count": 83,
     "metadata": {},
     "output_type": "execute_result"
    }
   ],
   "source": [
    "#Checking the rating\n",
    "inp0.Rating.describe()"
   ]
  },
  {
   "cell_type": "markdown",
   "metadata": {
    "id": "6Ze0cfTyZgB4"
   },
   "source": [
    "#### <b> Observations </b>"
   ]
  },
  {
   "cell_type": "markdown",
   "metadata": {
    "id": "HNY_wVsziYaF"
   },
   "source": [
    "Min is 1 and max is 5. None of the values have rating outside the range."
   ]
  },
  {
   "cell_type": "markdown",
   "metadata": {
    "id": "L2o5-NgkiYaG"
   },
   "source": [
    "2. Reviews should not be more than installs as only those who installed can review the app."
   ]
  },
  {
   "cell_type": "markdown",
   "metadata": {
    "id": "Q6qjc2SciYaG"
   },
   "source": [
    "Checking if reviews are more than installs. Counting total rows like this."
   ]
  },
  {
   "cell_type": "code",
   "execution_count": 84,
   "metadata": {
    "id": "pCCYfKDfiYaG"
   },
   "outputs": [
    {
     "data": {
      "text/plain": [
       "7"
      ]
     },
     "execution_count": 84,
     "metadata": {},
     "output_type": "execute_result"
    }
   ],
   "source": [
    "#Checking and counting the rows\n",
    "len(inp0[inp0.Reviews > inp0.Installs])"
   ]
  },
  {
   "cell_type": "code",
   "execution_count": 85,
   "metadata": {
    "id": "trhR-Sq-iYaJ"
   },
   "outputs": [
    {
     "data": {
      "text/html": [
       "<div>\n",
       "<style scoped>\n",
       "    .dataframe tbody tr th:only-of-type {\n",
       "        vertical-align: middle;\n",
       "    }\n",
       "\n",
       "    .dataframe tbody tr th {\n",
       "        vertical-align: top;\n",
       "    }\n",
       "\n",
       "    .dataframe thead th {\n",
       "        text-align: right;\n",
       "    }\n",
       "</style>\n",
       "<table border=\"1\" class=\"dataframe\">\n",
       "  <thead>\n",
       "    <tr style=\"text-align: right;\">\n",
       "      <th></th>\n",
       "      <th>App</th>\n",
       "      <th>Category</th>\n",
       "      <th>Rating</th>\n",
       "      <th>Reviews</th>\n",
       "      <th>Size</th>\n",
       "      <th>Installs</th>\n",
       "      <th>Type</th>\n",
       "      <th>Price</th>\n",
       "      <th>Content_Rating</th>\n",
       "      <th>Genres</th>\n",
       "      <th>Last Updated</th>\n",
       "      <th>Current Ver</th>\n",
       "      <th>Android Ver</th>\n",
       "    </tr>\n",
       "  </thead>\n",
       "  <tbody>\n",
       "    <tr>\n",
       "      <th>2454</th>\n",
       "      <td>KBA-EZ Health Guide</td>\n",
       "      <td>MEDICAL</td>\n",
       "      <td>5.0</td>\n",
       "      <td>4</td>\n",
       "      <td>25000.0</td>\n",
       "      <td>1</td>\n",
       "      <td>Free</td>\n",
       "      <td>0.00</td>\n",
       "      <td>Everyone</td>\n",
       "      <td>Medical</td>\n",
       "      <td>August 2, 2018</td>\n",
       "      <td>1.0.72</td>\n",
       "      <td>4.0.3 and up</td>\n",
       "    </tr>\n",
       "    <tr>\n",
       "      <th>4663</th>\n",
       "      <td>Alarmy (Sleep If U Can) - Pro</td>\n",
       "      <td>LIFESTYLE</td>\n",
       "      <td>4.8</td>\n",
       "      <td>10249</td>\n",
       "      <td>30000.0</td>\n",
       "      <td>10000</td>\n",
       "      <td>Paid</td>\n",
       "      <td>2.49</td>\n",
       "      <td>Everyone</td>\n",
       "      <td>Lifestyle</td>\n",
       "      <td>July 30, 2018</td>\n",
       "      <td>Varies with device</td>\n",
       "      <td>Varies with device</td>\n",
       "    </tr>\n",
       "    <tr>\n",
       "      <th>5917</th>\n",
       "      <td>Ra Ga Ba</td>\n",
       "      <td>GAME</td>\n",
       "      <td>5.0</td>\n",
       "      <td>2</td>\n",
       "      <td>20000.0</td>\n",
       "      <td>1</td>\n",
       "      <td>Paid</td>\n",
       "      <td>1.49</td>\n",
       "      <td>Everyone</td>\n",
       "      <td>Arcade</td>\n",
       "      <td>February 8, 2017</td>\n",
       "      <td>1.0.4</td>\n",
       "      <td>2.3 and up</td>\n",
       "    </tr>\n",
       "    <tr>\n",
       "      <th>6700</th>\n",
       "      <td>Brick Breaker BR</td>\n",
       "      <td>GAME</td>\n",
       "      <td>5.0</td>\n",
       "      <td>7</td>\n",
       "      <td>19000.0</td>\n",
       "      <td>5</td>\n",
       "      <td>Free</td>\n",
       "      <td>0.00</td>\n",
       "      <td>Everyone</td>\n",
       "      <td>Arcade</td>\n",
       "      <td>July 23, 2018</td>\n",
       "      <td>1</td>\n",
       "      <td>4.1 and up</td>\n",
       "    </tr>\n",
       "    <tr>\n",
       "      <th>7402</th>\n",
       "      <td>Trovami se ci riesci</td>\n",
       "      <td>GAME</td>\n",
       "      <td>5.0</td>\n",
       "      <td>11</td>\n",
       "      <td>6100.0</td>\n",
       "      <td>10</td>\n",
       "      <td>Free</td>\n",
       "      <td>0.00</td>\n",
       "      <td>Everyone</td>\n",
       "      <td>Arcade</td>\n",
       "      <td>March 11, 2017</td>\n",
       "      <td>0.1</td>\n",
       "      <td>2.3 and up</td>\n",
       "    </tr>\n",
       "    <tr>\n",
       "      <th>8591</th>\n",
       "      <td>DN Blog</td>\n",
       "      <td>SOCIAL</td>\n",
       "      <td>5.0</td>\n",
       "      <td>20</td>\n",
       "      <td>4200.0</td>\n",
       "      <td>10</td>\n",
       "      <td>Free</td>\n",
       "      <td>0.00</td>\n",
       "      <td>Teen</td>\n",
       "      <td>Social</td>\n",
       "      <td>July 23, 2018</td>\n",
       "      <td>1</td>\n",
       "      <td>4.0 and up</td>\n",
       "    </tr>\n",
       "    <tr>\n",
       "      <th>10697</th>\n",
       "      <td>Mu.F.O.</td>\n",
       "      <td>GAME</td>\n",
       "      <td>5.0</td>\n",
       "      <td>2</td>\n",
       "      <td>16000.0</td>\n",
       "      <td>1</td>\n",
       "      <td>Paid</td>\n",
       "      <td>0.99</td>\n",
       "      <td>Everyone</td>\n",
       "      <td>Arcade</td>\n",
       "      <td>March 3, 2017</td>\n",
       "      <td>1</td>\n",
       "      <td>2.3 and up</td>\n",
       "    </tr>\n",
       "  </tbody>\n",
       "</table>\n",
       "</div>"
      ],
      "text/plain": [
       "                                 App   Category  Rating  Reviews     Size  \\\n",
       "2454             KBA-EZ Health Guide    MEDICAL     5.0        4  25000.0   \n",
       "4663   Alarmy (Sleep If U Can) - Pro  LIFESTYLE     4.8    10249  30000.0   \n",
       "5917                        Ra Ga Ba       GAME     5.0        2  20000.0   \n",
       "6700                Brick Breaker BR       GAME     5.0        7  19000.0   \n",
       "7402            Trovami se ci riesci       GAME     5.0       11   6100.0   \n",
       "8591                         DN Blog     SOCIAL     5.0       20   4200.0   \n",
       "10697                        Mu.F.O.       GAME     5.0        2  16000.0   \n",
       "\n",
       "       Installs  Type  Price Content_Rating     Genres      Last Updated  \\\n",
       "2454          1  Free   0.00       Everyone    Medical    August 2, 2018   \n",
       "4663      10000  Paid   2.49       Everyone  Lifestyle     July 30, 2018   \n",
       "5917          1  Paid   1.49       Everyone     Arcade  February 8, 2017   \n",
       "6700          5  Free   0.00       Everyone     Arcade     July 23, 2018   \n",
       "7402         10  Free   0.00       Everyone     Arcade    March 11, 2017   \n",
       "8591         10  Free   0.00           Teen     Social     July 23, 2018   \n",
       "10697         1  Paid   0.99       Everyone     Arcade     March 3, 2017   \n",
       "\n",
       "              Current Ver         Android Ver  \n",
       "2454               1.0.72        4.0.3 and up  \n",
       "4663   Varies with device  Varies with device  \n",
       "5917                1.0.4          2.3 and up  \n",
       "6700                    1          4.1 and up  \n",
       "7402                  0.1          2.3 and up  \n",
       "8591                    1          4.0 and up  \n",
       "10697                   1          2.3 and up  "
      ]
     },
     "execution_count": 85,
     "metadata": {},
     "output_type": "execute_result"
    }
   ],
   "source": [
    "inp0[inp0.Reviews > inp0.Installs]"
   ]
  },
  {
   "cell_type": "code",
   "execution_count": 86,
   "metadata": {},
   "outputs": [],
   "source": [
    "inp0=inp0[inp0.Reviews <= inp0.Installs].copy()"
   ]
  },
  {
   "cell_type": "code",
   "execution_count": 87,
   "metadata": {
    "id": "wbkBvVLOiYaN"
   },
   "outputs": [
    {
     "data": {
      "text/plain": [
       "(9353, 13)"
      ]
     },
     "execution_count": 87,
     "metadata": {},
     "output_type": "execute_result"
    }
   ],
   "source": [
    "inp0.shape"
   ]
  },
  {
   "cell_type": "markdown",
   "metadata": {
    "id": "o7mV1Ug0iYaT"
   },
   "source": [
    "3. For free apps **(Type == “Free”)**, the price should not be **> 0**. Drop any such rows."
   ]
  },
  {
   "cell_type": "code",
   "execution_count": 88,
   "metadata": {
    "id": "PCWSrL1jiYaT"
   },
   "outputs": [
    {
     "data": {
      "text/plain": [
       "0"
      ]
     },
     "execution_count": 88,
     "metadata": {},
     "output_type": "execute_result"
    }
   ],
   "source": [
    "len(inp0[(inp0.Type == \"Free\") & (inp0.Price>0)])"
   ]
  },
  {
   "cell_type": "markdown",
   "metadata": {
    "id": "MytS2idhiYaV"
   },
   "source": [
    "#### **EDA**"
   ]
  },
  {
   "cell_type": "markdown",
   "metadata": {
    "id": "1IUocNLqiYaW"
   },
   "source": [
    "#### <b> Box Plot: Price</b>"
   ]
  },
  {
   "cell_type": "code",
   "execution_count": 89,
   "metadata": {
    "id": "L2joMoc-iYaW"
   },
   "outputs": [
    {
     "name": "stderr",
     "output_type": "stream",
     "text": [
      "C:\\Users\\Maa\\anaconda3\\lib\\site-packages\\seaborn\\_decorators.py:36: FutureWarning: Pass the following variable as a keyword arg: x. From version 0.12, the only valid positional argument will be `data`, and passing other arguments without an explicit keyword will result in an error or misinterpretation.\n",
      "  warnings.warn(\n"
     ]
    },
    {
     "data": {
      "image/png": "[encoded data removed]",
      "text/plain": [
       "<Figure size 432x288 with 1 Axes>"
      ]
     },
     "metadata": {
      "needs_background": "light"
     },
     "output_type": "display_data"
    }
   ],
   "source": [
    "#Are there any outliers? Think about the price of usual apps on the Play Store.\n",
    "sns.boxplot(inp0.Price)\n",
    "plt.show()"
   ]
  },
  {
   "cell_type": "markdown",
   "metadata": {
    "id": "LBUZ1sI9iYaY"
   },
   "source": [
    "#### <b> Box Plot: Reviews</b>"
   ]
  },
  {
   "cell_type": "code",
   "execution_count": 90,
   "metadata": {
    "id": "Y4W5mSiviYaY"
   },
   "outputs": [
    {
     "name": "stderr",
     "output_type": "stream",
     "text": [
      "C:\\Users\\Maa\\anaconda3\\lib\\site-packages\\seaborn\\_decorators.py:36: FutureWarning: Pass the following variable as a keyword arg: x. From version 0.12, the only valid positional argument will be `data`, and passing other arguments without an explicit keyword will result in an error or misinterpretation.\n",
      "  warnings.warn(\n"
     ]
    },
    {
     "data": {
      "image/png": "[encoded data removed]",
      "text/plain": [
       "<Figure size 432x288 with 1 Axes>"
      ]
     },
     "metadata": {
      "needs_background": "light"
     },
     "output_type": "display_data"
    }
   ],
   "source": [
    "#Are there any apps with very high number of reviews? Do the values seem right?\n",
    "sns.boxplot(inp0.Reviews)\n",
    "plt.show()"
   ]
  },
  {
   "cell_type": "markdown",
   "metadata": {
    "id": "vW9AgNBVa1Wc"
   },
   "source": [
    "#### **Checking Distribution and Skewness:**\n",
    "\n",
    "How are the ratings distributed? Is it more toward higher ratings?"
   ]
  },
  {
   "cell_type": "markdown",
   "metadata": {
    "id": "ndvWSN3RiYaa"
   },
   "source": [
    "##### **Distribution of Ratings**"
   ]
  },
  {
   "cell_type": "code",
   "execution_count": 91,
   "metadata": {
    "id": "Xw7CH8UliYab"
   },
   "outputs": [
    {
     "data": {
      "image/png": "[encoded data removed]",
      "text/plain": [
       "<Figure size 432x288 with 1 Axes>"
      ]
     },
     "metadata": {
      "needs_background": "light"
     },
     "output_type": "display_data"
    }
   ],
   "source": [
    "#Distributing the ratings\n",
    "inp0.Rating.plot.hist()\n",
    "#Show plot\n",
    "plt.show()"
   ]
  },
  {
   "cell_type": "markdown",
   "metadata": {
    "id": "4wZHlXf-iYad"
   },
   "source": [
    "##### **Histogram: Size**"
   ]
  },
  {
   "cell_type": "code",
   "execution_count": 92,
   "metadata": {
    "id": "ib13K1wSiYad"
   },
   "outputs": [
    {
     "data": {
      "image/png": "[encoded data removed]",
      "text/plain": [
       "<Figure size 432x288 with 1 Axes>"
      ]
     },
     "metadata": {
      "needs_background": "light"
     },
     "output_type": "display_data"
    }
   ],
   "source": [
    "inp0['Size'].plot.hist()\n",
    "#Show plot\n",
    "plt.show()"
   ]
  },
  {
   "cell_type": "markdown",
   "metadata": {
    "id": "f7vcIm-pZgB8"
   },
   "source": [
    "#### <b> Observations </b>\n",
    "A histogram is plotted with ratings on the x-axis and frequency on the y-axis, and the ratings are distributed."
   ]
  },
  {
   "cell_type": "code",
   "execution_count": 38,
   "metadata": {
    "id": "18slR9triYaf"
   },
   "outputs": [
    {
     "data": {
      "text/plain": [
       "<seaborn.axisgrid.PairGrid at 0x18c0fab7250>"
      ]
     },
     "execution_count": 38,
     "metadata": {},
     "output_type": "execute_result"
    },
    {
     "data": {
      "image/png": "[encoded data removed]",
      "text/plain": [
       "<Figure size 900x900 with 30 Axes>"
      ]
     },
     "metadata": {
      "needs_background": "light"
     },
     "output_type": "display_data"
    }
   ],
   "source": [
    "#Pair plot\n",
    "sns.pairplot(data=inp0)"
   ]
  },
  {
   "cell_type": "markdown",
   "metadata": {
    "id": "PXV4d2U6iYah"
   },
   "source": [
    "##### **Outlier Treatment:**\n"
   ]
  },
  {
   "cell_type": "markdown",
   "metadata": {
    "id": "LCxDNFiDdwln"
   },
   "source": [
    "##### **1. Price:** \n",
    "\n",
    "From the box plot, it seems like there are some apps with very high prices. A price of $200 for an application on the Play Store is very high and suspicious.\n",
    "Check the records that have very high price:\n",
    "Is 200 a high price?"
   ]
  },
  {
   "cell_type": "code",
   "execution_count": 93,
   "metadata": {
    "id": "Cx1sY6HCiYah",
    "scrolled": true
   },
   "outputs": [
    {
     "data": {
      "text/plain": [
       "15"
      ]
     },
     "execution_count": 93,
     "metadata": {},
     "output_type": "execute_result"
    }
   ],
   "source": [
    "#Checking the records\n",
    "len(inp0[inp0.Price > 200])"
   ]
  },
  {
   "cell_type": "code",
   "execution_count": 94,
   "metadata": {
    "id": "dNN02OKgiYaj"
   },
   "outputs": [
    {
     "data": {
      "text/html": [
       "<div>\n",
       "<style scoped>\n",
       "    .dataframe tbody tr th:only-of-type {\n",
       "        vertical-align: middle;\n",
       "    }\n",
       "\n",
       "    .dataframe tbody tr th {\n",
       "        vertical-align: top;\n",
       "    }\n",
       "\n",
       "    .dataframe thead th {\n",
       "        text-align: right;\n",
       "    }\n",
       "</style>\n",
       "<table border=\"1\" class=\"dataframe\">\n",
       "  <thead>\n",
       "    <tr style=\"text-align: right;\">\n",
       "      <th></th>\n",
       "      <th>App</th>\n",
       "      <th>Category</th>\n",
       "      <th>Rating</th>\n",
       "      <th>Reviews</th>\n",
       "      <th>Size</th>\n",
       "      <th>Installs</th>\n",
       "      <th>Type</th>\n",
       "      <th>Price</th>\n",
       "      <th>Content_Rating</th>\n",
       "      <th>Genres</th>\n",
       "      <th>Last Updated</th>\n",
       "      <th>Current Ver</th>\n",
       "      <th>Android Ver</th>\n",
       "    </tr>\n",
       "  </thead>\n",
       "  <tbody>\n",
       "    <tr>\n",
       "      <th>4197</th>\n",
       "      <td>most expensive app (H)</td>\n",
       "      <td>FAMILY</td>\n",
       "      <td>4.3</td>\n",
       "      <td>6</td>\n",
       "      <td>1500.0</td>\n",
       "      <td>100</td>\n",
       "      <td>Paid</td>\n",
       "      <td>399.99</td>\n",
       "      <td>Everyone</td>\n",
       "      <td>Entertainment</td>\n",
       "      <td>July 16, 2018</td>\n",
       "      <td>1</td>\n",
       "      <td>7.0 and up</td>\n",
       "    </tr>\n",
       "    <tr>\n",
       "      <th>4362</th>\n",
       "      <td>💎 I'm rich</td>\n",
       "      <td>LIFESTYLE</td>\n",
       "      <td>3.8</td>\n",
       "      <td>718</td>\n",
       "      <td>26000.0</td>\n",
       "      <td>10000</td>\n",
       "      <td>Paid</td>\n",
       "      <td>399.99</td>\n",
       "      <td>Everyone</td>\n",
       "      <td>Lifestyle</td>\n",
       "      <td>March 11, 2018</td>\n",
       "      <td>1.0.0</td>\n",
       "      <td>4.4 and up</td>\n",
       "    </tr>\n",
       "    <tr>\n",
       "      <th>4367</th>\n",
       "      <td>I'm Rich - Trump Edition</td>\n",
       "      <td>LIFESTYLE</td>\n",
       "      <td>3.6</td>\n",
       "      <td>275</td>\n",
       "      <td>7300.0</td>\n",
       "      <td>10000</td>\n",
       "      <td>Paid</td>\n",
       "      <td>400.00</td>\n",
       "      <td>Everyone</td>\n",
       "      <td>Lifestyle</td>\n",
       "      <td>May 3, 2018</td>\n",
       "      <td>1.0.1</td>\n",
       "      <td>4.1 and up</td>\n",
       "    </tr>\n",
       "    <tr>\n",
       "      <th>5351</th>\n",
       "      <td>I am rich</td>\n",
       "      <td>LIFESTYLE</td>\n",
       "      <td>3.8</td>\n",
       "      <td>3547</td>\n",
       "      <td>1800.0</td>\n",
       "      <td>100000</td>\n",
       "      <td>Paid</td>\n",
       "      <td>399.99</td>\n",
       "      <td>Everyone</td>\n",
       "      <td>Lifestyle</td>\n",
       "      <td>January 12, 2018</td>\n",
       "      <td>2</td>\n",
       "      <td>4.0.3 and up</td>\n",
       "    </tr>\n",
       "    <tr>\n",
       "      <th>5354</th>\n",
       "      <td>I am Rich Plus</td>\n",
       "      <td>FAMILY</td>\n",
       "      <td>4.0</td>\n",
       "      <td>856</td>\n",
       "      <td>8700.0</td>\n",
       "      <td>10000</td>\n",
       "      <td>Paid</td>\n",
       "      <td>399.99</td>\n",
       "      <td>Everyone</td>\n",
       "      <td>Entertainment</td>\n",
       "      <td>May 19, 2018</td>\n",
       "      <td>3</td>\n",
       "      <td>4.4 and up</td>\n",
       "    </tr>\n",
       "    <tr>\n",
       "      <th>5355</th>\n",
       "      <td>I am rich VIP</td>\n",
       "      <td>LIFESTYLE</td>\n",
       "      <td>3.8</td>\n",
       "      <td>411</td>\n",
       "      <td>2600.0</td>\n",
       "      <td>10000</td>\n",
       "      <td>Paid</td>\n",
       "      <td>299.99</td>\n",
       "      <td>Everyone</td>\n",
       "      <td>Lifestyle</td>\n",
       "      <td>July 21, 2018</td>\n",
       "      <td>1.1.1</td>\n",
       "      <td>4.3 and up</td>\n",
       "    </tr>\n",
       "    <tr>\n",
       "      <th>5356</th>\n",
       "      <td>I Am Rich Premium</td>\n",
       "      <td>FINANCE</td>\n",
       "      <td>4.1</td>\n",
       "      <td>1867</td>\n",
       "      <td>4700.0</td>\n",
       "      <td>50000</td>\n",
       "      <td>Paid</td>\n",
       "      <td>399.99</td>\n",
       "      <td>Everyone</td>\n",
       "      <td>Finance</td>\n",
       "      <td>November 12, 2017</td>\n",
       "      <td>1.6</td>\n",
       "      <td>4.0 and up</td>\n",
       "    </tr>\n",
       "    <tr>\n",
       "      <th>5357</th>\n",
       "      <td>I am extremely Rich</td>\n",
       "      <td>LIFESTYLE</td>\n",
       "      <td>2.9</td>\n",
       "      <td>41</td>\n",
       "      <td>2900.0</td>\n",
       "      <td>1000</td>\n",
       "      <td>Paid</td>\n",
       "      <td>379.99</td>\n",
       "      <td>Everyone</td>\n",
       "      <td>Lifestyle</td>\n",
       "      <td>July 1, 2018</td>\n",
       "      <td>1</td>\n",
       "      <td>4.0 and up</td>\n",
       "    </tr>\n",
       "    <tr>\n",
       "      <th>5358</th>\n",
       "      <td>I am Rich!</td>\n",
       "      <td>FINANCE</td>\n",
       "      <td>3.8</td>\n",
       "      <td>93</td>\n",
       "      <td>22000.0</td>\n",
       "      <td>1000</td>\n",
       "      <td>Paid</td>\n",
       "      <td>399.99</td>\n",
       "      <td>Everyone</td>\n",
       "      <td>Finance</td>\n",
       "      <td>December 11, 2017</td>\n",
       "      <td>1</td>\n",
       "      <td>4.1 and up</td>\n",
       "    </tr>\n",
       "    <tr>\n",
       "      <th>5359</th>\n",
       "      <td>I am rich(premium)</td>\n",
       "      <td>FINANCE</td>\n",
       "      <td>3.5</td>\n",
       "      <td>472</td>\n",
       "      <td>965.0</td>\n",
       "      <td>5000</td>\n",
       "      <td>Paid</td>\n",
       "      <td>399.99</td>\n",
       "      <td>Everyone</td>\n",
       "      <td>Finance</td>\n",
       "      <td>May 1, 2017</td>\n",
       "      <td>3.4</td>\n",
       "      <td>4.4 and up</td>\n",
       "    </tr>\n",
       "    <tr>\n",
       "      <th>5362</th>\n",
       "      <td>I Am Rich Pro</td>\n",
       "      <td>FAMILY</td>\n",
       "      <td>4.4</td>\n",
       "      <td>201</td>\n",
       "      <td>2700.0</td>\n",
       "      <td>5000</td>\n",
       "      <td>Paid</td>\n",
       "      <td>399.99</td>\n",
       "      <td>Everyone</td>\n",
       "      <td>Entertainment</td>\n",
       "      <td>May 30, 2017</td>\n",
       "      <td>1.54</td>\n",
       "      <td>1.6 and up</td>\n",
       "    </tr>\n",
       "    <tr>\n",
       "      <th>5364</th>\n",
       "      <td>I am rich (Most expensive app)</td>\n",
       "      <td>FINANCE</td>\n",
       "      <td>4.1</td>\n",
       "      <td>129</td>\n",
       "      <td>2700.0</td>\n",
       "      <td>1000</td>\n",
       "      <td>Paid</td>\n",
       "      <td>399.99</td>\n",
       "      <td>Teen</td>\n",
       "      <td>Finance</td>\n",
       "      <td>December 6, 2017</td>\n",
       "      <td>2</td>\n",
       "      <td>4.0.3 and up</td>\n",
       "    </tr>\n",
       "    <tr>\n",
       "      <th>5366</th>\n",
       "      <td>I Am Rich</td>\n",
       "      <td>FAMILY</td>\n",
       "      <td>3.6</td>\n",
       "      <td>217</td>\n",
       "      <td>4900.0</td>\n",
       "      <td>10000</td>\n",
       "      <td>Paid</td>\n",
       "      <td>389.99</td>\n",
       "      <td>Everyone</td>\n",
       "      <td>Entertainment</td>\n",
       "      <td>June 22, 2018</td>\n",
       "      <td>1.5</td>\n",
       "      <td>4.2 and up</td>\n",
       "    </tr>\n",
       "    <tr>\n",
       "      <th>5369</th>\n",
       "      <td>I am Rich</td>\n",
       "      <td>FINANCE</td>\n",
       "      <td>4.3</td>\n",
       "      <td>180</td>\n",
       "      <td>3800.0</td>\n",
       "      <td>5000</td>\n",
       "      <td>Paid</td>\n",
       "      <td>399.99</td>\n",
       "      <td>Everyone</td>\n",
       "      <td>Finance</td>\n",
       "      <td>March 22, 2018</td>\n",
       "      <td>1</td>\n",
       "      <td>4.2 and up</td>\n",
       "    </tr>\n",
       "    <tr>\n",
       "      <th>5373</th>\n",
       "      <td>I AM RICH PRO PLUS</td>\n",
       "      <td>FINANCE</td>\n",
       "      <td>4.0</td>\n",
       "      <td>36</td>\n",
       "      <td>41000.0</td>\n",
       "      <td>1000</td>\n",
       "      <td>Paid</td>\n",
       "      <td>399.99</td>\n",
       "      <td>Everyone</td>\n",
       "      <td>Finance</td>\n",
       "      <td>June 25, 2018</td>\n",
       "      <td>1.0.2</td>\n",
       "      <td>4.1 and up</td>\n",
       "    </tr>\n",
       "  </tbody>\n",
       "</table>\n",
       "</div>"
      ],
      "text/plain": [
       "                                 App   Category  Rating  Reviews     Size  \\\n",
       "4197          most expensive app (H)     FAMILY     4.3        6   1500.0   \n",
       "4362                      💎 I'm rich  LIFESTYLE     3.8      718  26000.0   \n",
       "4367        I'm Rich - Trump Edition  LIFESTYLE     3.6      275   7300.0   \n",
       "5351                       I am rich  LIFESTYLE     3.8     3547   1800.0   \n",
       "5354                  I am Rich Plus     FAMILY     4.0      856   8700.0   \n",
       "5355                   I am rich VIP  LIFESTYLE     3.8      411   2600.0   \n",
       "5356               I Am Rich Premium    FINANCE     4.1     1867   4700.0   \n",
       "5357             I am extremely Rich  LIFESTYLE     2.9       41   2900.0   \n",
       "5358                      I am Rich!    FINANCE     3.8       93  22000.0   \n",
       "5359              I am rich(premium)    FINANCE     3.5      472    965.0   \n",
       "5362                   I Am Rich Pro     FAMILY     4.4      201   2700.0   \n",
       "5364  I am rich (Most expensive app)    FINANCE     4.1      129   2700.0   \n",
       "5366                       I Am Rich     FAMILY     3.6      217   4900.0   \n",
       "5369                       I am Rich    FINANCE     4.3      180   3800.0   \n",
       "5373              I AM RICH PRO PLUS    FINANCE     4.0       36  41000.0   \n",
       "\n",
       "      Installs  Type   Price Content_Rating         Genres       Last Updated  \\\n",
       "4197       100  Paid  399.99       Everyone  Entertainment      July 16, 2018   \n",
       "4362     10000  Paid  399.99       Everyone      Lifestyle     March 11, 2018   \n",
       "4367     10000  Paid  400.00       Everyone      Lifestyle        May 3, 2018   \n",
       "5351    100000  Paid  399.99       Everyone      Lifestyle   January 12, 2018   \n",
       "5354     10000  Paid  399.99       Everyone  Entertainment       May 19, 2018   \n",
       "5355     10000  Paid  299.99       Everyone      Lifestyle      July 21, 2018   \n",
       "5356     50000  Paid  399.99       Everyone        Finance  November 12, 2017   \n",
       "5357      1000  Paid  379.99       Everyone      Lifestyle       July 1, 2018   \n",
       "5358      1000  Paid  399.99       Everyone        Finance  December 11, 2017   \n",
       "5359      5000  Paid  399.99       Everyone        Finance        May 1, 2017   \n",
       "5362      5000  Paid  399.99       Everyone  Entertainment       May 30, 2017   \n",
       "5364      1000  Paid  399.99           Teen        Finance   December 6, 2017   \n",
       "5366     10000  Paid  389.99       Everyone  Entertainment      June 22, 2018   \n",
       "5369      5000  Paid  399.99       Everyone        Finance     March 22, 2018   \n",
       "5373      1000  Paid  399.99       Everyone        Finance      June 25, 2018   \n",
       "\n",
       "     Current Ver   Android Ver  \n",
       "4197           1    7.0 and up  \n",
       "4362       1.0.0    4.4 and up  \n",
       "4367       1.0.1    4.1 and up  \n",
       "5351           2  4.0.3 and up  \n",
       "5354           3    4.4 and up  \n",
       "5355       1.1.1    4.3 and up  \n",
       "5356         1.6    4.0 and up  \n",
       "5357           1    4.0 and up  \n",
       "5358           1    4.1 and up  \n",
       "5359         3.4    4.4 and up  \n",
       "5362        1.54    1.6 and up  \n",
       "5364           2  4.0.3 and up  \n",
       "5366         1.5    4.2 and up  \n",
       "5369           1    4.2 and up  \n",
       "5373       1.0.2    4.1 and up  "
      ]
     },
     "execution_count": 94,
     "metadata": {},
     "output_type": "execute_result"
    }
   ],
   "source": [
    "inp0[inp0.Price > 200]"
   ]
  },
  {
   "cell_type": "code",
   "execution_count": 36,
   "metadata": {
    "id": "CpqkCkmeiYal"
   },
   "outputs": [
    {
     "data": {
      "text/plain": [
       "(9338, 13)"
      ]
     },
     "execution_count": 36,
     "metadata": {},
     "output_type": "execute_result"
    }
   ],
   "source": [
    "inp0 = inp0[inp0.Price <= 200].copy()\n",
    "\n",
    "inp0.shape"
   ]
  },
  {
   "cell_type": "markdown",
   "metadata": {
    "id": "UvbcViJ2d8-Y"
   },
   "source": [
    "##### **2. Reviews:**\n",
    "\n",
    "Very few apps have very high number of reviews. These are all star apps that don’t help with the analysis and, in fact, will skew it. Drop records having more than 2 million reviews."
   ]
  },
  {
   "cell_type": "code",
   "execution_count": 96,
   "metadata": {
    "id": "U8uOf23NiYao"
   },
   "outputs": [
    {
     "data": {
      "text/plain": [
       "(8900, 13)"
      ]
     },
     "execution_count": 96,
     "metadata": {},
     "output_type": "execute_result"
    }
   ],
   "source": [
    "#Dropping the records with more than 2 million reviews\n",
    "inp0 = inp0[inp0.Reviews <= 2000000]\n",
    "inp0.shape"
   ]
  },
  {
   "cell_type": "markdown",
   "metadata": {
    "id": "HXtw_jNiiYar"
   },
   "source": [
    "##### **3. Installs:**\n",
    "\n",
    "There seem to be some outliers in this field too. Apps having a very high number of installs should be dropped from the analysis.\n",
    "Find out the different percentiles – 10, 25, 50, 70, 90, 95, 99.\n",
    "\n",
    "Decide a threshold as the cutoff for outliers and drop records having values more than the threshold.\n",
    "\n",
    "\n"
   ]
  },
  {
   "cell_type": "code",
   "execution_count": 97,
   "metadata": {
    "id": "bHCK_AwdiYar"
   },
   "outputs": [
    {
     "data": {
      "text/plain": [
       "0.10         1000.0\n",
       "0.25        10000.0\n",
       "0.50       500000.0\n",
       "0.70      1000000.0\n",
       "0.90     10000000.0\n",
       "0.95     10000000.0\n",
       "0.99    100000000.0\n",
       "Name: Installs, dtype: float64"
      ]
     },
     "execution_count": 97,
     "metadata": {},
     "output_type": "execute_result"
    }
   ],
   "source": [
    "#Dropping the apps that have a very high number of installs\n",
    "inp0.Installs.quantile([0.1, 0.25, 0.5, 0.70, 0.9, 0.95, 0.99])"
   ]
  },
  {
   "cell_type": "markdown",
   "metadata": {
    "id": "i2uTG0sNZgB9"
   },
   "source": [
    "#### <b> Observations </b>"
   ]
  },
  {
   "cell_type": "markdown",
   "metadata": {
    "id": "ak3aontjiYau"
   },
   "source": [
    "Looks like there are just 1% of apps having more than 100M installs. These apps might be genuine, but will definitely skew our analysis.  \n",
    "We need to drop these.\n"
   ]
  },
  {
   "cell_type": "code",
   "execution_count": 98,
   "metadata": {
    "id": "h36NFnV8iYau"
   },
   "outputs": [
    {
     "data": {
      "text/plain": [
       "6"
      ]
     },
     "execution_count": 98,
     "metadata": {},
     "output_type": "execute_result"
    }
   ],
   "source": [
    "#Dropping the apps with more than 100M installs\n",
    "len(inp0[inp0.Installs >= 1000000000])"
   ]
  },
  {
   "cell_type": "code",
   "execution_count": 99,
   "metadata": {
    "id": "cfD2ZFf9iYax"
   },
   "outputs": [
    {
     "data": {
      "text/plain": [
       "(8894, 13)"
      ]
     },
     "execution_count": 99,
     "metadata": {},
     "output_type": "execute_result"
    }
   ],
   "source": [
    "inp0 = inp0[inp0.Installs < 1000000000].copy()\n",
    "inp0.shape"
   ]
  },
  {
   "cell_type": "code",
   "execution_count": 100,
   "metadata": {
    "id": "hrZkGODGiYa0"
   },
   "outputs": [],
   "source": [
    "#Importing warnings\n",
    "import warnings\n",
    "warnings.filterwarnings(\"ignore\")"
   ]
  },
  {
   "cell_type": "markdown",
   "metadata": {
    "id": "0p7aaAfYiYa2"
   },
   "source": [
    "#### **Bi-variate Analysis:**"
   ]
  },
  {
   "cell_type": "markdown",
   "metadata": {
    "id": "eWEdZlW4fo2U"
   },
   "source": [
    "Let’s look at how the available predictors relate to the variable of interest, i.e., our target variable rating. Make scatter plots (for numeric features) and box plots (for character features) to assess the relationhips between rating and the other features."
   ]
  },
  {
   "cell_type": "markdown",
   "metadata": {
    "id": "z3a_GTWViYa2"
   },
   "source": [
    "##### **1.\tMake scatter plot/join plot for Rating vs. Price**"
   ]
  },
  {
   "cell_type": "code",
   "execution_count": 123,
   "metadata": {
    "id": "SEtsOwwIiYa3"
   },
   "outputs": [
    {
     "data": {
      "text/plain": [
       "<seaborn.axisgrid.JointGrid at 0x18c1d45f730>"
      ]
     },
     "execution_count": 123,
     "metadata": {},
     "output_type": "execute_result"
    },
    {
     "data": {
      "image/png": "[encoded data removed]",
      "text/plain": [
       "<Figure size 432x432 with 3 Axes>"
      ]
     },
     "metadata": {
      "needs_background": "light"
     },
     "output_type": "display_data"
    }
   ],
   "source": [
    "#What pattern do you observe? Does rating increase with price?\n",
    "sns.jointplot(inp0.Price, inp0.Rating)"
   ]
  },
  {
   "cell_type": "markdown",
   "metadata": {
    "id": "jTntjoDiiYa6"
   },
   "source": [
    "##### **2.\tMake scatter plot/joinplot for Rating vs Size**"
   ]
  },
  {
   "cell_type": "code",
   "execution_count": 124,
   "metadata": {
    "id": "jYfuh8YRiYa6"
   },
   "outputs": [
    {
     "data": {
      "text/plain": [
       "<seaborn.axisgrid.JointGrid at 0x18c1b982580>"
      ]
     },
     "execution_count": 124,
     "metadata": {},
     "output_type": "execute_result"
    },
    {
     "data": {
      "image/png": "[encoded data removed]",
      "text/plain": [
       "<Figure size 432x432 with 3 Axes>"
      ]
     },
     "metadata": {
      "needs_background": "light"
     },
     "output_type": "display_data"
    }
   ],
   "source": [
    "#Are heavier apps rated better?\n",
    "sns.jointplot(inp0.Size, inp0.Rating)"
   ]
  },
  {
   "cell_type": "markdown",
   "metadata": {
    "id": "d5YUE0-yiYa8"
   },
   "source": [
    "##### **3.\tMake scatter plot/joinplot for Rating vs Reviews**"
   ]
  },
  {
   "cell_type": "code",
   "execution_count": 125,
   "metadata": {
    "id": "sAnz2OOxiYa9"
   },
   "outputs": [
    {
     "data": {
      "text/plain": [
       "<seaborn.axisgrid.JointGrid at 0x18c1d84e7c0>"
      ]
     },
     "execution_count": 125,
     "metadata": {},
     "output_type": "execute_result"
    },
    {
     "data": {
      "image/png": "[encoded data removed]",
      "text/plain": [
       "<Figure size 432x432 with 3 Axes>"
      ]
     },
     "metadata": {
      "needs_background": "light"
     },
     "output_type": "display_data"
    }
   ],
   "source": [
    "# Does more review mean a better rating always?\n",
    "sns.jointplot(inp0.Reviews, inp0.Rating)"
   ]
  },
  {
   "cell_type": "markdown",
   "metadata": {
    "id": "TUNw3cfbiYbA"
   },
   "source": [
    "##### **4.\tMake boxplot for Rating vs Content Rating**"
   ]
  },
  {
   "cell_type": "code",
   "execution_count": 126,
   "metadata": {
    "id": "ByNz7YM6iYbB"
   },
   "outputs": [
    {
     "data": {
      "text/plain": [
       "<AxesSubplot:xlabel='Content_Rating', ylabel='Rating'>"
      ]
     },
     "execution_count": 126,
     "metadata": {},
     "output_type": "execute_result"
    },
    {
     "data": {
      "image/png": "[encoded data removed]",
      "text/plain": [
       "<Figure size 576x432 with 1 Axes>"
      ]
     },
     "metadata": {
      "needs_background": "light"
     },
     "output_type": "display_data"
    }
   ],
   "source": [
    "#Is there any difference in the ratings? Are some types liked better?\n",
    "plt.figure(figsize=[8,6])\n",
    "sns.boxplot(inp0['Content_Rating'], inp0.Rating)"
   ]
  },
  {
   "cell_type": "markdown",
   "metadata": {
    "id": "cTsKCO1MgKNv"
   },
   "source": [
    "##### **5. Make boxplot for Ratings vs. Category**"
   ]
  },
  {
   "cell_type": "code",
   "execution_count": 127,
   "metadata": {
    "id": "uW4cbujciYbC"
   },
   "outputs": [
    {
     "data": {
      "text/plain": [
       "(array([ 0,  1,  2,  3,  4,  5,  6,  7,  8,  9, 10, 11, 12, 13, 14, 15, 16,\n",
       "        17, 18, 19, 20, 21, 22, 23, 24, 25, 26, 27, 28, 29, 30, 31, 32]),\n",
       " [Text(0, 0, 'ART_AND_DESIGN'),\n",
       "  Text(1, 0, 'AUTO_AND_VEHICLES'),\n",
       "  Text(2, 0, 'BEAUTY'),\n",
       "  Text(3, 0, 'BOOKS_AND_REFERENCE'),\n",
       "  Text(4, 0, 'BUSINESS'),\n",
       "  Text(5, 0, 'COMICS'),\n",
       "  Text(6, 0, 'COMMUNICATION'),\n",
       "  Text(7, 0, 'DATING'),\n",
       "  Text(8, 0, 'EDUCATION'),\n",
       "  Text(9, 0, 'ENTERTAINMENT'),\n",
       "  Text(10, 0, 'EVENTS'),\n",
       "  Text(11, 0, 'FINANCE'),\n",
       "  Text(12, 0, 'FOOD_AND_DRINK'),\n",
       "  Text(13, 0, 'HEALTH_AND_FITNESS'),\n",
       "  Text(14, 0, 'HOUSE_AND_HOME'),\n",
       "  Text(15, 0, 'LIBRARIES_AND_DEMO'),\n",
       "  Text(16, 0, 'LIFESTYLE'),\n",
       "  Text(17, 0, 'GAME'),\n",
       "  Text(18, 0, 'FAMILY'),\n",
       "  Text(19, 0, 'MEDICAL'),\n",
       "  Text(20, 0, 'SOCIAL'),\n",
       "  Text(21, 0, 'SHOPPING'),\n",
       "  Text(22, 0, 'PHOTOGRAPHY'),\n",
       "  Text(23, 0, 'SPORTS'),\n",
       "  Text(24, 0, 'TRAVEL_AND_LOCAL'),\n",
       "  Text(25, 0, 'TOOLS'),\n",
       "  Text(26, 0, 'PERSONALIZATION'),\n",
       "  Text(27, 0, 'PRODUCTIVITY'),\n",
       "  Text(28, 0, 'PARENTING'),\n",
       "  Text(29, 0, 'WEATHER'),\n",
       "  Text(30, 0, 'VIDEO_PLAYERS'),\n",
       "  Text(31, 0, 'NEWS_AND_MAGAZINES'),\n",
       "  Text(32, 0, 'MAPS_AND_NAVIGATION')])"
      ]
     },
     "execution_count": 127,
     "metadata": {},
     "output_type": "execute_result"
    },
    {
     "data": {
      "image/png": "[encoded data removed]",
      "text/plain": [
       "<Figure size 1296x432 with 1 Axes>"
      ]
     },
     "metadata": {
      "needs_background": "light"
     },
     "output_type": "display_data"
    }
   ],
   "source": [
    "#Which genre has the best ratings?\n",
    "plt.figure(figsize=[18,6])\n",
    "g = sns.boxplot(inp0.Category, inp0.Rating)\n",
    "plt.xticks(rotation=90)"
   ]
  },
  {
   "cell_type": "markdown",
   "metadata": {
    "id": "K84OIeq5iYbE"
   },
   "source": [
    "#### **Pre-processing the Dataset**"
   ]
  },
  {
   "cell_type": "markdown",
   "metadata": {
    "id": "1QwhHCpPiYbF"
   },
   "source": [
    "##### **1. Make a copy of the dataset**"
   ]
  },
  {
   "cell_type": "code",
   "execution_count": 101,
   "metadata": {
    "id": "vi9bn-ypiYbF"
   },
   "outputs": [],
   "source": [
    "#Making a copy\n",
    "inp1 = inp0.copy()"
   ]
  },
  {
   "cell_type": "markdown",
   "metadata": {
    "id": "7wdlD-_EkusJ"
   },
   "source": [
    "##### **2. Apply log transformation (np.log1p) to Reviews and Installs**\n",
    "\n",
    "Reviews and Installs have some values that are still relatively very high.\n",
    "Before building a linear regression model, you need to reduce the skew."
   ]
  },
  {
   "cell_type": "code",
   "execution_count": 102,
   "metadata": {
    "id": "Psvvu5pwiYbI"
   },
   "outputs": [
    {
     "data": {
      "text/plain": [
       "count    8.894000e+03\n",
       "mean     5.586450e+06\n",
       "std      2.419107e+07\n",
       "min      5.000000e+00\n",
       "25%      1.000000e+04\n",
       "50%      5.000000e+05\n",
       "75%      5.000000e+06\n",
       "max      5.000000e+08\n",
       "Name: Installs, dtype: float64"
      ]
     },
     "execution_count": 102,
     "metadata": {},
     "output_type": "execute_result"
    }
   ],
   "source": [
    "#Reducing the skew\n",
    "inp0.Installs.describe()"
   ]
  },
  {
   "cell_type": "code",
   "execution_count": 103,
   "metadata": {
    "id": "wqUaLLD0iYbL"
   },
   "outputs": [],
   "source": [
    "inp1.Installs = inp1.Installs.apply(np.log1p)"
   ]
  },
  {
   "cell_type": "code",
   "execution_count": 104,
   "metadata": {
    "id": "UM2pmr5ziYbN"
   },
   "outputs": [],
   "source": [
    "inp1.Reviews = inp1.Reviews.apply(np.log1p)"
   ]
  },
  {
   "cell_type": "markdown",
   "metadata": {
    "id": "xsZEsfMKiYbQ"
   },
   "source": [
    "##### **3. Drop columns App, Last Updated, Current Ver, and Android Ver**\n",
    "\n",
    " These variables are not useful for our task."
   ]
  },
  {
   "cell_type": "code",
   "execution_count": 105,
   "metadata": {
    "id": "YtobZfveiYbQ"
   },
   "outputs": [
    {
     "data": {
      "text/plain": [
       "App                object\n",
       "Category           object\n",
       "Rating            float64\n",
       "Reviews           float64\n",
       "Size              float64\n",
       "Installs          float64\n",
       "Type               object\n",
       "Price             float64\n",
       "Content_Rating     object\n",
       "Genres             object\n",
       "Last Updated       object\n",
       "Current Ver        object\n",
       "Android Ver        object\n",
       "dtype: object"
      ]
     },
     "execution_count": 105,
     "metadata": {},
     "output_type": "execute_result"
    }
   ],
   "source": [
    "inp1.dtypes"
   ]
  },
  {
   "cell_type": "code",
   "execution_count": 106,
   "metadata": {
    "id": "HGezO1I6iYbS"
   },
   "outputs": [
    {
     "data": {
      "text/plain": [
       "(8894, 9)"
      ]
     },
     "execution_count": 106,
     "metadata": {},
     "output_type": "execute_result"
    }
   ],
   "source": [
    "#Dropping the variables that are not useful for our task\n",
    "inp1.drop([\"App\", \"Last Updated\", \"Current Ver\", \"Android Ver\"], axis=1, inplace=True)\n",
    "inp1.shape"
   ]
  },
  {
   "cell_type": "markdown",
   "metadata": {
    "id": "srbCi7VwlT2-"
   },
   "source": [
    "##### **4. Dummy Columns:**\n",
    "\n",
    "\n",
    "Get dummy columns for Category, Genres, and Content Rating. This needs to be done as the models do not understand categorical data, and all data should be numeric. Dummy encoding is one way to convert character fields to numeric fields. Name of the dataframe should be **inp2**."
   ]
  },
  {
   "cell_type": "code",
   "execution_count": 107,
   "metadata": {
    "id": "mHqSQ_NuiYbV"
   },
   "outputs": [],
   "source": [
    "inp2 = pd.get_dummies(inp1, drop_first=True)"
   ]
  },
  {
   "cell_type": "code",
   "execution_count": 108,
   "metadata": {
    "id": "w7OQaLh4iYbX"
   },
   "outputs": [
    {
     "data": {
      "text/plain": [
       "Index(['Rating', 'Reviews', 'Size', 'Installs', 'Price',\n",
       "       'Category_AUTO_AND_VEHICLES', 'Category_BEAUTY',\n",
       "       'Category_BOOKS_AND_REFERENCE', 'Category_BUSINESS', 'Category_COMICS',\n",
       "       ...\n",
       "       'Genres_Tools', 'Genres_Tools_Education', 'Genres_Travel_&_Local',\n",
       "       'Genres_Travel_&_Local_Action_&_Adventure', 'Genres_Trivia',\n",
       "       'Genres_Video_Players_&_Editors',\n",
       "       'Genres_Video_Players_&_Editors_Creativity',\n",
       "       'Genres_Video_Players_&_Editors_Music_&_Video', 'Genres_Weather',\n",
       "       'Genres_Word'],\n",
       "      dtype='object', length=157)"
      ]
     },
     "execution_count": 108,
     "metadata": {},
     "output_type": "execute_result"
    }
   ],
   "source": [
    "inp2.columns"
   ]
  },
  {
   "cell_type": "code",
   "execution_count": 109,
   "metadata": {
    "id": "gKS6RUcU3gww"
   },
   "outputs": [
    {
     "data": {
      "text/plain": [
       "(8894, 157)"
      ]
     },
     "execution_count": 109,
     "metadata": {},
     "output_type": "execute_result"
    }
   ],
   "source": [
    "inp2.shape"
   ]
  },
  {
   "cell_type": "markdown",
   "metadata": {
    "id": "Ko2AVCZriYbY"
   },
   "source": [
    "#### **Train-test split**"
   ]
  },
  {
   "cell_type": "markdown",
   "metadata": {
    "id": "cxAnZejbz8jP"
   },
   "source": [
    "Let us distribute the data into **training** and **test** datasets using the **train_test_split()** function."
   ]
  },
  {
   "cell_type": "code",
   "execution_count": 110,
   "metadata": {
    "id": "JBbvq6Z8iYbZ"
   },
   "outputs": [],
   "source": [
    "from sklearn.model_selection import train_test_split"
   ]
  },
  {
   "cell_type": "code",
   "execution_count": 111,
   "metadata": {
    "id": "GhBFCj3jiYbc"
   },
   "outputs": [],
   "source": [
    "df_train, df_test = train_test_split(inp2, train_size = 0.7, random_state = 100)"
   ]
  },
  {
   "cell_type": "code",
   "execution_count": 112,
   "metadata": {
    "id": "OiPz2HP2iYbe"
   },
   "outputs": [
    {
     "data": {
      "text/plain": [
       "((6225, 157), (2669, 157))"
      ]
     },
     "execution_count": 112,
     "metadata": {},
     "output_type": "execute_result"
    }
   ],
   "source": [
    "df_train.shape, df_test.shape"
   ]
  },
  {
   "cell_type": "markdown",
   "metadata": {
    "id": "0K8Dc4E9iYbf"
   },
   "source": [
    "Let us separate the dataframes into **X_train, y_train, X_test, y_test.**"
   ]
  },
  {
   "cell_type": "code",
   "execution_count": 113,
   "metadata": {
    "id": "LZqLkOrliYbf"
   },
   "outputs": [],
   "source": [
    "y_train = df_train.pop(\"Rating\")\n",
    "X_train = df_train"
   ]
  },
  {
   "cell_type": "code",
   "execution_count": 114,
   "metadata": {
    "id": "rIooKn-21WB8"
   },
   "outputs": [
    {
     "data": {
      "text/html": [
       "<div>\n",
       "<style scoped>\n",
       "    .dataframe tbody tr th:only-of-type {\n",
       "        vertical-align: middle;\n",
       "    }\n",
       "\n",
       "    .dataframe tbody tr th {\n",
       "        vertical-align: top;\n",
       "    }\n",
       "\n",
       "    .dataframe thead th {\n",
       "        text-align: right;\n",
       "    }\n",
       "</style>\n",
       "<table border=\"1\" class=\"dataframe\">\n",
       "  <thead>\n",
       "    <tr style=\"text-align: right;\">\n",
       "      <th></th>\n",
       "      <th>Reviews</th>\n",
       "      <th>Size</th>\n",
       "      <th>Installs</th>\n",
       "      <th>Price</th>\n",
       "      <th>Category_AUTO_AND_VEHICLES</th>\n",
       "      <th>Category_BEAUTY</th>\n",
       "      <th>Category_BOOKS_AND_REFERENCE</th>\n",
       "      <th>Category_BUSINESS</th>\n",
       "      <th>Category_COMICS</th>\n",
       "      <th>Category_COMMUNICATION</th>\n",
       "      <th>...</th>\n",
       "      <th>Genres_Tools</th>\n",
       "      <th>Genres_Tools_Education</th>\n",
       "      <th>Genres_Travel_&amp;_Local</th>\n",
       "      <th>Genres_Travel_&amp;_Local_Action_&amp;_Adventure</th>\n",
       "      <th>Genres_Trivia</th>\n",
       "      <th>Genres_Video_Players_&amp;_Editors</th>\n",
       "      <th>Genres_Video_Players_&amp;_Editors_Creativity</th>\n",
       "      <th>Genres_Video_Players_&amp;_Editors_Music_&amp;_Video</th>\n",
       "      <th>Genres_Weather</th>\n",
       "      <th>Genres_Word</th>\n",
       "    </tr>\n",
       "  </thead>\n",
       "  <tbody>\n",
       "    <tr>\n",
       "      <th>10398</th>\n",
       "      <td>3.713572</td>\n",
       "      <td>13000.0</td>\n",
       "      <td>8.517393</td>\n",
       "      <td>0.0</td>\n",
       "      <td>0</td>\n",
       "      <td>0</td>\n",
       "      <td>0</td>\n",
       "      <td>0</td>\n",
       "      <td>0</td>\n",
       "      <td>0</td>\n",
       "      <td>...</td>\n",
       "      <td>0</td>\n",
       "      <td>0</td>\n",
       "      <td>0</td>\n",
       "      <td>0</td>\n",
       "      <td>0</td>\n",
       "      <td>0</td>\n",
       "      <td>0</td>\n",
       "      <td>0</td>\n",
       "      <td>0</td>\n",
       "      <td>0</td>\n",
       "    </tr>\n",
       "    <tr>\n",
       "      <th>3519</th>\n",
       "      <td>12.534639</td>\n",
       "      <td>2200.0</td>\n",
       "      <td>16.118096</td>\n",
       "      <td>0.0</td>\n",
       "      <td>0</td>\n",
       "      <td>0</td>\n",
       "      <td>0</td>\n",
       "      <td>0</td>\n",
       "      <td>0</td>\n",
       "      <td>0</td>\n",
       "      <td>...</td>\n",
       "      <td>0</td>\n",
       "      <td>0</td>\n",
       "      <td>0</td>\n",
       "      <td>0</td>\n",
       "      <td>0</td>\n",
       "      <td>0</td>\n",
       "      <td>0</td>\n",
       "      <td>0</td>\n",
       "      <td>0</td>\n",
       "      <td>0</td>\n",
       "    </tr>\n",
       "  </tbody>\n",
       "</table>\n",
       "<p>2 rows × 156 columns</p>\n",
       "</div>"
      ],
      "text/plain": [
       "         Reviews     Size   Installs  Price  Category_AUTO_AND_VEHICLES  \\\n",
       "10398   3.713572  13000.0   8.517393    0.0                           0   \n",
       "3519   12.534639   2200.0  16.118096    0.0                           0   \n",
       "\n",
       "       Category_BEAUTY  Category_BOOKS_AND_REFERENCE  Category_BUSINESS  \\\n",
       "10398                0                             0                  0   \n",
       "3519                 0                             0                  0   \n",
       "\n",
       "       Category_COMICS  Category_COMMUNICATION  ...  Genres_Tools  \\\n",
       "10398                0                       0  ...             0   \n",
       "3519                 0                       0  ...             0   \n",
       "\n",
       "       Genres_Tools_Education  Genres_Travel_&_Local  \\\n",
       "10398                       0                      0   \n",
       "3519                        0                      0   \n",
       "\n",
       "       Genres_Travel_&_Local_Action_&_Adventure  Genres_Trivia  \\\n",
       "10398                                         0              0   \n",
       "3519                                          0              0   \n",
       "\n",
       "       Genres_Video_Players_&_Editors  \\\n",
       "10398                               0   \n",
       "3519                                0   \n",
       "\n",
       "       Genres_Video_Players_&_Editors_Creativity  \\\n",
       "10398                                          0   \n",
       "3519                                           0   \n",
       "\n",
       "       Genres_Video_Players_&_Editors_Music_&_Video  Genres_Weather  \\\n",
       "10398                                             0               0   \n",
       "3519                                              0               0   \n",
       "\n",
       "       Genres_Word  \n",
       "10398            0  \n",
       "3519             0  \n",
       "\n",
       "[2 rows x 156 columns]"
      ]
     },
     "execution_count": 114,
     "metadata": {},
     "output_type": "execute_result"
    }
   ],
   "source": [
    "X_train.head(2)"
   ]
  },
  {
   "cell_type": "code",
   "execution_count": 115,
   "metadata": {
    "id": "ZmlT5RUwiYbh"
   },
   "outputs": [],
   "source": [
    "y_test = df_test.pop(\"Rating\")\n",
    "X_test = df_test"
   ]
  },
  {
   "cell_type": "code",
   "execution_count": 116,
   "metadata": {
    "id": "H7FoNKI4_XCj"
   },
   "outputs": [
    {
     "data": {
      "text/html": [
       "<div>\n",
       "<style scoped>\n",
       "    .dataframe tbody tr th:only-of-type {\n",
       "        vertical-align: middle;\n",
       "    }\n",
       "\n",
       "    .dataframe tbody tr th {\n",
       "        vertical-align: top;\n",
       "    }\n",
       "\n",
       "    .dataframe thead th {\n",
       "        text-align: right;\n",
       "    }\n",
       "</style>\n",
       "<table border=\"1\" class=\"dataframe\">\n",
       "  <thead>\n",
       "    <tr style=\"text-align: right;\">\n",
       "      <th></th>\n",
       "      <th>Reviews</th>\n",
       "      <th>Size</th>\n",
       "      <th>Installs</th>\n",
       "      <th>Price</th>\n",
       "      <th>Category_AUTO_AND_VEHICLES</th>\n",
       "      <th>Category_BEAUTY</th>\n",
       "      <th>Category_BOOKS_AND_REFERENCE</th>\n",
       "      <th>Category_BUSINESS</th>\n",
       "      <th>Category_COMICS</th>\n",
       "      <th>Category_COMMUNICATION</th>\n",
       "      <th>...</th>\n",
       "      <th>Genres_Tools</th>\n",
       "      <th>Genres_Tools_Education</th>\n",
       "      <th>Genres_Travel_&amp;_Local</th>\n",
       "      <th>Genres_Travel_&amp;_Local_Action_&amp;_Adventure</th>\n",
       "      <th>Genres_Trivia</th>\n",
       "      <th>Genres_Video_Players_&amp;_Editors</th>\n",
       "      <th>Genres_Video_Players_&amp;_Editors_Creativity</th>\n",
       "      <th>Genres_Video_Players_&amp;_Editors_Music_&amp;_Video</th>\n",
       "      <th>Genres_Weather</th>\n",
       "      <th>Genres_Word</th>\n",
       "    </tr>\n",
       "  </thead>\n",
       "  <tbody>\n",
       "    <tr>\n",
       "      <th>2320</th>\n",
       "      <td>7.604396</td>\n",
       "      <td>69000.0</td>\n",
       "      <td>10.819798</td>\n",
       "      <td>0.0</td>\n",
       "      <td>0</td>\n",
       "      <td>0</td>\n",
       "      <td>0</td>\n",
       "      <td>0</td>\n",
       "      <td>0</td>\n",
       "      <td>0</td>\n",
       "      <td>...</td>\n",
       "      <td>0</td>\n",
       "      <td>0</td>\n",
       "      <td>0</td>\n",
       "      <td>0</td>\n",
       "      <td>0</td>\n",
       "      <td>0</td>\n",
       "      <td>0</td>\n",
       "      <td>0</td>\n",
       "      <td>0</td>\n",
       "      <td>0</td>\n",
       "    </tr>\n",
       "    <tr>\n",
       "      <th>421</th>\n",
       "      <td>9.480444</td>\n",
       "      <td>2200.0</td>\n",
       "      <td>13.815512</td>\n",
       "      <td>0.0</td>\n",
       "      <td>0</td>\n",
       "      <td>0</td>\n",
       "      <td>0</td>\n",
       "      <td>0</td>\n",
       "      <td>0</td>\n",
       "      <td>1</td>\n",
       "      <td>...</td>\n",
       "      <td>0</td>\n",
       "      <td>0</td>\n",
       "      <td>0</td>\n",
       "      <td>0</td>\n",
       "      <td>0</td>\n",
       "      <td>0</td>\n",
       "      <td>0</td>\n",
       "      <td>0</td>\n",
       "      <td>0</td>\n",
       "      <td>0</td>\n",
       "    </tr>\n",
       "  </tbody>\n",
       "</table>\n",
       "<p>2 rows × 156 columns</p>\n",
       "</div>"
      ],
      "text/plain": [
       "       Reviews     Size   Installs  Price  Category_AUTO_AND_VEHICLES  \\\n",
       "2320  7.604396  69000.0  10.819798    0.0                           0   \n",
       "421   9.480444   2200.0  13.815512    0.0                           0   \n",
       "\n",
       "      Category_BEAUTY  Category_BOOKS_AND_REFERENCE  Category_BUSINESS  \\\n",
       "2320                0                             0                  0   \n",
       "421                 0                             0                  0   \n",
       "\n",
       "      Category_COMICS  Category_COMMUNICATION  ...  Genres_Tools  \\\n",
       "2320                0                       0  ...             0   \n",
       "421                 0                       1  ...             0   \n",
       "\n",
       "      Genres_Tools_Education  Genres_Travel_&_Local  \\\n",
       "2320                       0                      0   \n",
       "421                        0                      0   \n",
       "\n",
       "      Genres_Travel_&_Local_Action_&_Adventure  Genres_Trivia  \\\n",
       "2320                                         0              0   \n",
       "421                                          0              0   \n",
       "\n",
       "      Genres_Video_Players_&_Editors  \\\n",
       "2320                               0   \n",
       "421                                0   \n",
       "\n",
       "      Genres_Video_Players_&_Editors_Creativity  \\\n",
       "2320                                          0   \n",
       "421                                           0   \n",
       "\n",
       "      Genres_Video_Players_&_Editors_Music_&_Video  Genres_Weather  \\\n",
       "2320                                             0               0   \n",
       "421                                              0               0   \n",
       "\n",
       "      Genres_Word  \n",
       "2320            0  \n",
       "421             0  \n",
       "\n",
       "[2 rows x 156 columns]"
      ]
     },
     "execution_count": 116,
     "metadata": {},
     "output_type": "execute_result"
    }
   ],
   "source": [
    "X_test.head(2)"
   ]
  },
  {
   "cell_type": "markdown",
   "metadata": {
    "id": "J6SlMiJrgoZj"
   },
   "source": [
    "### <b> **Regression Algorithms:**</b>\n",
    "\n",
    "Note: Let us take a look at the theory part before moving on to the training and prediction."
   ]
  },
  {
   "cell_type": "markdown",
   "metadata": {
    "id": "BmvPniXBhEDw"
   },
   "source": [
    "#### <b>Types of Regression Algorithms:</b>"
   ]
  },
  {
   "cell_type": "markdown",
   "metadata": {
    "id": "DSn9GMFhhPFM"
   },
   "source": [
    "* Linear regression\n",
    "* Multiple linear regression\n",
    "* Polynomial regression\n",
    "* Ridge regression\n",
    "* Lasso regression\n",
    "* ElasticNet regression"
   ]
  },
  {
   "cell_type": "markdown",
   "metadata": {
    "id": "ZUsnK-BxjXUH"
   },
   "source": [
    "#### **When to use regression?**"
   ]
  },
  {
   "cell_type": "markdown",
   "metadata": {
    "id": "-hZzR-UsjuMB"
   },
   "source": [
    "If target variable is a continuous numeric variable (100–2000), then use a regression algorithm.<br><br>\n",
    "\n",
    "![Use of Reg](https://labcontent.simplicdn.net/data-content/content-assets/Data_and_AI/Applied_Machine_Learning/Images/0.7_Supervised_Learning_-_Regression_and_Classification/Trainer_PPT_and_IPYNB/0.2_Linear_Regression/Use%20of%20Reg.JPG)\n",
    "\n",
    "<br><br>\n",
    "Note: Let us take a look at the basics of linear regression and then move on to the model builiding part where we are going to use all the concepts that we saw in previous sessions."
   ]
  },
  {
   "cell_type": "markdown",
   "metadata": {
    "id": "yjP1JLXdhn68"
   },
   "source": [
    "#### **1. Linear Regression:**"
   ]
  },
  {
   "cell_type": "markdown",
   "metadata": {
    "id": "qIGWoFPKh9EO"
   },
   "source": [
    "Linear Regression is a statistical model used to predict the relationship between independent and dependent variables denoted by x and y respectively.\n"
   ]
  },
  {
   "cell_type": "markdown",
   "metadata": {
    "id": "ZHjjpch3ibIb"
   },
   "source": [
    "![Lin Reg](https://labcontent.simplicdn.net/data-content/content-assets/Data_and_AI/Applied_Machine_Learning/Images/0.7_Supervised_Learning_-_Regression_and_Classification/Trainer_PPT_and_IPYNB/0.2_Linear_Regression/Lin%20Reg.JPG)"
   ]
  },
  {
   "cell_type": "markdown",
   "metadata": {
    "id": "x7yOduLSlQuq"
   },
   "source": [
    "#### **2. Muliple Linear Regression:**"
   ]
  },
  {
   "cell_type": "markdown",
   "metadata": {
    "id": "dXg3x1S1lT44"
   },
   "source": [
    "Multiple linear regression is a statistical technique used to predict the outcome of a response variable through several explanatory variables and model the relationships between them."
   ]
  },
  {
   "cell_type": "markdown",
   "metadata": {
    "id": "tg1VjZnGlYmU"
   },
   "source": [
    "![Multiple LR](https://labcontent.simplicdn.net/data-content/content-assets/Data_and_AI/Applied_Machine_Learning/Images/0.7_Supervised_Learning_-_Regression_and_Classification/Trainer_PPT_and_IPYNB/0.2_Linear_Regression/Multiple%20LR.JPG)"
   ]
  },
  {
   "cell_type": "markdown",
   "metadata": {
    "id": "d9TqAOj7l6Gt"
   },
   "source": [
    "#### **3. Polynomial Regression:**"
   ]
  },
  {
   "cell_type": "markdown",
   "metadata": {
    "id": "FZoN6CFBl8Ia"
   },
   "source": [
    "Polynomial regression is applied when data is not formed in a straight line. \n",
    "It is used to fit a linear model to non-linear data by creating new features from powers of non-linear features.\n",
    "\n",
    "Example: Quadratic features \n"
   ]
  },
  {
   "cell_type": "markdown",
   "metadata": {
    "id": "SsoRmWzOnlUV"
   },
   "source": [
    "![Pol Reg](https://labcontent.simplicdn.net/data-content/content-assets/Data_and_AI/Applied_Machine_Learning/Images/0.7_Supervised_Learning_-_Regression_and_Classification/Trainer_PPT_and_IPYNB/0.2_Linear_Regression/Pol%20Reg.JPG)"
   ]
  },
  {
   "cell_type": "markdown",
   "metadata": {
    "id": "O1Axf7SUQ8ir"
   },
   "source": [
    "### <b> Types of Model Evaluation Metrics:</b>"
   ]
  },
  {
   "cell_type": "markdown",
   "metadata": {
    "id": "NghG9e0g4EIn"
   },
   "source": [
    "#### **Assumption** <br>\n",
    "\n",
    "Let us consider the following:\n",
    "\n",
    "$y_i$ – the observed value\n",
    "\n",
    "$\\bar{y}$ – the mean value of a sample\n",
    "\n",
    "$\\hat{y}_i$ – the value estimated by the regression line\n"
   ]
  },
  {
   "cell_type": "markdown",
   "metadata": {
    "id": "w37a9h7kJToC"
   },
   "source": [
    "#### **Sum of Squares Total (SST)** <br>\n",
    "\n",
    "  The squared variations between the measured dependent variable and its mean are referred to as the **Sum of Squares Total (SST)** or **Total Sum of Squares (TSS)**.\n",
    "\n",
    "  It's similar to the variation of descriptive statistics in that it's the dispersion of measured variables around the mean.\n",
    "\n",
    "  It is a measure of the dataset's overall variability.\n",
    "\n",
    "  $$\n",
    "  SST = SSR + SSE = \\sum_{i=1}^{n}(\\hat{y}_i - \\bar{y}_i)^2 + \\sum_{i=1}^{n}(y_i - \\hat{y}_i)^2\n",
    "  $$\n",
    "\n",
    "  ![SST](https://labcontent.simplicdn.net/data-content/content-assets/Data_and_AI/Applied_Machine_Learning/Images/0.7_Supervised_Learning_-_Regression_and_Classification/Trainer_PPT_and_IPYNB/0.2_Linear_Regression/SST.png)\n",
    "\n",
    "<br/>\n",
    "\n",
    "#### **Sum of Squares due to Regression (SSR)** <br>\n",
    "\n",
    "  The difference between the predicted value and the dependent variable's mean are referred to as the **Sum of Squares due to Regression (SSR)** or **Explained Sum of Squares (ESS)**.\n",
    "\n",
    "  It can be considered as a metric for describing how well our line fits the data.\n",
    "\n",
    "  If the SSR (or ESS) is equal to the SST (or TSS), the regression model is flawless and captures all observed variability.\n",
    "\n",
    "  $$\n",
    "  SSR = \\sum_{i=1}^{n}(y_i - \\bar{y})^2\n",
    "  $$\n",
    "\n",
    "  ![SSR](https://labcontent.simplicdn.net/data-content/content-assets/Data_and_AI/Applied_Machine_Learning/Images/0.7_Supervised_Learning_-_Regression_and_Classification/Trainer_PPT_and_IPYNB/0.2_Linear_Regression/SSR.png)\n",
    "\n",
    "<br/>\n",
    "\n",
    "#### **Sum of Squares Error (SSE)** <br>\n",
    "\n",
    "  The difference between the observed and predicted values are referred to as the **Sum of Squares Error (SSE)** or **Residual Sum of Squares (RSS)**, where `residual` stands for `remaining` or `unexplained`.\n",
    "\n",
    "  This error must be reduced since the smaller it is, the better the regression's estimation power.\n",
    "\n",
    "  $$\n",
    "  SSE = \\sum_{i=1}^{n}(y_i - \\hat{y}_i)^2\n",
    "  $$\n",
    "\n",
    "  $$\n",
    "  Or\n",
    "  $$\n",
    "\n",
    "  $$\n",
    "  SSE = \\sum_{i=1}^{n}e_i^2\n",
    "  $$\n",
    "\n",
    "  $$\n",
    "  where,\n",
    "  $$\n",
    "  \n",
    "  $$\n",
    "  e_i = (y_i - \\hat{y}_i)\n",
    "  $$\n",
    "\n",
    "  ![SSE](https://labcontent.simplicdn.net/data-content/content-assets/Data_and_AI/Applied_Machine_Learning/Images/0.7_Supervised_Learning_-_Regression_and_Classification/Trainer_PPT_and_IPYNB/0.2_Linear_Regression/SSE.png)\n",
    "\n",
    "<br/>\n",
    "\n",
    "#### **Relation Among SST, SSR, and SSE** <br>\n",
    "\n",
    "  Since certain people use these abbreviations in various ways, it can be very confusing.\n",
    "\n",
    "  We use one of two sets of notations for these abbreviations: SST, SSR, and SSE or TSS, ESS, and RSS.\n",
    "\n",
    "  These equations are related in the following ways:\n",
    "\n",
    "  $$\n",
    "  SST = SSR + SSE\n",
    "  $$\n",
    "\n",
    "  $$Or$$\n",
    "\n",
    "  $$\n",
    "  TSS = ESS + RSS\n",
    "  $$\n",
    "\n",
    "  This is because the overall variability of the dataset is equivalent to the variability described by the regression line and the unknown variability (also known as error).\n",
    "\n",
    "  For a constant total variability, a lower error would result in a better regression. A higher error, on the other hand, would result in a weaker regression. This should always be remembered regardless of the notation set used.\n",
    "\n",
    "  ![Connection](https://labcontent.simplicdn.net/data-content/content-assets/Data_and_AI/Applied_Machine_Learning/Images/0.7_Supervised_Learning_-_Regression_and_Classification/Trainer_PPT_and_IPYNB/0.2_Linear_Regression/Connection.png)\n",
    "\n",
    "<br/>\n",
    "\n",
    "#### **R-Square Matrix** <br>\n",
    "\n",
    "  The determination coefficient also known as **R2 (R-squared) score** is used for the performance evaluation of a linear regression model.\n",
    "\n",
    "  R2 displays the proportion of data points inside the regression equation line.\n",
    "\n",
    "  A higher R2 value means improved results.\n",
    "\n",
    "  It is calculated as follows:\n",
    "\n",
    "  $$\n",
    "  R^2 = 1 - \\frac{SSE}{SSR}\n",
    "  $$\n",
    "\n",
    "  $$\n",
    "  Or\n",
    "  $$\n",
    "\n",
    "  $$\n",
    "  R^2 = 1 - \\frac{RSS}{ESS}\n",
    "  $$\n",
    "\n",
    "  The highest possible score is 1, which is achieved when the predicted and actual values are the same.\n",
    "\n",
    "  The R2 score is 0 for a baseline model.\n",
    "\n",
    "  In the worst-case scenario, the R2 score can also be negative.\n",
    "\n",
    "<br/>\n"
   ]
  },
  {
   "cell_type": "markdown",
   "metadata": {
    "id": "JcMO9bJoQtZ_"
   },
   "source": [
    "#### **Import *statsmodels* Library for Linear Regression**"
   ]
  },
  {
   "cell_type": "code",
   "execution_count": 119,
   "metadata": {
    "id": "dxQrGQ4nQt0p"
   },
   "outputs": [],
   "source": [
    "#Importing the statsmodel library\n",
    "import statsmodels.api as sm"
   ]
  },
  {
   "cell_type": "code",
   "execution_count": 120,
   "metadata": {
    "id": "ZsNHSNlYQ631"
   },
   "outputs": [],
   "source": [
    "#Applying linear regression\n",
    "model1 = sm.OLS(y_train, X_train)"
   ]
  },
  {
   "cell_type": "code",
   "execution_count": 121,
   "metadata": {
    "id": "cNn50TMfQ7FZ"
   },
   "outputs": [],
   "source": [
    "model1 = model1.fit()"
   ]
  },
  {
   "cell_type": "code",
   "execution_count": 122,
   "metadata": {
    "id": "4lFH1DRYQ7MW"
   },
   "outputs": [
    {
     "data": {
      "text/html": [
       "<table class=\"simpletable\">\n",
       "<caption>OLS Regression Results</caption>\n",
       "<tr>\n",
       "  <th>Dep. Variable:</th>         <td>Rating</td>      <th>  R-squared (uncentered):</th>      <td>   0.987</td>\n",
       "</tr>\n",
       "<tr>\n",
       "  <th>Model:</th>                   <td>OLS</td>       <th>  Adj. R-squared (uncentered):</th> <td>   0.987</td>\n",
       "</tr>\n",
       "<tr>\n",
       "  <th>Method:</th>             <td>Least Squares</td>  <th>  F-statistic:       </th>          <td>   3858.</td>\n",
       "</tr>\n",
       "<tr>\n",
       "  <th>Date:</th>             <td>Fri, 30 Dec 2022</td> <th>  Prob (F-statistic):</th>           <td>  0.00</td> \n",
       "</tr>\n",
       "<tr>\n",
       "  <th>Time:</th>                 <td>17:49:49</td>     <th>  Log-Likelihood:    </th>          <td> -4175.7</td>\n",
       "</tr>\n",
       "<tr>\n",
       "  <th>No. Observations:</th>      <td>  6225</td>      <th>  AIC:               </th>          <td>   8599.</td>\n",
       "</tr>\n",
       "<tr>\n",
       "  <th>Df Residuals:</th>          <td>  6101</td>      <th>  BIC:               </th>          <td>   9435.</td>\n",
       "</tr>\n",
       "<tr>\n",
       "  <th>Df Model:</th>              <td>   124</td>      <th>                     </th>              <td> </td>   \n",
       "</tr>\n",
       "<tr>\n",
       "  <th>Covariance Type:</th>      <td>nonrobust</td>    <th>                     </th>              <td> </td>   \n",
       "</tr>\n",
       "</table>\n",
       "<table class=\"simpletable\">\n",
       "<tr>\n",
       "                        <td></td>                          <th>coef</th>     <th>std err</th>      <th>t</th>      <th>P>|t|</th>  <th>[0.025</th>    <th>0.975]</th>  \n",
       "</tr>\n",
       "<tr>\n",
       "  <th>Reviews</th>                                      <td>    0.1720</td> <td>    0.006</td> <td>   27.977</td> <td> 0.000</td> <td>    0.160</td> <td>    0.184</td>\n",
       "</tr>\n",
       "<tr>\n",
       "  <th>Size</th>                                         <td>-4.283e-07</td> <td> 3.27e-07</td> <td>   -1.311</td> <td> 0.190</td> <td>-1.07e-06</td> <td> 2.12e-07</td>\n",
       "</tr>\n",
       "<tr>\n",
       "  <th>Installs</th>                                     <td>   -0.1460</td> <td>    0.006</td> <td>  -24.006</td> <td> 0.000</td> <td>   -0.158</td> <td>   -0.134</td>\n",
       "</tr>\n",
       "<tr>\n",
       "  <th>Price</th>                                        <td>   -0.0004</td> <td>    0.000</td> <td>   -1.153</td> <td> 0.249</td> <td>   -0.001</td> <td>    0.000</td>\n",
       "</tr>\n",
       "<tr>\n",
       "  <th>Category_AUTO_AND_VEHICLES</th>                   <td>    1.9291</td> <td>    0.130</td> <td>   14.848</td> <td> 0.000</td> <td>    1.674</td> <td>    2.184</td>\n",
       "</tr>\n",
       "<tr>\n",
       "  <th>Category_BEAUTY</th>                              <td>    1.9767</td> <td>    0.133</td> <td>   14.877</td> <td> 0.000</td> <td>    1.716</td> <td>    2.237</td>\n",
       "</tr>\n",
       "<tr>\n",
       "  <th>Category_BOOKS_AND_REFERENCE</th>                 <td>    1.9443</td> <td>    0.127</td> <td>   15.256</td> <td> 0.000</td> <td>    1.694</td> <td>    2.194</td>\n",
       "</tr>\n",
       "<tr>\n",
       "  <th>Category_BUSINESS</th>                            <td>    1.8690</td> <td>    0.126</td> <td>   14.775</td> <td> 0.000</td> <td>    1.621</td> <td>    2.117</td>\n",
       "</tr>\n",
       "<tr>\n",
       "  <th>Category_COMICS</th>                              <td>    2.6970</td> <td>    0.229</td> <td>   11.767</td> <td> 0.000</td> <td>    2.248</td> <td>    3.146</td>\n",
       "</tr>\n",
       "<tr>\n",
       "  <th>Category_COMMUNICATION</th>                       <td>    1.8342</td> <td>    0.127</td> <td>   14.462</td> <td> 0.000</td> <td>    1.586</td> <td>    2.083</td>\n",
       "</tr>\n",
       "<tr>\n",
       "  <th>Category_DATING</th>                              <td>    1.7573</td> <td>    0.128</td> <td>   13.746</td> <td> 0.000</td> <td>    1.507</td> <td>    2.008</td>\n",
       "</tr>\n",
       "<tr>\n",
       "  <th>Category_EDUCATION</th>                           <td>    3.4392</td> <td>    0.263</td> <td>   13.063</td> <td> 0.000</td> <td>    2.923</td> <td>    3.955</td>\n",
       "</tr>\n",
       "<tr>\n",
       "  <th>Category_ENTERTAINMENT</th>                       <td>    3.3440</td> <td>    0.263</td> <td>   12.705</td> <td> 0.000</td> <td>    2.828</td> <td>    3.860</td>\n",
       "</tr>\n",
       "<tr>\n",
       "  <th>Category_EVENTS</th>                              <td>    2.0262</td> <td>    0.132</td> <td>   15.400</td> <td> 0.000</td> <td>    1.768</td> <td>    2.284</td>\n",
       "</tr>\n",
       "<tr>\n",
       "  <th>Category_FAMILY</th>                              <td>    3.4702</td> <td>    0.256</td> <td>   13.547</td> <td> 0.000</td> <td>    2.968</td> <td>    3.972</td>\n",
       "</tr>\n",
       "<tr>\n",
       "  <th>Category_FINANCE</th>                             <td>    1.8359</td> <td>    0.126</td> <td>   14.530</td> <td> 0.000</td> <td>    1.588</td> <td>    2.084</td>\n",
       "</tr>\n",
       "<tr>\n",
       "  <th>Category_FOOD_AND_DRINK</th>                      <td>    1.8543</td> <td>    0.128</td> <td>   14.459</td> <td> 0.000</td> <td>    1.603</td> <td>    2.106</td>\n",
       "</tr>\n",
       "<tr>\n",
       "  <th>Category_GAME</th>                                <td>    3.6747</td> <td>    0.252</td> <td>   14.566</td> <td> 0.000</td> <td>    3.180</td> <td>    4.169</td>\n",
       "</tr>\n",
       "<tr>\n",
       "  <th>Category_HEALTH_AND_FITNESS</th>                  <td>    1.8875</td> <td>    0.127</td> <td>   14.910</td> <td> 0.000</td> <td>    1.639</td> <td>    2.136</td>\n",
       "</tr>\n",
       "<tr>\n",
       "  <th>Category_HOUSE_AND_HOME</th>                      <td>    1.8695</td> <td>    0.130</td> <td>   14.404</td> <td> 0.000</td> <td>    1.615</td> <td>    2.124</td>\n",
       "</tr>\n",
       "<tr>\n",
       "  <th>Category_LIBRARIES_AND_DEMO</th>                  <td>    1.9068</td> <td>    0.130</td> <td>   14.667</td> <td> 0.000</td> <td>    1.652</td> <td>    2.162</td>\n",
       "</tr>\n",
       "<tr>\n",
       "  <th>Category_LIFESTYLE</th>                           <td>    1.8620</td> <td>    0.126</td> <td>   14.728</td> <td> 0.000</td> <td>    1.614</td> <td>    2.110</td>\n",
       "</tr>\n",
       "<tr>\n",
       "  <th>Category_MAPS_AND_NAVIGATION</th>                 <td>    1.8060</td> <td>    0.128</td> <td>   14.119</td> <td> 0.000</td> <td>    1.555</td> <td>    2.057</td>\n",
       "</tr>\n",
       "<tr>\n",
       "  <th>Category_MEDICAL</th>                             <td>    1.8942</td> <td>    0.126</td> <td>   15.004</td> <td> 0.000</td> <td>    1.647</td> <td>    2.142</td>\n",
       "</tr>\n",
       "<tr>\n",
       "  <th>Category_NEWS_AND_MAGAZINES</th>                  <td>    1.8243</td> <td>    0.127</td> <td>   14.384</td> <td> 0.000</td> <td>    1.576</td> <td>    2.073</td>\n",
       "</tr>\n",
       "<tr>\n",
       "  <th>Category_PARENTING</th>                           <td>    2.9503</td> <td>    0.219</td> <td>   13.473</td> <td> 0.000</td> <td>    2.521</td> <td>    3.380</td>\n",
       "</tr>\n",
       "<tr>\n",
       "  <th>Category_PERSONALIZATION</th>                     <td>    1.9214</td> <td>    0.126</td> <td>   15.191</td> <td> 0.000</td> <td>    1.673</td> <td>    2.169</td>\n",
       "</tr>\n",
       "<tr>\n",
       "  <th>Category_PHOTOGRAPHY</th>                         <td>    1.8412</td> <td>    0.127</td> <td>   14.529</td> <td> 0.000</td> <td>    1.593</td> <td>    2.090</td>\n",
       "</tr>\n",
       "<tr>\n",
       "  <th>Category_PRODUCTIVITY</th>                        <td>    1.8581</td> <td>    0.127</td> <td>   14.688</td> <td> 0.000</td> <td>    1.610</td> <td>    2.106</td>\n",
       "</tr>\n",
       "<tr>\n",
       "  <th>Category_SHOPPING</th>                            <td>    1.8722</td> <td>    0.127</td> <td>   14.751</td> <td> 0.000</td> <td>    1.623</td> <td>    2.121</td>\n",
       "</tr>\n",
       "<tr>\n",
       "  <th>Category_SOCIAL</th>                              <td>    1.8667</td> <td>    0.127</td> <td>   14.729</td> <td> 0.000</td> <td>    1.618</td> <td>    2.115</td>\n",
       "</tr>\n",
       "<tr>\n",
       "  <th>Category_SPORTS</th>                              <td>    3.5984</td> <td>    0.422</td> <td>    8.518</td> <td> 0.000</td> <td>    2.770</td> <td>    4.427</td>\n",
       "</tr>\n",
       "<tr>\n",
       "  <th>Category_TOOLS</th>                               <td>    2.4709</td> <td>    0.231</td> <td>   10.684</td> <td> 0.000</td> <td>    2.018</td> <td>    2.924</td>\n",
       "</tr>\n",
       "<tr>\n",
       "  <th>Category_TRAVEL_AND_LOCAL</th>                    <td>    2.4785</td> <td>    0.231</td> <td>   10.708</td> <td> 0.000</td> <td>    2.025</td> <td>    2.932</td>\n",
       "</tr>\n",
       "<tr>\n",
       "  <th>Category_VIDEO_PLAYERS</th>                       <td>    3.3981</td> <td>    0.724</td> <td>    4.693</td> <td> 0.000</td> <td>    1.979</td> <td>    4.818</td>\n",
       "</tr>\n",
       "<tr>\n",
       "  <th>Category_WEATHER</th>                             <td>    1.8901</td> <td>    0.130</td> <td>   14.528</td> <td> 0.000</td> <td>    1.635</td> <td>    2.145</td>\n",
       "</tr>\n",
       "<tr>\n",
       "  <th>Type_Paid</th>                                    <td>   -0.0545</td> <td>    0.027</td> <td>   -1.995</td> <td> 0.046</td> <td>   -0.108</td> <td>   -0.001</td>\n",
       "</tr>\n",
       "<tr>\n",
       "  <th>Content_Rating_Everyone</th>                      <td>    0.8520</td> <td>    0.250</td> <td>    3.412</td> <td> 0.001</td> <td>    0.362</td> <td>    1.341</td>\n",
       "</tr>\n",
       "<tr>\n",
       "  <th>Content_Rating_Everyone_10+</th>                  <td>    0.8498</td> <td>    0.251</td> <td>    3.379</td> <td> 0.001</td> <td>    0.357</td> <td>    1.343</td>\n",
       "</tr>\n",
       "<tr>\n",
       "  <th>Content_Rating_Mature_17+</th>                    <td>    0.8328</td> <td>    0.252</td> <td>    3.309</td> <td> 0.001</td> <td>    0.339</td> <td>    1.326</td>\n",
       "</tr>\n",
       "<tr>\n",
       "  <th>Content_Rating_Teen</th>                          <td>    0.8634</td> <td>    0.250</td> <td>    3.454</td> <td> 0.001</td> <td>    0.373</td> <td>    1.353</td>\n",
       "</tr>\n",
       "<tr>\n",
       "  <th>Content_Rating_Unrated</th>                       <td>-4.162e-12</td> <td> 2.56e-11</td> <td>   -0.163</td> <td> 0.871</td> <td>-5.43e-11</td> <td>  4.6e-11</td>\n",
       "</tr>\n",
       "<tr>\n",
       "  <th>Genres_Action_Action_&_Adventure</th>             <td>    0.2629</td> <td>    0.142</td> <td>    1.858</td> <td> 0.063</td> <td>   -0.015</td> <td>    0.540</td>\n",
       "</tr>\n",
       "<tr>\n",
       "  <th>Genres_Adventure</th>                             <td>   -0.0722</td> <td>    0.076</td> <td>   -0.947</td> <td> 0.344</td> <td>   -0.222</td> <td>    0.077</td>\n",
       "</tr>\n",
       "<tr>\n",
       "  <th>Genres_Adventure_Action_&_Adventure</th>          <td>    0.3537</td> <td>    0.484</td> <td>    0.731</td> <td> 0.465</td> <td>   -0.594</td> <td>    1.302</td>\n",
       "</tr>\n",
       "<tr>\n",
       "  <th>Genres_Adventure_Brain_Games</th>                 <td>    0.4914</td> <td>    0.484</td> <td>    1.015</td> <td> 0.310</td> <td>   -0.458</td> <td>    1.440</td>\n",
       "</tr>\n",
       "<tr>\n",
       "  <th>Genres_Adventure_Education</th>                   <td>    0.0079</td> <td>    0.346</td> <td>    0.023</td> <td> 0.982</td> <td>   -0.671</td> <td>    0.687</td>\n",
       "</tr>\n",
       "<tr>\n",
       "  <th>Genres_Arcade</th>                                <td>    0.0563</td> <td>    0.055</td> <td>    1.026</td> <td> 0.305</td> <td>   -0.051</td> <td>    0.164</td>\n",
       "</tr>\n",
       "<tr>\n",
       "  <th>Genres_Arcade_Action_&_Adventure</th>             <td>    0.4329</td> <td>    0.195</td> <td>    2.223</td> <td> 0.026</td> <td>    0.051</td> <td>    0.815</td>\n",
       "</tr>\n",
       "<tr>\n",
       "  <th>Genres_Arcade_Pretend_Play</th>                   <td>    0.5014</td> <td>    0.484</td> <td>    1.036</td> <td> 0.300</td> <td>   -0.447</td> <td>    1.450</td>\n",
       "</tr>\n",
       "<tr>\n",
       "  <th>Genres_Art_&_Design</th>                          <td>    3.9731</td> <td>    0.263</td> <td>   15.121</td> <td> 0.000</td> <td>    3.458</td> <td>    4.488</td>\n",
       "</tr>\n",
       "<tr>\n",
       "  <th>Genres_Art_&_Design_Creativity</th>               <td>    3.4723</td> <td>    0.294</td> <td>   11.797</td> <td> 0.000</td> <td>    2.895</td> <td>    4.049</td>\n",
       "</tr>\n",
       "<tr>\n",
       "  <th>Genres_Art_&_Design_Pretend_Play</th>             <td>    3.7871</td> <td>    0.540</td> <td>    7.007</td> <td> 0.000</td> <td>    2.728</td> <td>    4.847</td>\n",
       "</tr>\n",
       "<tr>\n",
       "  <th>Genres_Auto_&_Vehicles</th>                       <td>    1.9291</td> <td>    0.130</td> <td>   14.848</td> <td> 0.000</td> <td>    1.674</td> <td>    2.184</td>\n",
       "</tr>\n",
       "<tr>\n",
       "  <th>Genres_Beauty</th>                                <td>    1.9767</td> <td>    0.133</td> <td>   14.877</td> <td> 0.000</td> <td>    1.716</td> <td>    2.237</td>\n",
       "</tr>\n",
       "<tr>\n",
       "  <th>Genres_Board</th>                                 <td>    0.0633</td> <td>    0.088</td> <td>    0.718</td> <td> 0.473</td> <td>   -0.110</td> <td>    0.236</td>\n",
       "</tr>\n",
       "<tr>\n",
       "  <th>Genres_Board_Action_&_Adventure</th>              <td>    0.0466</td> <td>    0.484</td> <td>    0.096</td> <td> 0.923</td> <td>   -0.902</td> <td>    0.995</td>\n",
       "</tr>\n",
       "<tr>\n",
       "  <th>Genres_Board_Brain_Games</th>                     <td>    0.4095</td> <td>    0.168</td> <td>    2.435</td> <td> 0.015</td> <td>    0.080</td> <td>    0.739</td>\n",
       "</tr>\n",
       "<tr>\n",
       "  <th>Genres_Board_Pretend_Play</th>                    <td> 1.201e-12</td> <td> 2.55e-11</td> <td>    0.047</td> <td> 0.962</td> <td>-4.88e-11</td> <td> 5.12e-11</td>\n",
       "</tr>\n",
       "<tr>\n",
       "  <th>Genres_Books_&_Reference</th>                     <td>    1.9443</td> <td>    0.127</td> <td>   15.256</td> <td> 0.000</td> <td>    1.694</td> <td>    2.194</td>\n",
       "</tr>\n",
       "<tr>\n",
       "  <th>Genres_Books_&_Reference_Education</th>           <td>    0.2464</td> <td>    0.346</td> <td>    0.712</td> <td> 0.476</td> <td>   -0.432</td> <td>    0.924</td>\n",
       "</tr>\n",
       "<tr>\n",
       "  <th>Genres_Business</th>                              <td>    1.8690</td> <td>    0.126</td> <td>   14.775</td> <td> 0.000</td> <td>    1.621</td> <td>    2.117</td>\n",
       "</tr>\n",
       "<tr>\n",
       "  <th>Genres_Card</th>                                  <td>   -0.1351</td> <td>    0.089</td> <td>   -1.526</td> <td> 0.127</td> <td>   -0.309</td> <td>    0.038</td>\n",
       "</tr>\n",
       "<tr>\n",
       "  <th>Genres_Card_Action_&_Adventure</th>               <td>    0.0105</td> <td>    0.347</td> <td>    0.030</td> <td> 0.976</td> <td>   -0.669</td> <td>    0.690</td>\n",
       "</tr>\n",
       "<tr>\n",
       "  <th>Genres_Card_Brain_Games</th>                      <td>    0.6464</td> <td>    0.484</td> <td>    1.337</td> <td> 0.181</td> <td>   -0.302</td> <td>    1.594</td>\n",
       "</tr>\n",
       "<tr>\n",
       "  <th>Genres_Casino</th>                                <td>    0.0664</td> <td>    0.108</td> <td>    0.617</td> <td> 0.538</td> <td>   -0.145</td> <td>    0.277</td>\n",
       "</tr>\n",
       "<tr>\n",
       "  <th>Genres_Casual</th>                                <td>    0.0911</td> <td>    0.080</td> <td>    1.145</td> <td> 0.252</td> <td>   -0.065</td> <td>    0.247</td>\n",
       "</tr>\n",
       "<tr>\n",
       "  <th>Genres_Casual_Action_&_Adventure</th>             <td>    0.2237</td> <td>    0.156</td> <td>    1.433</td> <td> 0.152</td> <td>   -0.082</td> <td>    0.530</td>\n",
       "</tr>\n",
       "<tr>\n",
       "  <th>Genres_Casual_Brain_Games</th>                    <td>    0.5343</td> <td>    0.173</td> <td>    3.091</td> <td> 0.002</td> <td>    0.195</td> <td>    0.873</td>\n",
       "</tr>\n",
       "<tr>\n",
       "  <th>Genres_Casual_Creativity</th>                     <td>    0.2092</td> <td>    0.246</td> <td>    0.849</td> <td> 0.396</td> <td>   -0.274</td> <td>    0.692</td>\n",
       "</tr>\n",
       "<tr>\n",
       "  <th>Genres_Casual_Education</th>                      <td>    0.3276</td> <td>    0.346</td> <td>    0.947</td> <td> 0.344</td> <td>   -0.350</td> <td>    1.006</td>\n",
       "</tr>\n",
       "<tr>\n",
       "  <th>Genres_Casual_Music_&_Video</th>                  <td>    0.3251</td> <td>    0.484</td> <td>    0.672</td> <td> 0.502</td> <td>   -0.623</td> <td>    1.274</td>\n",
       "</tr>\n",
       "<tr>\n",
       "  <th>Genres_Casual_Pretend_Play</th>                   <td>    0.1891</td> <td>    0.124</td> <td>    1.525</td> <td> 0.127</td> <td>   -0.054</td> <td>    0.432</td>\n",
       "</tr>\n",
       "<tr>\n",
       "  <th>Genres_Comics</th>                                <td>    0.9360</td> <td>    0.184</td> <td>    5.098</td> <td> 0.000</td> <td>    0.576</td> <td>    1.296</td>\n",
       "</tr>\n",
       "<tr>\n",
       "  <th>Genres_Comics_Creativity</th>                     <td>    1.7610</td> <td>    0.332</td> <td>    5.308</td> <td> 0.000</td> <td>    1.111</td> <td>    2.411</td>\n",
       "</tr>\n",
       "<tr>\n",
       "  <th>Genres_Communication</th>                         <td>    1.8342</td> <td>    0.127</td> <td>   14.462</td> <td> 0.000</td> <td>    1.586</td> <td>    2.083</td>\n",
       "</tr>\n",
       "<tr>\n",
       "  <th>Genres_Communication_Creativity</th>              <td> 1.445e-11</td> <td> 2.33e-11</td> <td>    0.621</td> <td> 0.535</td> <td>-3.12e-11</td> <td> 6.01e-11</td>\n",
       "</tr>\n",
       "<tr>\n",
       "  <th>Genres_Dating</th>                                <td>    1.7573</td> <td>    0.128</td> <td>   13.746</td> <td> 0.000</td> <td>    1.507</td> <td>    2.008</td>\n",
       "</tr>\n",
       "<tr>\n",
       "  <th>Genres_Education</th>                             <td>    0.4222</td> <td>    0.079</td> <td>    5.352</td> <td> 0.000</td> <td>    0.268</td> <td>    0.577</td>\n",
       "</tr>\n",
       "<tr>\n",
       "  <th>Genres_Education_Action_&_Adventure</th>          <td>    0.9916</td> <td>    0.348</td> <td>    2.852</td> <td> 0.004</td> <td>    0.310</td> <td>    1.673</td>\n",
       "</tr>\n",
       "<tr>\n",
       "  <th>Genres_Education_Brain_Games</th>                 <td>    0.3071</td> <td>    0.288</td> <td>    1.066</td> <td> 0.287</td> <td>   -0.258</td> <td>    0.872</td>\n",
       "</tr>\n",
       "<tr>\n",
       "  <th>Genres_Education_Creativity</th>                  <td>    0.6536</td> <td>    0.210</td> <td>    3.116</td> <td> 0.002</td> <td>    0.242</td> <td>    1.065</td>\n",
       "</tr>\n",
       "<tr>\n",
       "  <th>Genres_Education_Education</th>                   <td>    0.4804</td> <td>    0.115</td> <td>    4.167</td> <td> 0.000</td> <td>    0.254</td> <td>    0.706</td>\n",
       "</tr>\n",
       "<tr>\n",
       "  <th>Genres_Education_Music_&_Video</th>               <td>    0.3263</td> <td>    0.484</td> <td>    0.675</td> <td> 0.500</td> <td>   -0.622</td> <td>    1.275</td>\n",
       "</tr>\n",
       "<tr>\n",
       "  <th>Genres_Education_Pretend_Play</th>                <td>    0.5133</td> <td>    0.135</td> <td>    3.789</td> <td> 0.000</td> <td>    0.248</td> <td>    0.779</td>\n",
       "</tr>\n",
       "<tr>\n",
       "  <th>Genres_Educational</th>                           <td>    0.1075</td> <td>    0.129</td> <td>    0.836</td> <td> 0.403</td> <td>   -0.145</td> <td>    0.360</td>\n",
       "</tr>\n",
       "<tr>\n",
       "  <th>Genres_Educational_Action_&_Adventure</th>        <td>    0.2955</td> <td>    0.250</td> <td>    1.182</td> <td> 0.237</td> <td>   -0.195</td> <td>    0.786</td>\n",
       "</tr>\n",
       "<tr>\n",
       "  <th>Genres_Educational_Brain_Games</th>               <td>    0.3831</td> <td>    0.250</td> <td>    1.532</td> <td> 0.126</td> <td>   -0.107</td> <td>    0.873</td>\n",
       "</tr>\n",
       "<tr>\n",
       "  <th>Genres_Educational_Creativity</th>                <td>   -0.0931</td> <td>    0.286</td> <td>   -0.326</td> <td> 0.745</td> <td>   -0.654</td> <td>    0.468</td>\n",
       "</tr>\n",
       "<tr>\n",
       "  <th>Genres_Educational_Education</th>                 <td>    0.4166</td> <td>    0.116</td> <td>    3.581</td> <td> 0.000</td> <td>    0.189</td> <td>    0.645</td>\n",
       "</tr>\n",
       "<tr>\n",
       "  <th>Genres_Educational_Pretend_Play</th>              <td>    0.2992</td> <td>    0.147</td> <td>    2.031</td> <td> 0.042</td> <td>    0.010</td> <td>    0.588</td>\n",
       "</tr>\n",
       "<tr>\n",
       "  <th>Genres_Entertainment</th>                         <td>    0.2042</td> <td>    0.078</td> <td>    2.635</td> <td> 0.008</td> <td>    0.052</td> <td>    0.356</td>\n",
       "</tr>\n",
       "<tr>\n",
       "  <th>Genres_Entertainment_Action_&_Adventure</th>      <td>    0.3766</td> <td>    0.346</td> <td>    1.089</td> <td> 0.276</td> <td>   -0.302</td> <td>    1.055</td>\n",
       "</tr>\n",
       "<tr>\n",
       "  <th>Genres_Entertainment_Brain_Games</th>             <td>    0.4445</td> <td>    0.196</td> <td>    2.270</td> <td> 0.023</td> <td>    0.061</td> <td>    0.828</td>\n",
       "</tr>\n",
       "<tr>\n",
       "  <th>Genres_Entertainment_Creativity</th>              <td>    0.6055</td> <td>    0.286</td> <td>    2.115</td> <td> 0.035</td> <td>    0.044</td> <td>    1.167</td>\n",
       "</tr>\n",
       "<tr>\n",
       "  <th>Genres_Entertainment_Education</th>               <td>    0.5685</td> <td>    0.484</td> <td>    1.175</td> <td> 0.240</td> <td>   -0.380</td> <td>    1.517</td>\n",
       "</tr>\n",
       "<tr>\n",
       "  <th>Genres_Entertainment_Music_&_Video</th>           <td>    0.3655</td> <td>    0.152</td> <td>    2.406</td> <td> 0.016</td> <td>    0.068</td> <td>    0.663</td>\n",
       "</tr>\n",
       "<tr>\n",
       "  <th>Genres_Entertainment_Pretend_Play</th>            <td>   -0.0526</td> <td>    0.346</td> <td>   -0.152</td> <td> 0.879</td> <td>   -0.731</td> <td>    0.626</td>\n",
       "</tr>\n",
       "<tr>\n",
       "  <th>Genres_Events</th>                                <td>    2.0262</td> <td>    0.132</td> <td>   15.400</td> <td> 0.000</td> <td>    1.768</td> <td>    2.284</td>\n",
       "</tr>\n",
       "<tr>\n",
       "  <th>Genres_Finance</th>                               <td>    1.8359</td> <td>    0.126</td> <td>   14.530</td> <td> 0.000</td> <td>    1.588</td> <td>    2.084</td>\n",
       "</tr>\n",
       "<tr>\n",
       "  <th>Genres_Food_&_Drink</th>                          <td>    1.8543</td> <td>    0.128</td> <td>   14.459</td> <td> 0.000</td> <td>    1.603</td> <td>    2.106</td>\n",
       "</tr>\n",
       "<tr>\n",
       "  <th>Genres_Health_&_Fitness</th>                      <td>    1.8875</td> <td>    0.127</td> <td>   14.910</td> <td> 0.000</td> <td>    1.639</td> <td>    2.136</td>\n",
       "</tr>\n",
       "<tr>\n",
       "  <th>Genres_Health_&_Fitness_Action_&_Adventure</th>   <td>   -0.1488</td> <td>    0.484</td> <td>   -0.308</td> <td> 0.758</td> <td>   -1.097</td> <td>    0.800</td>\n",
       "</tr>\n",
       "<tr>\n",
       "  <th>Genres_Health_&_Fitness_Education</th>            <td>    0.5005</td> <td>    0.484</td> <td>    1.035</td> <td> 0.301</td> <td>   -0.448</td> <td>    1.449</td>\n",
       "</tr>\n",
       "<tr>\n",
       "  <th>Genres_House_&_Home</th>                          <td>    1.8695</td> <td>    0.130</td> <td>   14.404</td> <td> 0.000</td> <td>    1.615</td> <td>    2.124</td>\n",
       "</tr>\n",
       "<tr>\n",
       "  <th>Genres_Libraries_&_Demo</th>                      <td>    1.9068</td> <td>    0.130</td> <td>   14.667</td> <td> 0.000</td> <td>    1.652</td> <td>    2.162</td>\n",
       "</tr>\n",
       "<tr>\n",
       "  <th>Genres_Lifestyle</th>                             <td>    1.8620</td> <td>    0.126</td> <td>   14.728</td> <td> 0.000</td> <td>    1.614</td> <td>    2.110</td>\n",
       "</tr>\n",
       "<tr>\n",
       "  <th>Genres_Lifestyle_Education</th>                   <td>    0.2759</td> <td>    0.484</td> <td>    0.570</td> <td> 0.568</td> <td>   -0.672</td> <td>    1.224</td>\n",
       "</tr>\n",
       "<tr>\n",
       "  <th>Genres_Lifestyle_Pretend_Play</th>                <td>-4.816e-12</td> <td> 8.18e-12</td> <td>   -0.589</td> <td> 0.556</td> <td>-2.08e-11</td> <td> 1.12e-11</td>\n",
       "</tr>\n",
       "<tr>\n",
       "  <th>Genres_Maps_&_Navigation</th>                     <td>    1.8060</td> <td>    0.128</td> <td>   14.119</td> <td> 0.000</td> <td>    1.555</td> <td>    2.057</td>\n",
       "</tr>\n",
       "<tr>\n",
       "  <th>Genres_Medical</th>                               <td>    1.8942</td> <td>    0.126</td> <td>   15.004</td> <td> 0.000</td> <td>    1.647</td> <td>    2.142</td>\n",
       "</tr>\n",
       "<tr>\n",
       "  <th>Genres_Music</th>                                 <td>   -0.1102</td> <td>    0.124</td> <td>   -0.887</td> <td> 0.375</td> <td>   -0.354</td> <td>    0.133</td>\n",
       "</tr>\n",
       "<tr>\n",
       "  <th>Genres_Music_&_Audio_Music_&_Video</th>           <td>    0.6554</td> <td>    0.484</td> <td>    1.355</td> <td> 0.176</td> <td>   -0.293</td> <td>    1.604</td>\n",
       "</tr>\n",
       "<tr>\n",
       "  <th>Genres_Music_Music_&_Video</th>                   <td>    0.6959</td> <td>    0.346</td> <td>    2.012</td> <td> 0.044</td> <td>    0.018</td> <td>    1.374</td>\n",
       "</tr>\n",
       "<tr>\n",
       "  <th>Genres_News_&_Magazines</th>                      <td>    1.8243</td> <td>    0.127</td> <td>   14.384</td> <td> 0.000</td> <td>    1.576</td> <td>    2.073</td>\n",
       "</tr>\n",
       "<tr>\n",
       "  <th>Genres_Parenting</th>                             <td>    1.1056</td> <td>    0.142</td> <td>    7.769</td> <td> 0.000</td> <td>    0.827</td> <td>    1.385</td>\n",
       "</tr>\n",
       "<tr>\n",
       "  <th>Genres_Parenting_Brain_Games</th>                 <td> 4.994e-13</td> <td>  9.3e-13</td> <td>    0.537</td> <td> 0.591</td> <td>-1.32e-12</td> <td> 2.32e-12</td>\n",
       "</tr>\n",
       "<tr>\n",
       "  <th>Genres_Parenting_Education</th>                   <td>    0.7811</td> <td>    0.271</td> <td>    2.880</td> <td> 0.004</td> <td>    0.249</td> <td>    1.313</td>\n",
       "</tr>\n",
       "<tr>\n",
       "  <th>Genres_Parenting_Music_&_Video</th>               <td>    1.0636</td> <td>    0.233</td> <td>    4.559</td> <td> 0.000</td> <td>    0.606</td> <td>    1.521</td>\n",
       "</tr>\n",
       "<tr>\n",
       "  <th>Genres_Personalization</th>                       <td>    1.9214</td> <td>    0.126</td> <td>   15.191</td> <td> 0.000</td> <td>    1.673</td> <td>    2.169</td>\n",
       "</tr>\n",
       "<tr>\n",
       "  <th>Genres_Photography</th>                           <td>    1.8412</td> <td>    0.127</td> <td>   14.529</td> <td> 0.000</td> <td>    1.593</td> <td>    2.090</td>\n",
       "</tr>\n",
       "<tr>\n",
       "  <th>Genres_Productivity</th>                          <td>    1.8581</td> <td>    0.127</td> <td>   14.688</td> <td> 0.000</td> <td>    1.610</td> <td>    2.106</td>\n",
       "</tr>\n",
       "<tr>\n",
       "  <th>Genres_Puzzle</th>                                <td>    0.3359</td> <td>    0.075</td> <td>    4.465</td> <td> 0.000</td> <td>    0.188</td> <td>    0.483</td>\n",
       "</tr>\n",
       "<tr>\n",
       "  <th>Genres_Puzzle_Action_&_Adventure</th>             <td>    0.2801</td> <td>    0.250</td> <td>    1.120</td> <td> 0.263</td> <td>   -0.210</td> <td>    0.770</td>\n",
       "</tr>\n",
       "<tr>\n",
       "  <th>Genres_Puzzle_Brain_Games</th>                    <td>    0.3724</td> <td>    0.147</td> <td>    2.531</td> <td> 0.011</td> <td>    0.084</td> <td>    0.661</td>\n",
       "</tr>\n",
       "<tr>\n",
       "  <th>Genres_Puzzle_Creativity</th>                     <td>    0.3550</td> <td>    0.346</td> <td>    1.026</td> <td> 0.305</td> <td>   -0.323</td> <td>    1.033</td>\n",
       "</tr>\n",
       "<tr>\n",
       "  <th>Genres_Puzzle_Education</th>                      <td>    0.8109</td> <td>    0.484</td> <td>    1.677</td> <td> 0.094</td> <td>   -0.137</td> <td>    1.759</td>\n",
       "</tr>\n",
       "<tr>\n",
       "  <th>Genres_Racing</th>                                <td>   -0.0463</td> <td>    0.073</td> <td>   -0.630</td> <td> 0.528</td> <td>   -0.190</td> <td>    0.098</td>\n",
       "</tr>\n",
       "<tr>\n",
       "  <th>Genres_Racing_Action_&_Adventure</th>             <td>    0.4194</td> <td>    0.147</td> <td>    2.845</td> <td> 0.004</td> <td>    0.130</td> <td>    0.708</td>\n",
       "</tr>\n",
       "<tr>\n",
       "  <th>Genres_Racing_Pretend_Play</th>                   <td>    0.9021</td> <td>    0.484</td> <td>    1.864</td> <td> 0.062</td> <td>   -0.047</td> <td>    1.851</td>\n",
       "</tr>\n",
       "<tr>\n",
       "  <th>Genres_Role_Playing</th>                          <td>    0.1273</td> <td>    0.085</td> <td>    1.491</td> <td> 0.136</td> <td>   -0.040</td> <td>    0.295</td>\n",
       "</tr>\n",
       "<tr>\n",
       "  <th>Genres_Role_Playing_Action_&_Adventure</th>       <td>    0.2104</td> <td>    0.250</td> <td>    0.841</td> <td> 0.400</td> <td>   -0.280</td> <td>    0.701</td>\n",
       "</tr>\n",
       "<tr>\n",
       "  <th>Genres_Role_Playing_Brain_Games</th>              <td>         0</td> <td>        0</td> <td>      nan</td> <td>   nan</td> <td>        0</td> <td>        0</td>\n",
       "</tr>\n",
       "<tr>\n",
       "  <th>Genres_Role_Playing_Pretend_Play</th>             <td>    0.3760</td> <td>    0.286</td> <td>    1.316</td> <td> 0.188</td> <td>   -0.184</td> <td>    0.936</td>\n",
       "</tr>\n",
       "<tr>\n",
       "  <th>Genres_Shopping</th>                              <td>    1.8722</td> <td>    0.127</td> <td>   14.751</td> <td> 0.000</td> <td>    1.623</td> <td>    2.121</td>\n",
       "</tr>\n",
       "<tr>\n",
       "  <th>Genres_Simulation</th>                            <td>    0.1489</td> <td>    0.081</td> <td>    1.844</td> <td> 0.065</td> <td>   -0.009</td> <td>    0.307</td>\n",
       "</tr>\n",
       "<tr>\n",
       "  <th>Genres_Simulation_Action_&_Adventure</th>         <td>    0.3838</td> <td>    0.173</td> <td>    2.218</td> <td> 0.027</td> <td>    0.045</td> <td>    0.723</td>\n",
       "</tr>\n",
       "<tr>\n",
       "  <th>Genres_Simulation_Education</th>                  <td>    0.2050</td> <td>    0.282</td> <td>    0.727</td> <td> 0.467</td> <td>   -0.347</td> <td>    0.757</td>\n",
       "</tr>\n",
       "<tr>\n",
       "  <th>Genres_Simulation_Pretend_Play</th>               <td>    0.1581</td> <td>    0.285</td> <td>    0.554</td> <td> 0.580</td> <td>   -0.401</td> <td>    0.717</td>\n",
       "</tr>\n",
       "<tr>\n",
       "  <th>Genres_Social</th>                                <td>    1.8667</td> <td>    0.127</td> <td>   14.729</td> <td> 0.000</td> <td>    1.618</td> <td>    2.115</td>\n",
       "</tr>\n",
       "<tr>\n",
       "  <th>Genres_Sports</th>                                <td>    0.0579</td> <td>    0.340</td> <td>    0.170</td> <td> 0.865</td> <td>   -0.609</td> <td>    0.725</td>\n",
       "</tr>\n",
       "<tr>\n",
       "  <th>Genres_Sports_Action_&_Adventure</th>             <td>    0.1952</td> <td>    0.250</td> <td>    0.780</td> <td> 0.435</td> <td>   -0.295</td> <td>    0.686</td>\n",
       "</tr>\n",
       "<tr>\n",
       "  <th>Genres_Strategy</th>                              <td>    0.0809</td> <td>    0.092</td> <td>    0.876</td> <td> 0.381</td> <td>   -0.100</td> <td>    0.262</td>\n",
       "</tr>\n",
       "<tr>\n",
       "  <th>Genres_Strategy_Action_&_Adventure</th>           <td>    0.3205</td> <td>    0.485</td> <td>    0.661</td> <td> 0.508</td> <td>   -0.629</td> <td>    1.270</td>\n",
       "</tr>\n",
       "<tr>\n",
       "  <th>Genres_Strategy_Creativity</th>                   <td>    0.0971</td> <td>    0.484</td> <td>    0.201</td> <td> 0.841</td> <td>   -0.851</td> <td>    1.045</td>\n",
       "</tr>\n",
       "<tr>\n",
       "  <th>Genres_Strategy_Education</th>                    <td>    0.7988</td> <td>    0.484</td> <td>    1.651</td> <td> 0.099</td> <td>   -0.149</td> <td>    1.747</td>\n",
       "</tr>\n",
       "<tr>\n",
       "  <th>Genres_Tools</th>                                 <td>    1.1310</td> <td>    0.181</td> <td>    6.264</td> <td> 0.000</td> <td>    0.777</td> <td>    1.485</td>\n",
       "</tr>\n",
       "<tr>\n",
       "  <th>Genres_Tools_Education</th>                       <td>    1.3399</td> <td>    0.330</td> <td>    4.064</td> <td> 0.000</td> <td>    0.694</td> <td>    1.986</td>\n",
       "</tr>\n",
       "<tr>\n",
       "  <th>Genres_Travel_&_Local</th>                        <td>    1.1934</td> <td>    0.182</td> <td>    6.561</td> <td> 0.000</td> <td>    0.837</td> <td>    1.550</td>\n",
       "</tr>\n",
       "<tr>\n",
       "  <th>Genres_Travel_&_Local_Action_&_Adventure</th>     <td>    1.2852</td> <td>    0.330</td> <td>    3.897</td> <td> 0.000</td> <td>    0.639</td> <td>    1.932</td>\n",
       "</tr>\n",
       "<tr>\n",
       "  <th>Genres_Trivia</th>                                <td>    0.0099</td> <td>    0.110</td> <td>    0.089</td> <td> 0.929</td> <td>   -0.206</td> <td>    0.226</td>\n",
       "</tr>\n",
       "<tr>\n",
       "  <th>Genres_Video_Players_&_Editors</th>               <td>    0.1973</td> <td>    0.683</td> <td>    0.289</td> <td> 0.773</td> <td>   -1.141</td> <td>    1.536</td>\n",
       "</tr>\n",
       "<tr>\n",
       "  <th>Genres_Video_Players_&_Editors_Creativity</th>    <td>   -0.0210</td> <td>    0.484</td> <td>   -0.043</td> <td> 0.965</td> <td>   -0.969</td> <td>    0.927</td>\n",
       "</tr>\n",
       "<tr>\n",
       "  <th>Genres_Video_Players_&_Editors_Music_&_Video</th> <td>    0.1162</td> <td>    0.484</td> <td>    0.240</td> <td> 0.810</td> <td>   -0.832</td> <td>    1.064</td>\n",
       "</tr>\n",
       "<tr>\n",
       "  <th>Genres_Weather</th>                               <td>    1.8901</td> <td>    0.130</td> <td>   14.528</td> <td> 0.000</td> <td>    1.635</td> <td>    2.145</td>\n",
       "</tr>\n",
       "<tr>\n",
       "  <th>Genres_Word</th>                                  <td>    0.1021</td> <td>    0.121</td> <td>    0.842</td> <td> 0.400</td> <td>   -0.136</td> <td>    0.340</td>\n",
       "</tr>\n",
       "</table>\n",
       "<table class=\"simpletable\">\n",
       "<tr>\n",
       "  <th>Omnibus:</th>       <td>2309.432</td> <th>  Durbin-Watson:     </th> <td>   2.001</td> \n",
       "</tr>\n",
       "<tr>\n",
       "  <th>Prob(Omnibus):</th>  <td> 0.000</td>  <th>  Jarque-Bera (JB):  </th> <td>13631.515</td>\n",
       "</tr>\n",
       "<tr>\n",
       "  <th>Skew:</th>           <td>-1.663</td>  <th>  Prob(JB):          </th> <td>    0.00</td> \n",
       "</tr>\n",
       "<tr>\n",
       "  <th>Kurtosis:</th>       <td> 9.441</td>  <th>  Cond. No.          </th> <td>1.52e+21</td> \n",
       "</tr>\n",
       "</table><br/><br/>Notes:<br/>[1] R² is computed without centering (uncentered) since the model does not contain a constant.<br/>[2] Standard Errors assume that the covariance matrix of the errors is correctly specified.<br/>[3] The smallest eigenvalue is 2.71e-30. This might indicate that there are<br/>strong multicollinearity problems or that the design matrix is singular."
      ],
      "text/plain": [
       "<class 'statsmodels.iolib.summary.Summary'>\n",
       "\"\"\"\n",
       "                                 OLS Regression Results                                \n",
       "=======================================================================================\n",
       "Dep. Variable:                 Rating   R-squared (uncentered):                   0.987\n",
       "Model:                            OLS   Adj. R-squared (uncentered):              0.987\n",
       "Method:                 Least Squares   F-statistic:                              3858.\n",
       "Date:                Fri, 30 Dec 2022   Prob (F-statistic):                        0.00\n",
       "Time:                        17:49:49   Log-Likelihood:                         -4175.7\n",
       "No. Observations:                6225   AIC:                                      8599.\n",
       "Df Residuals:                    6101   BIC:                                      9435.\n",
       "Df Model:                         124                                                  \n",
       "Covariance Type:            nonrobust                                                  \n",
       "================================================================================================================\n",
       "                                                   coef    std err          t      P>|t|      [0.025      0.975]\n",
       "----------------------------------------------------------------------------------------------------------------\n",
       "Reviews                                          0.1720      0.006     27.977      0.000       0.160       0.184\n",
       "Size                                         -4.283e-07   3.27e-07     -1.311      0.190   -1.07e-06    2.12e-07\n",
       "Installs                                        -0.1460      0.006    -24.006      0.000      -0.158      -0.134\n",
       "Price                                           -0.0004      0.000     -1.153      0.249      -0.001       0.000\n",
       "Category_AUTO_AND_VEHICLES                       1.9291      0.130     14.848      0.000       1.674       2.184\n",
       "Category_BEAUTY                                  1.9767      0.133     14.877      0.000       1.716       2.237\n",
       "Category_BOOKS_AND_REFERENCE                     1.9443      0.127     15.256      0.000       1.694       2.194\n",
       "Category_BUSINESS                                1.8690      0.126     14.775      0.000       1.621       2.117\n",
       "Category_COMICS                                  2.6970      0.229     11.767      0.000       2.248       3.146\n",
       "Category_COMMUNICATION                           1.8342      0.127     14.462      0.000       1.586       2.083\n",
       "Category_DATING                                  1.7573      0.128     13.746      0.000       1.507       2.008\n",
       "Category_EDUCATION                               3.4392      0.263     13.063      0.000       2.923       3.955\n",
       "Category_ENTERTAINMENT                           3.3440      0.263     12.705      0.000       2.828       3.860\n",
       "Category_EVENTS                                  2.0262      0.132     15.400      0.000       1.768       2.284\n",
       "Category_FAMILY                                  3.4702      0.256     13.547      0.000       2.968       3.972\n",
       "Category_FINANCE                                 1.8359      0.126     14.530      0.000       1.588       2.084\n",
       "Category_FOOD_AND_DRINK                          1.8543      0.128     14.459      0.000       1.603       2.106\n",
       "Category_GAME                                    3.6747      0.252     14.566      0.000       3.180       4.169\n",
       "Category_HEALTH_AND_FITNESS                      1.8875      0.127     14.910      0.000       1.639       2.136\n",
       "Category_HOUSE_AND_HOME                          1.8695      0.130     14.404      0.000       1.615       2.124\n",
       "Category_LIBRARIES_AND_DEMO                      1.9068      0.130     14.667      0.000       1.652       2.162\n",
       "Category_LIFESTYLE                               1.8620      0.126     14.728      0.000       1.614       2.110\n",
       "Category_MAPS_AND_NAVIGATION                     1.8060      0.128     14.119      0.000       1.555       2.057\n",
       "Category_MEDICAL                                 1.8942      0.126     15.004      0.000       1.647       2.142\n",
       "Category_NEWS_AND_MAGAZINES                      1.8243      0.127     14.384      0.000       1.576       2.073\n",
       "Category_PARENTING                               2.9503      0.219     13.473      0.000       2.521       3.380\n",
       "Category_PERSONALIZATION                         1.9214      0.126     15.191      0.000       1.673       2.169\n",
       "Category_PHOTOGRAPHY                             1.8412      0.127     14.529      0.000       1.593       2.090\n",
       "Category_PRODUCTIVITY                            1.8581      0.127     14.688      0.000       1.610       2.106\n",
       "Category_SHOPPING                                1.8722      0.127     14.751      0.000       1.623       2.121\n",
       "Category_SOCIAL                                  1.8667      0.127     14.729      0.000       1.618       2.115\n",
       "Category_SPORTS                                  3.5984      0.422      8.518      0.000       2.770       4.427\n",
       "Category_TOOLS                                   2.4709      0.231     10.684      0.000       2.018       2.924\n",
       "Category_TRAVEL_AND_LOCAL                        2.4785      0.231     10.708      0.000       2.025       2.932\n",
       "Category_VIDEO_PLAYERS                           3.3981      0.724      4.693      0.000       1.979       4.818\n",
       "Category_WEATHER                                 1.8901      0.130     14.528      0.000       1.635       2.145\n",
       "Type_Paid                                       -0.0545      0.027     -1.995      0.046      -0.108      -0.001\n",
       "Content_Rating_Everyone                          0.8520      0.250      3.412      0.001       0.362       1.341\n",
       "Content_Rating_Everyone_10+                      0.8498      0.251      3.379      0.001       0.357       1.343\n",
       "Content_Rating_Mature_17+                        0.8328      0.252      3.309      0.001       0.339       1.326\n",
       "Content_Rating_Teen                              0.8634      0.250      3.454      0.001       0.373       1.353\n",
       "Content_Rating_Unrated                       -4.162e-12   2.56e-11     -0.163      0.871   -5.43e-11     4.6e-11\n",
       "Genres_Action_Action_&_Adventure                 0.2629      0.142      1.858      0.063      -0.015       0.540\n",
       "Genres_Adventure                                -0.0722      0.076     -0.947      0.344      -0.222       0.077\n",
       "Genres_Adventure_Action_&_Adventure              0.3537      0.484      0.731      0.465      -0.594       1.302\n",
       "Genres_Adventure_Brain_Games                     0.4914      0.484      1.015      0.310      -0.458       1.440\n",
       "Genres_Adventure_Education                       0.0079      0.346      0.023      0.982      -0.671       0.687\n",
       "Genres_Arcade                                    0.0563      0.055      1.026      0.305      -0.051       0.164\n",
       "Genres_Arcade_Action_&_Adventure                 0.4329      0.195      2.223      0.026       0.051       0.815\n",
       "Genres_Arcade_Pretend_Play                       0.5014      0.484      1.036      0.300      -0.447       1.450\n",
       "Genres_Art_&_Design                              3.9731      0.263     15.121      0.000       3.458       4.488\n",
       "Genres_Art_&_Design_Creativity                   3.4723      0.294     11.797      0.000       2.895       4.049\n",
       "Genres_Art_&_Design_Pretend_Play                 3.7871      0.540      7.007      0.000       2.728       4.847\n",
       "Genres_Auto_&_Vehicles                           1.9291      0.130     14.848      0.000       1.674       2.184\n",
       "Genres_Beauty                                    1.9767      0.133     14.877      0.000       1.716       2.237\n",
       "Genres_Board                                     0.0633      0.088      0.718      0.473      -0.110       0.236\n",
       "Genres_Board_Action_&_Adventure                  0.0466      0.484      0.096      0.923      -0.902       0.995\n",
       "Genres_Board_Brain_Games                         0.4095      0.168      2.435      0.015       0.080       0.739\n",
       "Genres_Board_Pretend_Play                     1.201e-12   2.55e-11      0.047      0.962   -4.88e-11    5.12e-11\n",
       "Genres_Books_&_Reference                         1.9443      0.127     15.256      0.000       1.694       2.194\n",
       "Genres_Books_&_Reference_Education               0.2464      0.346      0.712      0.476      -0.432       0.924\n",
       "Genres_Business                                  1.8690      0.126     14.775      0.000       1.621       2.117\n",
       "Genres_Card                                     -0.1351      0.089     -1.526      0.127      -0.309       0.038\n",
       "Genres_Card_Action_&_Adventure                   0.0105      0.347      0.030      0.976      -0.669       0.690\n",
       "Genres_Card_Brain_Games                          0.6464      0.484      1.337      0.181      -0.302       1.594\n",
       "Genres_Casino                                    0.0664      0.108      0.617      0.538      -0.145       0.277\n",
       "Genres_Casual                                    0.0911      0.080      1.145      0.252      -0.065       0.247\n",
       "Genres_Casual_Action_&_Adventure                 0.2237      0.156      1.433      0.152      -0.082       0.530\n",
       "Genres_Casual_Brain_Games                        0.5343      0.173      3.091      0.002       0.195       0.873\n",
       "Genres_Casual_Creativity                         0.2092      0.246      0.849      0.396      -0.274       0.692\n",
       "Genres_Casual_Education                          0.3276      0.346      0.947      0.344      -0.350       1.006\n",
       "Genres_Casual_Music_&_Video                      0.3251      0.484      0.672      0.502      -0.623       1.274\n",
       "Genres_Casual_Pretend_Play                       0.1891      0.124      1.525      0.127      -0.054       0.432\n",
       "Genres_Comics                                    0.9360      0.184      5.098      0.000       0.576       1.296\n",
       "Genres_Comics_Creativity                         1.7610      0.332      5.308      0.000       1.111       2.411\n",
       "Genres_Communication                             1.8342      0.127     14.462      0.000       1.586       2.083\n",
       "Genres_Communication_Creativity               1.445e-11   2.33e-11      0.621      0.535   -3.12e-11    6.01e-11\n",
       "Genres_Dating                                    1.7573      0.128     13.746      0.000       1.507       2.008\n",
       "Genres_Education                                 0.4222      0.079      5.352      0.000       0.268       0.577\n",
       "Genres_Education_Action_&_Adventure              0.9916      0.348      2.852      0.004       0.310       1.673\n",
       "Genres_Education_Brain_Games                     0.3071      0.288      1.066      0.287      -0.258       0.872\n",
       "Genres_Education_Creativity                      0.6536      0.210      3.116      0.002       0.242       1.065\n",
       "Genres_Education_Education                       0.4804      0.115      4.167      0.000       0.254       0.706\n",
       "Genres_Education_Music_&_Video                   0.3263      0.484      0.675      0.500      -0.622       1.275\n",
       "Genres_Education_Pretend_Play                    0.5133      0.135      3.789      0.000       0.248       0.779\n",
       "Genres_Educational                               0.1075      0.129      0.836      0.403      -0.145       0.360\n",
       "Genres_Educational_Action_&_Adventure            0.2955      0.250      1.182      0.237      -0.195       0.786\n",
       "Genres_Educational_Brain_Games                   0.3831      0.250      1.532      0.126      -0.107       0.873\n",
       "Genres_Educational_Creativity                   -0.0931      0.286     -0.326      0.745      -0.654       0.468\n",
       "Genres_Educational_Education                     0.4166      0.116      3.581      0.000       0.189       0.645\n",
       "Genres_Educational_Pretend_Play                  0.2992      0.147      2.031      0.042       0.010       0.588\n",
       "Genres_Entertainment                             0.2042      0.078      2.635      0.008       0.052       0.356\n",
       "Genres_Entertainment_Action_&_Adventure          0.3766      0.346      1.089      0.276      -0.302       1.055\n",
       "Genres_Entertainment_Brain_Games                 0.4445      0.196      2.270      0.023       0.061       0.828\n",
       "Genres_Entertainment_Creativity                  0.6055      0.286      2.115      0.035       0.044       1.167\n",
       "Genres_Entertainment_Education                   0.5685      0.484      1.175      0.240      -0.380       1.517\n",
       "Genres_Entertainment_Music_&_Video               0.3655      0.152      2.406      0.016       0.068       0.663\n",
       "Genres_Entertainment_Pretend_Play               -0.0526      0.346     -0.152      0.879      -0.731       0.626\n",
       "Genres_Events                                    2.0262      0.132     15.400      0.000       1.768       2.284\n",
       "Genres_Finance                                   1.8359      0.126     14.530      0.000       1.588       2.084\n",
       "Genres_Food_&_Drink                              1.8543      0.128     14.459      0.000       1.603       2.106\n",
       "Genres_Health_&_Fitness                          1.8875      0.127     14.910      0.000       1.639       2.136\n",
       "Genres_Health_&_Fitness_Action_&_Adventure      -0.1488      0.484     -0.308      0.758      -1.097       0.800\n",
       "Genres_Health_&_Fitness_Education                0.5005      0.484      1.035      0.301      -0.448       1.449\n",
       "Genres_House_&_Home                              1.8695      0.130     14.404      0.000       1.615       2.124\n",
       "Genres_Libraries_&_Demo                          1.9068      0.130     14.667      0.000       1.652       2.162\n",
       "Genres_Lifestyle                                 1.8620      0.126     14.728      0.000       1.614       2.110\n",
       "Genres_Lifestyle_Education                       0.2759      0.484      0.570      0.568      -0.672       1.224\n",
       "Genres_Lifestyle_Pretend_Play                -4.816e-12   8.18e-12     -0.589      0.556   -2.08e-11    1.12e-11\n",
       "Genres_Maps_&_Navigation                         1.8060      0.128     14.119      0.000       1.555       2.057\n",
       "Genres_Medical                                   1.8942      0.126     15.004      0.000       1.647       2.142\n",
       "Genres_Music                                    -0.1102      0.124     -0.887      0.375      -0.354       0.133\n",
       "Genres_Music_&_Audio_Music_&_Video               0.6554      0.484      1.355      0.176      -0.293       1.604\n",
       "Genres_Music_Music_&_Video                       0.6959      0.346      2.012      0.044       0.018       1.374\n",
       "Genres_News_&_Magazines                          1.8243      0.127     14.384      0.000       1.576       2.073\n",
       "Genres_Parenting                                 1.1056      0.142      7.769      0.000       0.827       1.385\n",
       "Genres_Parenting_Brain_Games                  4.994e-13    9.3e-13      0.537      0.591   -1.32e-12    2.32e-12\n",
       "Genres_Parenting_Education                       0.7811      0.271      2.880      0.004       0.249       1.313\n",
       "Genres_Parenting_Music_&_Video                   1.0636      0.233      4.559      0.000       0.606       1.521\n",
       "Genres_Personalization                           1.9214      0.126     15.191      0.000       1.673       2.169\n",
       "Genres_Photography                               1.8412      0.127     14.529      0.000       1.593       2.090\n",
       "Genres_Productivity                              1.8581      0.127     14.688      0.000       1.610       2.106\n",
       "Genres_Puzzle                                    0.3359      0.075      4.465      0.000       0.188       0.483\n",
       "Genres_Puzzle_Action_&_Adventure                 0.2801      0.250      1.120      0.263      -0.210       0.770\n",
       "Genres_Puzzle_Brain_Games                        0.3724      0.147      2.531      0.011       0.084       0.661\n",
       "Genres_Puzzle_Creativity                         0.3550      0.346      1.026      0.305      -0.323       1.033\n",
       "Genres_Puzzle_Education                          0.8109      0.484      1.677      0.094      -0.137       1.759\n",
       "Genres_Racing                                   -0.0463      0.073     -0.630      0.528      -0.190       0.098\n",
       "Genres_Racing_Action_&_Adventure                 0.4194      0.147      2.845      0.004       0.130       0.708\n",
       "Genres_Racing_Pretend_Play                       0.9021      0.484      1.864      0.062      -0.047       1.851\n",
       "Genres_Role_Playing                              0.1273      0.085      1.491      0.136      -0.040       0.295\n",
       "Genres_Role_Playing_Action_&_Adventure           0.2104      0.250      0.841      0.400      -0.280       0.701\n",
       "Genres_Role_Playing_Brain_Games                       0          0        nan        nan           0           0\n",
       "Genres_Role_Playing_Pretend_Play                 0.3760      0.286      1.316      0.188      -0.184       0.936\n",
       "Genres_Shopping                                  1.8722      0.127     14.751      0.000       1.623       2.121\n",
       "Genres_Simulation                                0.1489      0.081      1.844      0.065      -0.009       0.307\n",
       "Genres_Simulation_Action_&_Adventure             0.3838      0.173      2.218      0.027       0.045       0.723\n",
       "Genres_Simulation_Education                      0.2050      0.282      0.727      0.467      -0.347       0.757\n",
       "Genres_Simulation_Pretend_Play                   0.1581      0.285      0.554      0.580      -0.401       0.717\n",
       "Genres_Social                                    1.8667      0.127     14.729      0.000       1.618       2.115\n",
       "Genres_Sports                                    0.0579      0.340      0.170      0.865      -0.609       0.725\n",
       "Genres_Sports_Action_&_Adventure                 0.1952      0.250      0.780      0.435      -0.295       0.686\n",
       "Genres_Strategy                                  0.0809      0.092      0.876      0.381      -0.100       0.262\n",
       "Genres_Strategy_Action_&_Adventure               0.3205      0.485      0.661      0.508      -0.629       1.270\n",
       "Genres_Strategy_Creativity                       0.0971      0.484      0.201      0.841      -0.851       1.045\n",
       "Genres_Strategy_Education                        0.7988      0.484      1.651      0.099      -0.149       1.747\n",
       "Genres_Tools                                     1.1310      0.181      6.264      0.000       0.777       1.485\n",
       "Genres_Tools_Education                           1.3399      0.330      4.064      0.000       0.694       1.986\n",
       "Genres_Travel_&_Local                            1.1934      0.182      6.561      0.000       0.837       1.550\n",
       "Genres_Travel_&_Local_Action_&_Adventure         1.2852      0.330      3.897      0.000       0.639       1.932\n",
       "Genres_Trivia                                    0.0099      0.110      0.089      0.929      -0.206       0.226\n",
       "Genres_Video_Players_&_Editors                   0.1973      0.683      0.289      0.773      -1.141       1.536\n",
       "Genres_Video_Players_&_Editors_Creativity       -0.0210      0.484     -0.043      0.965      -0.969       0.927\n",
       "Genres_Video_Players_&_Editors_Music_&_Video     0.1162      0.484      0.240      0.810      -0.832       1.064\n",
       "Genres_Weather                                   1.8901      0.130     14.528      0.000       1.635       2.145\n",
       "Genres_Word                                      0.1021      0.121      0.842      0.400      -0.136       0.340\n",
       "==============================================================================\n",
       "Omnibus:                     2309.432   Durbin-Watson:                   2.001\n",
       "Prob(Omnibus):                  0.000   Jarque-Bera (JB):            13631.515\n",
       "Skew:                          -1.663   Prob(JB):                         0.00\n",
       "Kurtosis:                       9.441   Cond. No.                     1.52e+21\n",
       "==============================================================================\n",
       "\n",
       "Notes:\n",
       "[1] R² is computed without centering (uncentered) since the model does not contain a constant.\n",
       "[2] Standard Errors assume that the covariance matrix of the errors is correctly specified.\n",
       "[3] The smallest eigenvalue is 2.71e-30. This might indicate that there are\n",
       "strong multicollinearity problems or that the design matrix is singular.\n",
       "\"\"\""
      ]
     },
     "execution_count": 122,
     "metadata": {},
     "output_type": "execute_result"
    }
   ],
   "source": [
    "#Finding the summary\n",
    "model1.summary()"
   ]
  },
  {
   "cell_type": "markdown",
   "metadata": {
    "id": "N084Cy8E7o6M"
   },
   "source": [
    "#### **Identified values for *model1*:**"
   ]
  },
  {
   "cell_type": "markdown",
   "metadata": {
    "id": "kOBM-LSgYvsS"
   },
   "source": [
    "* **$R^2$ (uncentered): 0.987**\n",
    "\n",
    "  **Overview of $R^2$ (R-square):**\n",
    "  ![R-square](https://labcontent.simplicdn.net/data-content/content-assets/Data_and_AI/Applied_Machine_Learning/Images/0.7_Supervised_Learning_-_Regression_and_Classification/Trainer_PPT_and_IPYNB/0.2_Linear_Regression/R-square.JPG)"
   ]
  },
  {
   "cell_type": "markdown",
   "metadata": {
    "id": "SMeoNzybJW2u"
   },
   "source": [
    "* **Adjusted $R^2$ (uncentered): 0.987**\n",
    "\n",
    "  **Overview of adjusted $R^2$:**\n",
    "\n",
    "  The disadvantage with R-squared is that it assumes every independent variable in the model and explains variations in the dependent variable.\n",
    "Use adjusted R-squared when working on a multiple linear regression problem.\n",
    "\n",
    "  ![Adj R-square](https://labcontent.simplicdn.net/data-content/content-assets/Data_and_AI/Applied_Machine_Learning/Images/0.7_Supervised_Learning_-_Regression_and_Classification/Trainer_PPT_and_IPYNB/0.2_Linear_Regression/Adj%20R-square.JPG)\n"
   ]
  },
  {
   "cell_type": "markdown",
   "metadata": {
    "id": "jOPn8cahJ79r"
   },
   "source": [
    "* **F-statistic: 3717**\n",
    "  \n",
    "  **Overview of F-statistic:**\n",
    "\n",
    "  The F-test indicates whether the linear regression model provides a better fit to the data in comparison to a model that contains no independent variables.\n",
    "  \n",
    "    Note: In general, the models with high F-statistic are considered as optimum.\n",
    "\n",
    "  An F-test provides 2 values:\n",
    "  * F-critical: This value is also called as F statistic\n",
    "  * F-value: This value is without the “critical” part\n",
    "  \n",
    "    Note: The F-value is always observed along with the p-value. In general, the higher the F-value of a variable, the lesser the p-value.\n"
   ]
  },
  {
   "cell_type": "markdown",
   "metadata": {
    "id": "skY89YvRP1Iw"
   },
   "source": [
    "* **AIC: 8811**\n",
    "\n",
    "* **BIC: 9646**\n",
    "\n",
    "  **Overview of AIC and BIC:**\n",
    "\n",
    "  * AIC and BIC are penalized-likelihood criteria.\n",
    "\n",
    "  * They are used for selecting the best predictor subsets in regression and comparing the nonnested models.\n",
    "\n",
    "  * AIC: \"It is an estimate of a constant plus the relative distance between the unknown true likelihood function of the data and the fitted likelihood function of the model.\" \n",
    "\n",
    "  * BIC: \"It is an estimate of a function of the posterior probability of a model being true, under a certain Bayesian setup.\"\n",
    "\n",
    "\n",
    "    Source: https://www.methodology.psu.edu/resources/AIC-vs-BIC/\n",
    "\n",
    "\n",
    "\n",
    "* **Formula:**\n",
    "\n",
    "  The AIC or BIC for a model is usually written in the form:\n",
    "  \n",
    "  **$[-2logL + kp]$**\n",
    "  \n",
    "  Where: \n",
    "    * L = likelihood function\n",
    "    * p = number of parameters in the model\n",
    "    * k = 2 for AIC and log(n) for BIC\n",
    "\n",
    "\n",
    "* In popular opinion:\n",
    "  * Lower AIC tells that the model is closer to the truth\n",
    "  * Lower BIC tells that the model is more likely to be the true model"
   ]
  },
  {
   "cell_type": "markdown",
   "metadata": {
    "id": "Dkq-ZXdaHSse"
   },
   "source": [
    "#### **Prediction and evaluation using \"model1\"**"
   ]
  },
  {
   "cell_type": "code",
   "execution_count": 123,
   "metadata": {
    "id": "Fzq7EnrcC1Ds"
   },
   "outputs": [],
   "source": [
    "#Prediction and evaluation\n",
    "import sklearn.metrics as metrics\n",
    "y_test_pred= model1.predict(X_test)"
   ]
  },
  {
   "cell_type": "markdown",
   "metadata": {
    "id": "SPi02JkAMRfr"
   },
   "source": [
    "**Metrics used for regression models:**\n",
    "<br><br>\n",
    "\n",
    "![RMSE1](https://labcontent.simplicdn.net/data-content/content-assets/Data_and_AI/Applied_Machine_Learning/Images/0.7_Supervised_Learning_-_Regression_and_Classification/Trainer_PPT_and_IPYNB/0.2_Linear_Regression/RMSE1.JPG)\n",
    "\n",
    "\n",
    "Lower values of RMSE indicate better fit."
   ]
  },
  {
   "cell_type": "code",
   "execution_count": 124,
   "metadata": {
    "id": "-JkJCMsBHWi6"
   },
   "outputs": [
    {
     "name": "stdout",
     "output_type": "stream",
     "text": [
      "0.5140252120234947\n"
     ]
    }
   ],
   "source": [
    "#Assessing the model using RMSE\n",
    "print(np.sqrt(metrics.mean_squared_error(y_test, y_test_pred)))\n",
    "\n",
    "#RMSE of \"model1\" = 0.49203326281981113"
   ]
  },
  {
   "cell_type": "markdown",
   "metadata": {
    "id": "Ddo_2E0Ja9iO"
   },
   "source": [
    "#### **MPE:**\n",
    "\n",
    "Mean Percentage Error measures the errors that indicate whether or not the prediction is biased. \n",
    "\n",
    "Bias is one component of the mean squared error and is measured as the variance of the errors plus the square of the mean error. \n",
    "\n",
    "$$MSE = VAR(E) + (MPE)^2$$\n",
    "\n",
    "Therefore, minimizing the MSE will implicitly minimize the bias and the variance of the errors.\n",
    "\n",
    "\n",
    "MPE is the computed average of percentage errors by which prediction of a model differ from actual values of the quantity being predicted.\n",
    "\n",
    "Formula:\n",
    "\n",
    "$$MPE=\\ \\frac{100\\%}{n}\\ \\sum^{n}_{i=1}\\ \\frac{a_i - p_i}{a_i}$$\n",
    "\n",
    "\n",
    "Where:\n",
    "* $a_i$ = Actual value of the quantity being predicted\n",
    "* $p_i$ = Predicted value\n",
    "* $n$ = Number of different times for which the variable is predicted"
   ]
  },
  {
   "cell_type": "code",
   "execution_count": 125,
   "metadata": {
    "id": "LImD-epui9UM"
   },
   "outputs": [
    {
     "name": "stdout",
     "output_type": "stream",
     "text": [
      "MPE: -2.7707196649216\n"
     ]
    }
   ],
   "source": [
    "#Calculating MPE\n",
    "def MPE(y_test_pred,y_test):\n",
    "    return ( ((y_test - y_test_pred) / y_test).mean()) * 100\n",
    "\n",
    "print ('MPE: ' + str(MPE(y_test_pred,y_test)) )"
   ]
  },
  {
   "cell_type": "markdown",
   "metadata": {
    "id": "lMITDPOra_sG"
   },
   "source": [
    "#### **MAPE:**\n",
    "\n",
    "Mean Absolute Percentage Error measures the prediction accuracy of a model.\n",
    "\n",
    "Formula:\n",
    "\n",
    "$$MAPE\\ =\\ \\frac{1}{n}\\ \\sum^{n}_{i=1}\\ \\frac{|A_i-P_i|}{|A_i|}$$\n",
    "\n",
    "Where:\n",
    "* $A_i$ = Actual value of the quantity being predicted\n",
    "* $P_i$ = Predicted value\n",
    "* $n$ = Number of different times for which the variable is predicted\n",
    "\n",
    "\n",
    "<br><br>\n",
    "Mean Absolute Percentage Error is similar to Mean Absolute Error but is normalized by true observation.\n",
    "\n",
    "The mean absolute percentage error is useful for reporting purpose and is expressed in generic percentage terms.\n",
    "\n",
    "<br><br>\n",
    "Note: In general, the desirable MAPE value is less than 20.\n"
   ]
  },
  {
   "cell_type": "code",
   "execution_count": 126,
   "metadata": {
    "id": "SXnEMol7GHBy"
   },
   "outputs": [
    {
     "name": "stdout",
     "output_type": "stream",
     "text": [
      "MAPE: 9.959893283530228\n"
     ]
    }
   ],
   "source": [
    "#Calculating MAPE\n",
    "def MAPE(y_test_pred,y_test):\n",
    "    return np.mean(np.abs((y_test - y_test_pred) / y_test)) * 100\n",
    "    \n",
    "print ('MAPE: ' + str(MAPE(y_test_pred,y_test)) )"
   ]
  },
  {
   "cell_type": "markdown",
   "metadata": {
    "id": "u4vAfEDV1fiC"
   },
   "source": [
    "#### **Reiterating the Model**"
   ]
  },
  {
   "cell_type": "markdown",
   "metadata": {
    "id": "U860p5LSXKc9"
   },
   "source": [
    "**1. Feature selection using p-value:**"
   ]
  },
  {
   "cell_type": "markdown",
   "metadata": {
    "id": "apZf_-JaIWd_"
   },
   "source": [
    "In regression analysis, p-values and coefficients together indicate which relationships in the model are statistically significant and the nature of those relationships.\n",
    "\n",
    "\n",
    "Coefficients describe the mathematical relationship between each independent variable and the dependent variable.\n",
    "\n",
    "p-values for the coefficients indicate whether these relationships are statistically significant.\n"
   ]
  },
  {
   "cell_type": "markdown",
   "metadata": {
    "id": "tz7pyGTuXM1Z"
   },
   "source": [
    "In general, the threshold for the p-value is taken as $\\leq$ 0.05.\n",
    "\n",
    "\n",
    "Let's find the variable with value $\\leq$ 0.05."
   ]
  },
  {
   "cell_type": "markdown",
   "metadata": {
    "id": "zMigGqNa2DNR"
   },
   "source": [
    "**2. List:**\n",
    "\n",
    "Identified 99 variables that have p-value $\\leq$ 0.05."
   ]
  },
  {
   "cell_type": "markdown",
   "metadata": {
    "id": "hagJwcIm2LMJ"
   },
   "source": [
    "'Rating','Reviews','Installs','Category_AUTO_AND_VEHICLES','Category_BEAUTY','Category_BOOKS_AND_REFERENCE','Category_BUSINESS','Category_COMICS','Category_COMMUNICATION','Category_DATING','Category_EDUCATION','Category_EDUCATION','Category_ENTERTAINMENT','Category_EVENTS','Category_FAMILY','Category_FINANCE','Category_FOOD_AND_DRINK','Category_GAME','Category_HEALTH_AND_FITNESS','Category_HOUSE_AND_HOME','Category_LIBRARIES_AND_DEMO','Category_LIFESTYLE','Category_MAPS_AND_NAVIGATION','Category_MEDICAL','Category_NEWS_AND_MAGAZINES','Category_PARENTING','Category_PERSONALIZATION','Category_PHOTOGRAPHY','Category_PRODUCTIVITY','Category_SHOPPING','Category_SOCIAL','Category_SPORTS','Category_TOOLS','Category_TRAVEL_AND_LOCAL','Category_VIDEO_PLAYERS','Category_WEATHER','Type_Paid','Content_Rating_Everyone','Content_Rating_Everyone_10+','Content_Rating_Mature_17+','Content_Rating_Teen','Content_Rating_Unrated','Genres_Art_&_Design','Genres_Art_&_Design;Creativity','Genres_Art_&_Design;Pretend_Play','Genres_Auto_&_Vehicles','Genres_Beauty','Genres_Board;Brain_Games','Genres_Books_&_Reference','Genres_Business','Genres_Casual','Genres_Casual;Action_&_Adventure','Genres_Casual;Brain_Games','Genres_Casual;Pretend_Play','Genres_Comics','Genres_Comics;Creativity','Genres_Communication','Genres_Dating','Genres_Education','Genres_Education;Action_&_Adventure','Genres_Education;Creativity','Genres_Education;Education','Genres_Education;Pretend_Play','Genres_Educational;Education','Genres_Educational;Pretend_Play','Genres_Entertainment','Genres_Entertainment;Brain_Games','Genres_Entertainment;Creativity','Genres_Entertainment;Music_&_Video','Genres_Events','Genres_Finance','Genres_Food_&_Drink','Genres_Health_&_Fitness','Genres_House_&_Home','Genres_Libraries_&_Demo','Genres_Lifestyle','Genres_Maps_&_Navigation','Genres_Medical','Genres_Music;Music_&_Video','Genres_News_&_Magazines','Genres_Parenting','Genres_Parenting;Education','Genres_Parenting;Music_&_Video','Genres_Personalization','Genres_Photography','Genres_Productivity','Genres_Puzzle','Genres_Puzzle;Brain_Games','Genres_Racing;Action_&_Adventure','Genres_Role_Playing','Genres_Shopping','Genres_Simulation','Genres_Simulation;Action_&_Adventure','Genres_Social','Genres_Strategy','Genres_Tools','Genres_Tools;Education','Genres_Travel_&_Local','Genres_Travel_&_Local;Action_&_Adventure','Genres_Weather'"
   ]
  },
  {
   "cell_type": "markdown",
   "metadata": {
    "id": "6fO0v8HT2ZGA"
   },
   "source": [
    "**3. Create a new dataset with chosen variables and split it into training and testing dataset**"
   ]
  },
  {
   "cell_type": "code",
   "execution_count": 128,
   "metadata": {
    "id": "g6POnvM_bt9n"
   },
   "outputs": [],
   "source": [
    "#Create inp3\n",
    "inp3 = inp2[['Rating','Reviews','Installs','Category_AUTO_AND_VEHICLES','Category_BEAUTY',\n",
    "             'Category_BOOKS_AND_REFERENCE','Category_BUSINESS','Category_COMICS',\n",
    "             'Category_COMMUNICATION','Category_DATING','Category_EDUCATION','Category_EDUCATION',\n",
    "             'Category_ENTERTAINMENT','Category_EVENTS','Category_FAMILY','Category_FINANCE',\n",
    "             'Category_FOOD_AND_DRINK','Category_GAME','Category_HEALTH_AND_FITNESS',\n",
    "             'Category_HOUSE_AND_HOME','Category_LIBRARIES_AND_DEMO','Category_LIFESTYLE',\n",
    "             'Category_MAPS_AND_NAVIGATION','Category_MEDICAL','Category_NEWS_AND_MAGAZINES',\n",
    "             'Category_PARENTING','Category_PERSONALIZATION','Category_PHOTOGRAPHY','Category_PRODUCTIVITY',\n",
    "             'Category_SHOPPING','Category_SOCIAL','Category_SPORTS','Category_TOOLS','Category_TRAVEL_AND_LOCAL',\n",
    "             'Category_VIDEO_PLAYERS','Category_WEATHER','Type_Paid','Content_Rating_Everyone',\n",
    "             'Content_Rating_Everyone_10+','Content_Rating_Mature_17+','Content_Rating_Teen','Content_Rating_Unrated',\n",
    "             'Genres_Art_&_Design','Genres_Art_&_Design_Creativity','Genres_Art_&_Design_Pretend_Play',\n",
    "             'Genres_Auto_&_Vehicles','Genres_Beauty','Genres_Board_Brain_Games','Genres_Books_&_Reference',\n",
    "             'Genres_Business','Genres_Casual','Genres_Casual_Action_&_Adventure','Genres_Casual_Brain_Games',\n",
    "             'Genres_Casual_Pretend_Play','Genres_Comics','Genres_Comics_Creativity','Genres_Communication',\n",
    "             'Genres_Dating','Genres_Education','Genres_Education_Action_&_Adventure','Genres_Education_Creativity',\n",
    "             'Genres_Education_Education','Genres_Education_Pretend_Play','Genres_Educational_Education',\n",
    "             'Genres_Educational_Pretend_Play','Genres_Entertainment','Genres_Entertainment_Brain_Games',\n",
    "             'Genres_Entertainment_Creativity','Genres_Entertainment_Music_&_Video','Genres_Events',\n",
    "             'Genres_Finance','Genres_Food_&_Drink','Genres_Health_&_Fitness','Genres_House_&_Home',\n",
    "             'Genres_Libraries_&_Demo','Genres_Lifestyle','Genres_Maps_&_Navigation','Genres_Medical',\n",
    "             'Genres_Music_Music_&_Video','Genres_News_&_Magazines','Genres_Parenting','Genres_Parenting_Education',\n",
    "             'Genres_Parenting_Music_&_Video','Genres_Personalization','Genres_Photography','Genres_Productivity',\n",
    "             'Genres_Puzzle','Genres_Puzzle_Brain_Games','Genres_Racing_Action_&_Adventure','Genres_Role_Playing',\n",
    "             'Genres_Shopping','Genres_Simulation','Genres_Simulation_Action_&_Adventure','Genres_Social',\n",
    "             'Genres_Strategy','Genres_Tools','Genres_Tools_Education','Genres_Travel_&_Local',\n",
    "             'Genres_Travel_&_Local_Action_&_Adventure','Genres_Weather']]"
   ]
  },
  {
   "cell_type": "code",
   "execution_count": 129,
   "metadata": {
    "id": "KZl6k3LY2jBF"
   },
   "outputs": [
    {
     "data": {
      "text/plain": [
       "Rating                                      float64\n",
       "Reviews                                     float64\n",
       "Installs                                    float64\n",
       "Category_AUTO_AND_VEHICLES                    uint8\n",
       "Category_BEAUTY                               uint8\n",
       "                                             ...   \n",
       "Genres_Tools                                  uint8\n",
       "Genres_Tools_Education                        uint8\n",
       "Genres_Travel_&_Local                         uint8\n",
       "Genres_Travel_&_Local_Action_&_Adventure      uint8\n",
       "Genres_Weather                                uint8\n",
       "Length: 100, dtype: object"
      ]
     },
     "execution_count": 129,
     "metadata": {},
     "output_type": "execute_result"
    }
   ],
   "source": [
    "#Checking datatypes\n",
    "inp3.dtypes"
   ]
  },
  {
   "cell_type": "code",
   "execution_count": 130,
   "metadata": {
    "id": "hgjEdGCA3oZ5"
   },
   "outputs": [
    {
     "data": {
      "text/plain": [
       "(8894, 100)"
      ]
     },
     "execution_count": 130,
     "metadata": {},
     "output_type": "execute_result"
    }
   ],
   "source": [
    "inp3.shape"
   ]
  },
  {
   "cell_type": "code",
   "execution_count": 131,
   "metadata": {
    "id": "N1l_0deV30QO"
   },
   "outputs": [],
   "source": [
    "#split imp3\n",
    "df_train, df_test = train_test_split(inp3, train_size = 0.7, random_state = 100)"
   ]
  },
  {
   "cell_type": "code",
   "execution_count": 132,
   "metadata": {
    "id": "mpmHgEDM3-us"
   },
   "outputs": [
    {
     "data": {
      "text/plain": [
       "((6225, 100), (2669, 100))"
      ]
     },
     "execution_count": 132,
     "metadata": {},
     "output_type": "execute_result"
    }
   ],
   "source": [
    "df_train.shape, df_test.shape"
   ]
  },
  {
   "cell_type": "markdown",
   "metadata": {
    "id": "agsTeU4O4FJE"
   },
   "source": [
    "**4. Separate the new dataframes into X_train, y_train, X_test, y_test**"
   ]
  },
  {
   "cell_type": "code",
   "execution_count": 133,
   "metadata": {
    "id": "cdW26yXq4FJF"
   },
   "outputs": [],
   "source": [
    "#Separating the new dataframes\n",
    "y_train1 = df_train.pop(\"Rating\")\n",
    "X_train1 = df_train"
   ]
  },
  {
   "cell_type": "code",
   "execution_count": 134,
   "metadata": {
    "id": "qUjEfkCd4FJH"
   },
   "outputs": [
    {
     "data": {
      "text/html": [
       "<div>\n",
       "<style scoped>\n",
       "    .dataframe tbody tr th:only-of-type {\n",
       "        vertical-align: middle;\n",
       "    }\n",
       "\n",
       "    .dataframe tbody tr th {\n",
       "        vertical-align: top;\n",
       "    }\n",
       "\n",
       "    .dataframe thead th {\n",
       "        text-align: right;\n",
       "    }\n",
       "</style>\n",
       "<table border=\"1\" class=\"dataframe\">\n",
       "  <thead>\n",
       "    <tr style=\"text-align: right;\">\n",
       "      <th></th>\n",
       "      <th>Reviews</th>\n",
       "      <th>Installs</th>\n",
       "      <th>Category_AUTO_AND_VEHICLES</th>\n",
       "      <th>Category_BEAUTY</th>\n",
       "      <th>Category_BOOKS_AND_REFERENCE</th>\n",
       "      <th>Category_BUSINESS</th>\n",
       "      <th>Category_COMICS</th>\n",
       "      <th>Category_COMMUNICATION</th>\n",
       "      <th>Category_DATING</th>\n",
       "      <th>Category_EDUCATION</th>\n",
       "      <th>...</th>\n",
       "      <th>Genres_Shopping</th>\n",
       "      <th>Genres_Simulation</th>\n",
       "      <th>Genres_Simulation_Action_&amp;_Adventure</th>\n",
       "      <th>Genres_Social</th>\n",
       "      <th>Genres_Strategy</th>\n",
       "      <th>Genres_Tools</th>\n",
       "      <th>Genres_Tools_Education</th>\n",
       "      <th>Genres_Travel_&amp;_Local</th>\n",
       "      <th>Genres_Travel_&amp;_Local_Action_&amp;_Adventure</th>\n",
       "      <th>Genres_Weather</th>\n",
       "    </tr>\n",
       "  </thead>\n",
       "  <tbody>\n",
       "    <tr>\n",
       "      <th>10398</th>\n",
       "      <td>3.713572</td>\n",
       "      <td>8.517393</td>\n",
       "      <td>0</td>\n",
       "      <td>0</td>\n",
       "      <td>0</td>\n",
       "      <td>0</td>\n",
       "      <td>0</td>\n",
       "      <td>0</td>\n",
       "      <td>0</td>\n",
       "      <td>0</td>\n",
       "      <td>...</td>\n",
       "      <td>0</td>\n",
       "      <td>0</td>\n",
       "      <td>0</td>\n",
       "      <td>0</td>\n",
       "      <td>0</td>\n",
       "      <td>0</td>\n",
       "      <td>0</td>\n",
       "      <td>0</td>\n",
       "      <td>0</td>\n",
       "      <td>0</td>\n",
       "    </tr>\n",
       "  </tbody>\n",
       "</table>\n",
       "<p>1 rows × 99 columns</p>\n",
       "</div>"
      ],
      "text/plain": [
       "        Reviews  Installs  Category_AUTO_AND_VEHICLES  Category_BEAUTY  \\\n",
       "10398  3.713572  8.517393                           0                0   \n",
       "\n",
       "       Category_BOOKS_AND_REFERENCE  Category_BUSINESS  Category_COMICS  \\\n",
       "10398                             0                  0                0   \n",
       "\n",
       "       Category_COMMUNICATION  Category_DATING  Category_EDUCATION  ...  \\\n",
       "10398                       0                0                   0  ...   \n",
       "\n",
       "       Genres_Shopping  Genres_Simulation  \\\n",
       "10398                0                  0   \n",
       "\n",
       "       Genres_Simulation_Action_&_Adventure  Genres_Social  Genres_Strategy  \\\n",
       "10398                                     0              0                0   \n",
       "\n",
       "       Genres_Tools  Genres_Tools_Education  Genres_Travel_&_Local  \\\n",
       "10398             0                       0                      0   \n",
       "\n",
       "       Genres_Travel_&_Local_Action_&_Adventure  Genres_Weather  \n",
       "10398                                         0               0  \n",
       "\n",
       "[1 rows x 99 columns]"
      ]
     },
     "execution_count": 134,
     "metadata": {},
     "output_type": "execute_result"
    }
   ],
   "source": [
    "X_train1.head(1)"
   ]
  },
  {
   "cell_type": "code",
   "execution_count": 135,
   "metadata": {
    "id": "jngnU_1Q4FJI"
   },
   "outputs": [],
   "source": [
    "y_test1 = df_test.pop(\"Rating\")\n",
    "X_test1 = df_test"
   ]
  },
  {
   "cell_type": "code",
   "execution_count": 136,
   "metadata": {
    "id": "e_yWUBB4cMnA"
   },
   "outputs": [
    {
     "data": {
      "text/html": [
       "<div>\n",
       "<style scoped>\n",
       "    .dataframe tbody tr th:only-of-type {\n",
       "        vertical-align: middle;\n",
       "    }\n",
       "\n",
       "    .dataframe tbody tr th {\n",
       "        vertical-align: top;\n",
       "    }\n",
       "\n",
       "    .dataframe thead th {\n",
       "        text-align: right;\n",
       "    }\n",
       "</style>\n",
       "<table border=\"1\" class=\"dataframe\">\n",
       "  <thead>\n",
       "    <tr style=\"text-align: right;\">\n",
       "      <th></th>\n",
       "      <th>Reviews</th>\n",
       "      <th>Installs</th>\n",
       "      <th>Category_AUTO_AND_VEHICLES</th>\n",
       "      <th>Category_BEAUTY</th>\n",
       "      <th>Category_BOOKS_AND_REFERENCE</th>\n",
       "      <th>Category_BUSINESS</th>\n",
       "      <th>Category_COMICS</th>\n",
       "      <th>Category_COMMUNICATION</th>\n",
       "      <th>Category_DATING</th>\n",
       "      <th>Category_EDUCATION</th>\n",
       "      <th>...</th>\n",
       "      <th>Genres_Shopping</th>\n",
       "      <th>Genres_Simulation</th>\n",
       "      <th>Genres_Simulation_Action_&amp;_Adventure</th>\n",
       "      <th>Genres_Social</th>\n",
       "      <th>Genres_Strategy</th>\n",
       "      <th>Genres_Tools</th>\n",
       "      <th>Genres_Tools_Education</th>\n",
       "      <th>Genres_Travel_&amp;_Local</th>\n",
       "      <th>Genres_Travel_&amp;_Local_Action_&amp;_Adventure</th>\n",
       "      <th>Genres_Weather</th>\n",
       "    </tr>\n",
       "  </thead>\n",
       "  <tbody>\n",
       "    <tr>\n",
       "      <th>2320</th>\n",
       "      <td>7.604396</td>\n",
       "      <td>10.819798</td>\n",
       "      <td>0</td>\n",
       "      <td>0</td>\n",
       "      <td>0</td>\n",
       "      <td>0</td>\n",
       "      <td>0</td>\n",
       "      <td>0</td>\n",
       "      <td>0</td>\n",
       "      <td>0</td>\n",
       "      <td>...</td>\n",
       "      <td>0</td>\n",
       "      <td>0</td>\n",
       "      <td>0</td>\n",
       "      <td>0</td>\n",
       "      <td>0</td>\n",
       "      <td>0</td>\n",
       "      <td>0</td>\n",
       "      <td>0</td>\n",
       "      <td>0</td>\n",
       "      <td>0</td>\n",
       "    </tr>\n",
       "  </tbody>\n",
       "</table>\n",
       "<p>1 rows × 99 columns</p>\n",
       "</div>"
      ],
      "text/plain": [
       "       Reviews   Installs  Category_AUTO_AND_VEHICLES  Category_BEAUTY  \\\n",
       "2320  7.604396  10.819798                           0                0   \n",
       "\n",
       "      Category_BOOKS_AND_REFERENCE  Category_BUSINESS  Category_COMICS  \\\n",
       "2320                             0                  0                0   \n",
       "\n",
       "      Category_COMMUNICATION  Category_DATING  Category_EDUCATION  ...  \\\n",
       "2320                       0                0                   0  ...   \n",
       "\n",
       "      Genres_Shopping  Genres_Simulation  \\\n",
       "2320                0                  0   \n",
       "\n",
       "      Genres_Simulation_Action_&_Adventure  Genres_Social  Genres_Strategy  \\\n",
       "2320                                     0              0                0   \n",
       "\n",
       "      Genres_Tools  Genres_Tools_Education  Genres_Travel_&_Local  \\\n",
       "2320             0                       0                      0   \n",
       "\n",
       "      Genres_Travel_&_Local_Action_&_Adventure  Genres_Weather  \n",
       "2320                                         0               0  \n",
       "\n",
       "[1 rows x 99 columns]"
      ]
     },
     "execution_count": 136,
     "metadata": {},
     "output_type": "execute_result"
    }
   ],
   "source": [
    "X_test1.head(1)"
   ]
  },
  {
   "cell_type": "markdown",
   "metadata": {
    "id": "hafT1CQW21Oh"
   },
   "source": [
    "**5. Create the second model**"
   ]
  },
  {
   "cell_type": "code",
   "execution_count": 137,
   "metadata": {
    "id": "Obzr0hwT2-Cj"
   },
   "outputs": [],
   "source": [
    "#Apply linear regression\n",
    "model2 = sm.OLS(y_train1, X_train1)"
   ]
  },
  {
   "cell_type": "code",
   "execution_count": 138,
   "metadata": {
    "id": "byvg8JvV3Bx8"
   },
   "outputs": [],
   "source": [
    "model2 = model2.fit()"
   ]
  },
  {
   "cell_type": "code",
   "execution_count": 139,
   "metadata": {
    "id": "0BlbsGi83FrF"
   },
   "outputs": [
    {
     "data": {
      "text/html": [
       "<table class=\"simpletable\">\n",
       "<caption>OLS Regression Results</caption>\n",
       "<tr>\n",
       "  <th>Dep. Variable:</th>         <td>Rating</td>      <th>  R-squared (uncentered):</th>      <td>   0.987</td>\n",
       "</tr>\n",
       "<tr>\n",
       "  <th>Model:</th>                   <td>OLS</td>       <th>  Adj. R-squared (uncentered):</th> <td>   0.987</td>\n",
       "</tr>\n",
       "<tr>\n",
       "  <th>Method:</th>             <td>Least Squares</td>  <th>  F-statistic:       </th>          <td>   6754.</td>\n",
       "</tr>\n",
       "<tr>\n",
       "  <th>Date:</th>             <td>Fri, 30 Dec 2022</td> <th>  Prob (F-statistic):</th>           <td>  0.00</td> \n",
       "</tr>\n",
       "<tr>\n",
       "  <th>Time:</th>                 <td>18:15:16</td>     <th>  Log-Likelihood:    </th>          <td> -4194.7</td>\n",
       "</tr>\n",
       "<tr>\n",
       "  <th>No. Observations:</th>      <td>  6225</td>      <th>  AIC:               </th>          <td>   8531.</td>\n",
       "</tr>\n",
       "<tr>\n",
       "  <th>Df Residuals:</th>          <td>  6154</td>      <th>  BIC:               </th>          <td>   9010.</td>\n",
       "</tr>\n",
       "<tr>\n",
       "  <th>Df Model:</th>              <td>    71</td>      <th>                     </th>              <td> </td>   \n",
       "</tr>\n",
       "<tr>\n",
       "  <th>Covariance Type:</th>      <td>nonrobust</td>    <th>                     </th>              <td> </td>   \n",
       "</tr>\n",
       "</table>\n",
       "<table class=\"simpletable\">\n",
       "<tr>\n",
       "                      <td></td>                        <th>coef</th>     <th>std err</th>      <th>t</th>      <th>P>|t|</th>  <th>[0.025</th>    <th>0.975]</th>  \n",
       "</tr>\n",
       "<tr>\n",
       "  <th>Reviews</th>                                  <td>    0.1705</td> <td>    0.006</td> <td>   28.102</td> <td> 0.000</td> <td>    0.159</td> <td>    0.182</td>\n",
       "</tr>\n",
       "<tr>\n",
       "  <th>Installs</th>                                 <td>   -0.1445</td> <td>    0.006</td> <td>  -23.970</td> <td> 0.000</td> <td>   -0.156</td> <td>   -0.133</td>\n",
       "</tr>\n",
       "<tr>\n",
       "  <th>Category_AUTO_AND_VEHICLES</th>               <td>    1.9031</td> <td>    0.130</td> <td>   14.695</td> <td> 0.000</td> <td>    1.649</td> <td>    2.157</td>\n",
       "</tr>\n",
       "<tr>\n",
       "  <th>Category_BEAUTY</th>                          <td>    1.9525</td> <td>    0.132</td> <td>   14.740</td> <td> 0.000</td> <td>    1.693</td> <td>    2.212</td>\n",
       "</tr>\n",
       "<tr>\n",
       "  <th>Category_BOOKS_AND_REFERENCE</th>             <td>    1.9213</td> <td>    0.127</td> <td>   15.123</td> <td> 0.000</td> <td>    1.672</td> <td>    2.170</td>\n",
       "</tr>\n",
       "<tr>\n",
       "  <th>Category_BUSINESS</th>                        <td>    1.8444</td> <td>    0.126</td> <td>   14.629</td> <td> 0.000</td> <td>    1.597</td> <td>    2.092</td>\n",
       "</tr>\n",
       "<tr>\n",
       "  <th>Category_COMICS</th>                          <td>    2.6672</td> <td>    0.229</td> <td>   11.662</td> <td> 0.000</td> <td>    2.219</td> <td>    3.116</td>\n",
       "</tr>\n",
       "<tr>\n",
       "  <th>Category_COMMUNICATION</th>                   <td>    1.8106</td> <td>    0.126</td> <td>   14.324</td> <td> 0.000</td> <td>    1.563</td> <td>    2.058</td>\n",
       "</tr>\n",
       "<tr>\n",
       "  <th>Category_DATING</th>                          <td>    1.7386</td> <td>    0.127</td> <td>   13.636</td> <td> 0.000</td> <td>    1.489</td> <td>    1.989</td>\n",
       "</tr>\n",
       "<tr>\n",
       "  <th>Category_EDUCATION</th>                       <td>    1.7797</td> <td>    0.129</td> <td>   13.759</td> <td> 0.000</td> <td>    1.526</td> <td>    2.033</td>\n",
       "</tr>\n",
       "<tr>\n",
       "  <th>Category_EDUCATION</th>                       <td>    1.7797</td> <td>    0.129</td> <td>   13.759</td> <td> 0.000</td> <td>    1.526</td> <td>    2.033</td>\n",
       "</tr>\n",
       "<tr>\n",
       "  <th>Category_ENTERTAINMENT</th>                   <td>    3.4664</td> <td>    0.259</td> <td>   13.405</td> <td> 0.000</td> <td>    2.959</td> <td>    3.973</td>\n",
       "</tr>\n",
       "<tr>\n",
       "  <th>Category_EVENTS</th>                          <td>    2.0030</td> <td>    0.131</td> <td>   15.268</td> <td> 0.000</td> <td>    1.746</td> <td>    2.260</td>\n",
       "</tr>\n",
       "<tr>\n",
       "  <th>Category_FAMILY</th>                          <td>    3.5873</td> <td>    0.252</td> <td>   14.255</td> <td> 0.000</td> <td>    3.094</td> <td>    4.081</td>\n",
       "</tr>\n",
       "<tr>\n",
       "  <th>Category_FINANCE</th>                         <td>    1.8090</td> <td>    0.126</td> <td>   14.366</td> <td> 0.000</td> <td>    1.562</td> <td>    2.056</td>\n",
       "</tr>\n",
       "<tr>\n",
       "  <th>Category_FOOD_AND_DRINK</th>                  <td>    1.8283</td> <td>    0.128</td> <td>   14.304</td> <td> 0.000</td> <td>    1.578</td> <td>    2.079</td>\n",
       "</tr>\n",
       "<tr>\n",
       "  <th>Category_GAME</th>                            <td>    3.6377</td> <td>    0.251</td> <td>   14.508</td> <td> 0.000</td> <td>    3.146</td> <td>    4.129</td>\n",
       "</tr>\n",
       "<tr>\n",
       "  <th>Category_HEALTH_AND_FITNESS</th>              <td>    1.8614</td> <td>    0.126</td> <td>   14.753</td> <td> 0.000</td> <td>    1.614</td> <td>    2.109</td>\n",
       "</tr>\n",
       "<tr>\n",
       "  <th>Category_HOUSE_AND_HOME</th>                  <td>    1.8442</td> <td>    0.129</td> <td>   14.256</td> <td> 0.000</td> <td>    1.591</td> <td>    2.098</td>\n",
       "</tr>\n",
       "<tr>\n",
       "  <th>Category_LIBRARIES_AND_DEMO</th>              <td>    1.8819</td> <td>    0.130</td> <td>   14.522</td> <td> 0.000</td> <td>    1.628</td> <td>    2.136</td>\n",
       "</tr>\n",
       "<tr>\n",
       "  <th>Category_LIFESTYLE</th>                       <td>    1.8373</td> <td>    0.126</td> <td>   14.579</td> <td> 0.000</td> <td>    1.590</td> <td>    2.084</td>\n",
       "</tr>\n",
       "<tr>\n",
       "  <th>Category_MAPS_AND_NAVIGATION</th>             <td>    1.7814</td> <td>    0.127</td> <td>   13.973</td> <td> 0.000</td> <td>    1.531</td> <td>    2.031</td>\n",
       "</tr>\n",
       "<tr>\n",
       "  <th>Category_MEDICAL</th>                         <td>    1.8692</td> <td>    0.126</td> <td>   14.855</td> <td> 0.000</td> <td>    1.623</td> <td>    2.116</td>\n",
       "</tr>\n",
       "<tr>\n",
       "  <th>Category_NEWS_AND_MAGAZINES</th>              <td>    1.8021</td> <td>    0.126</td> <td>   14.252</td> <td> 0.000</td> <td>    1.554</td> <td>    2.050</td>\n",
       "</tr>\n",
       "<tr>\n",
       "  <th>Category_PARENTING</th>                       <td>    2.9076</td> <td>    0.218</td> <td>   13.319</td> <td> 0.000</td> <td>    2.480</td> <td>    3.336</td>\n",
       "</tr>\n",
       "<tr>\n",
       "  <th>Category_PERSONALIZATION</th>                 <td>    1.8993</td> <td>    0.126</td> <td>   15.066</td> <td> 0.000</td> <td>    1.652</td> <td>    2.146</td>\n",
       "</tr>\n",
       "<tr>\n",
       "  <th>Category_PHOTOGRAPHY</th>                     <td>    1.8168</td> <td>    0.126</td> <td>   14.384</td> <td> 0.000</td> <td>    1.569</td> <td>    2.064</td>\n",
       "</tr>\n",
       "<tr>\n",
       "  <th>Category_PRODUCTIVITY</th>                    <td>    1.8338</td> <td>    0.126</td> <td>   14.546</td> <td> 0.000</td> <td>    1.587</td> <td>    2.081</td>\n",
       "</tr>\n",
       "<tr>\n",
       "  <th>Category_SHOPPING</th>                        <td>    1.8480</td> <td>    0.127</td> <td>   14.607</td> <td> 0.000</td> <td>    1.600</td> <td>    2.096</td>\n",
       "</tr>\n",
       "<tr>\n",
       "  <th>Category_SOCIAL</th>                          <td>    1.8453</td> <td>    0.126</td> <td>   14.601</td> <td> 0.000</td> <td>    1.598</td> <td>    2.093</td>\n",
       "</tr>\n",
       "<tr>\n",
       "  <th>Category_SPORTS</th>                          <td>    3.6050</td> <td>    0.251</td> <td>   14.364</td> <td> 0.000</td> <td>    3.113</td> <td>    4.097</td>\n",
       "</tr>\n",
       "<tr>\n",
       "  <th>Category_TOOLS</th>                           <td>    2.4410</td> <td>    0.231</td> <td>   10.580</td> <td> 0.000</td> <td>    1.989</td> <td>    2.893</td>\n",
       "</tr>\n",
       "<tr>\n",
       "  <th>Category_TRAVEL_AND_LOCAL</th>                <td>    2.4451</td> <td>    0.231</td> <td>   10.588</td> <td> 0.000</td> <td>    1.992</td> <td>    2.898</td>\n",
       "</tr>\n",
       "<tr>\n",
       "  <th>Category_VIDEO_PLAYERS</th>                   <td>    3.5467</td> <td>    0.254</td> <td>   13.949</td> <td> 0.000</td> <td>    3.048</td> <td>    4.045</td>\n",
       "</tr>\n",
       "<tr>\n",
       "  <th>Category_WEATHER</th>                         <td>    1.8664</td> <td>    0.130</td> <td>   14.393</td> <td> 0.000</td> <td>    1.612</td> <td>    2.121</td>\n",
       "</tr>\n",
       "<tr>\n",
       "  <th>Type_Paid</th>                                <td>   -0.0624</td> <td>    0.026</td> <td>   -2.362</td> <td> 0.018</td> <td>   -0.114</td> <td>   -0.011</td>\n",
       "</tr>\n",
       "<tr>\n",
       "  <th>Content_Rating_Everyone</th>                  <td>    0.8887</td> <td>    0.249</td> <td>    3.570</td> <td> 0.000</td> <td>    0.401</td> <td>    1.377</td>\n",
       "</tr>\n",
       "<tr>\n",
       "  <th>Content_Rating_Everyone_10+</th>              <td>    0.8770</td> <td>    0.251</td> <td>    3.496</td> <td> 0.000</td> <td>    0.385</td> <td>    1.369</td>\n",
       "</tr>\n",
       "<tr>\n",
       "  <th>Content_Rating_Mature_17+</th>                <td>    0.8558</td> <td>    0.251</td> <td>    3.408</td> <td> 0.001</td> <td>    0.364</td> <td>    1.348</td>\n",
       "</tr>\n",
       "<tr>\n",
       "  <th>Content_Rating_Teen</th>                      <td>    0.8868</td> <td>    0.249</td> <td>    3.556</td> <td> 0.000</td> <td>    0.398</td> <td>    1.376</td>\n",
       "</tr>\n",
       "<tr>\n",
       "  <th>Content_Rating_Unrated</th>                   <td>-1.423e-14</td> <td> 1.24e-15</td> <td>  -11.464</td> <td> 0.000</td> <td>-1.67e-14</td> <td>-1.18e-14</td>\n",
       "</tr>\n",
       "<tr>\n",
       "  <th>Genres_Art_&_Design</th>                      <td>    3.9250</td> <td>    0.262</td> <td>   14.985</td> <td> 0.000</td> <td>    3.412</td> <td>    4.438</td>\n",
       "</tr>\n",
       "<tr>\n",
       "  <th>Genres_Art_&_Design_Creativity</th>           <td>    3.3993</td> <td>    0.293</td> <td>   11.606</td> <td> 0.000</td> <td>    2.825</td> <td>    3.973</td>\n",
       "</tr>\n",
       "<tr>\n",
       "  <th>Genres_Art_&_Design_Pretend_Play</th>         <td>    3.7351</td> <td>    0.540</td> <td>    6.923</td> <td> 0.000</td> <td>    2.678</td> <td>    4.793</td>\n",
       "</tr>\n",
       "<tr>\n",
       "  <th>Genres_Auto_&_Vehicles</th>                   <td>    1.9031</td> <td>    0.130</td> <td>   14.695</td> <td> 0.000</td> <td>    1.649</td> <td>    2.157</td>\n",
       "</tr>\n",
       "<tr>\n",
       "  <th>Genres_Beauty</th>                            <td>    1.9525</td> <td>    0.132</td> <td>   14.740</td> <td> 0.000</td> <td>    1.693</td> <td>    2.212</td>\n",
       "</tr>\n",
       "<tr>\n",
       "  <th>Genres_Board_Brain_Games</th>                 <td>    0.2452</td> <td>    0.156</td> <td>    1.568</td> <td> 0.117</td> <td>   -0.061</td> <td>    0.552</td>\n",
       "</tr>\n",
       "<tr>\n",
       "  <th>Genres_Books_&_Reference</th>                 <td>    1.9213</td> <td>    0.127</td> <td>   15.123</td> <td> 0.000</td> <td>    1.672</td> <td>    2.170</td>\n",
       "</tr>\n",
       "<tr>\n",
       "  <th>Genres_Business</th>                          <td>    1.8444</td> <td>    0.126</td> <td>   14.629</td> <td> 0.000</td> <td>    1.597</td> <td>    2.092</td>\n",
       "</tr>\n",
       "<tr>\n",
       "  <th>Genres_Casual</th>                            <td>   -0.0602</td> <td>    0.057</td> <td>   -1.060</td> <td> 0.289</td> <td>   -0.171</td> <td>    0.051</td>\n",
       "</tr>\n",
       "<tr>\n",
       "  <th>Genres_Casual_Action_&_Adventure</th>         <td>    0.0422</td> <td>    0.143</td> <td>    0.295</td> <td> 0.768</td> <td>   -0.238</td> <td>    0.323</td>\n",
       "</tr>\n",
       "<tr>\n",
       "  <th>Genres_Casual_Brain_Games</th>                <td>    0.3807</td> <td>    0.163</td> <td>    2.336</td> <td> 0.020</td> <td>    0.061</td> <td>    0.700</td>\n",
       "</tr>\n",
       "<tr>\n",
       "  <th>Genres_Casual_Pretend_Play</th>               <td>    0.0234</td> <td>    0.108</td> <td>    0.216</td> <td> 0.829</td> <td>   -0.189</td> <td>    0.236</td>\n",
       "</tr>\n",
       "<tr>\n",
       "  <th>Genres_Comics</th>                            <td>    0.9251</td> <td>    0.183</td> <td>    5.046</td> <td> 0.000</td> <td>    0.566</td> <td>    1.285</td>\n",
       "</tr>\n",
       "<tr>\n",
       "  <th>Genres_Comics_Creativity</th>                 <td>    1.7421</td> <td>    0.331</td> <td>    5.259</td> <td> 0.000</td> <td>    1.093</td> <td>    2.392</td>\n",
       "</tr>\n",
       "<tr>\n",
       "  <th>Genres_Communication</th>                     <td>    1.8106</td> <td>    0.126</td> <td>   14.324</td> <td> 0.000</td> <td>    1.563</td> <td>    2.058</td>\n",
       "</tr>\n",
       "<tr>\n",
       "  <th>Genres_Dating</th>                            <td>    1.7386</td> <td>    0.127</td> <td>   13.636</td> <td> 0.000</td> <td>    1.489</td> <td>    1.989</td>\n",
       "</tr>\n",
       "<tr>\n",
       "  <th>Genres_Education</th>                         <td>    0.2560</td> <td>    0.049</td> <td>    5.197</td> <td> 0.000</td> <td>    0.159</td> <td>    0.353</td>\n",
       "</tr>\n",
       "<tr>\n",
       "  <th>Genres_Education_Action_&_Adventure</th>      <td>    0.8037</td> <td>    0.342</td> <td>    2.353</td> <td> 0.019</td> <td>    0.134</td> <td>    1.473</td>\n",
       "</tr>\n",
       "<tr>\n",
       "  <th>Genres_Education_Creativity</th>              <td>    0.4723</td> <td>    0.200</td> <td>    2.362</td> <td> 0.018</td> <td>    0.080</td> <td>    0.864</td>\n",
       "</tr>\n",
       "<tr>\n",
       "  <th>Genres_Education_Education</th>               <td>    0.3031</td> <td>    0.097</td> <td>    3.118</td> <td> 0.002</td> <td>    0.112</td> <td>    0.494</td>\n",
       "</tr>\n",
       "<tr>\n",
       "  <th>Genres_Education_Pretend_Play</th>            <td>    0.3327</td> <td>    0.120</td> <td>    2.769</td> <td> 0.006</td> <td>    0.097</td> <td>    0.568</td>\n",
       "</tr>\n",
       "<tr>\n",
       "  <th>Genres_Educational_Education</th>             <td>    0.2363</td> <td>    0.098</td> <td>    2.404</td> <td> 0.016</td> <td>    0.044</td> <td>    0.429</td>\n",
       "</tr>\n",
       "<tr>\n",
       "  <th>Genres_Educational_Pretend_Play</th>          <td>    0.1173</td> <td>    0.133</td> <td>    0.879</td> <td> 0.379</td> <td>   -0.144</td> <td>    0.379</td>\n",
       "</tr>\n",
       "<tr>\n",
       "  <th>Genres_Entertainment</th>                     <td>    0.0402</td> <td>    0.048</td> <td>    0.837</td> <td> 0.403</td> <td>   -0.054</td> <td>    0.134</td>\n",
       "</tr>\n",
       "<tr>\n",
       "  <th>Genres_Entertainment_Brain_Games</th>         <td>    0.2735</td> <td>    0.185</td> <td>    1.476</td> <td> 0.140</td> <td>   -0.090</td> <td>    0.637</td>\n",
       "</tr>\n",
       "<tr>\n",
       "  <th>Genres_Entertainment_Creativity</th>          <td>    0.4354</td> <td>    0.279</td> <td>    1.560</td> <td> 0.119</td> <td>   -0.112</td> <td>    0.982</td>\n",
       "</tr>\n",
       "<tr>\n",
       "  <th>Genres_Entertainment_Music_&_Video</th>       <td>    0.1901</td> <td>    0.139</td> <td>    1.370</td> <td> 0.171</td> <td>   -0.082</td> <td>    0.462</td>\n",
       "</tr>\n",
       "<tr>\n",
       "  <th>Genres_Events</th>                            <td>    2.0030</td> <td>    0.131</td> <td>   15.268</td> <td> 0.000</td> <td>    1.746</td> <td>    2.260</td>\n",
       "</tr>\n",
       "<tr>\n",
       "  <th>Genres_Finance</th>                           <td>    1.8090</td> <td>    0.126</td> <td>   14.366</td> <td> 0.000</td> <td>    1.562</td> <td>    2.056</td>\n",
       "</tr>\n",
       "<tr>\n",
       "  <th>Genres_Food_&_Drink</th>                      <td>    1.8283</td> <td>    0.128</td> <td>   14.304</td> <td> 0.000</td> <td>    1.578</td> <td>    2.079</td>\n",
       "</tr>\n",
       "<tr>\n",
       "  <th>Genres_Health_&_Fitness</th>                  <td>    1.8614</td> <td>    0.126</td> <td>   14.753</td> <td> 0.000</td> <td>    1.614</td> <td>    2.109</td>\n",
       "</tr>\n",
       "<tr>\n",
       "  <th>Genres_House_&_Home</th>                      <td>    1.8442</td> <td>    0.129</td> <td>   14.256</td> <td> 0.000</td> <td>    1.591</td> <td>    2.098</td>\n",
       "</tr>\n",
       "<tr>\n",
       "  <th>Genres_Libraries_&_Demo</th>                  <td>    1.8819</td> <td>    0.130</td> <td>   14.522</td> <td> 0.000</td> <td>    1.628</td> <td>    2.136</td>\n",
       "</tr>\n",
       "<tr>\n",
       "  <th>Genres_Lifestyle</th>                         <td>    1.8373</td> <td>    0.126</td> <td>   14.579</td> <td> 0.000</td> <td>    1.590</td> <td>    2.084</td>\n",
       "</tr>\n",
       "<tr>\n",
       "  <th>Genres_Maps_&_Navigation</th>                 <td>    1.7814</td> <td>    0.127</td> <td>   13.973</td> <td> 0.000</td> <td>    1.531</td> <td>    2.031</td>\n",
       "</tr>\n",
       "<tr>\n",
       "  <th>Genres_Medical</th>                           <td>    1.8692</td> <td>    0.126</td> <td>   14.855</td> <td> 0.000</td> <td>    1.623</td> <td>    2.116</td>\n",
       "</tr>\n",
       "<tr>\n",
       "  <th>Genres_Music_Music_&_Video</th>               <td>    0.5285</td> <td>    0.340</td> <td>    1.555</td> <td> 0.120</td> <td>   -0.138</td> <td>    1.195</td>\n",
       "</tr>\n",
       "<tr>\n",
       "  <th>Genres_News_&_Magazines</th>                  <td>    1.8021</td> <td>    0.126</td> <td>   14.252</td> <td> 0.000</td> <td>    1.554</td> <td>    2.050</td>\n",
       "</tr>\n",
       "<tr>\n",
       "  <th>Genres_Parenting</th>                         <td>    1.0996</td> <td>    0.142</td> <td>    7.743</td> <td> 0.000</td> <td>    0.821</td> <td>    1.378</td>\n",
       "</tr>\n",
       "<tr>\n",
       "  <th>Genres_Parenting_Education</th>               <td>    0.7599</td> <td>    0.271</td> <td>    2.806</td> <td> 0.005</td> <td>    0.229</td> <td>    1.291</td>\n",
       "</tr>\n",
       "<tr>\n",
       "  <th>Genres_Parenting_Music_&_Video</th>           <td>    1.0481</td> <td>    0.233</td> <td>    4.499</td> <td> 0.000</td> <td>    0.591</td> <td>    1.505</td>\n",
       "</tr>\n",
       "<tr>\n",
       "  <th>Genres_Personalization</th>                   <td>    1.8993</td> <td>    0.126</td> <td>   15.066</td> <td> 0.000</td> <td>    1.652</td> <td>    2.146</td>\n",
       "</tr>\n",
       "<tr>\n",
       "  <th>Genres_Photography</th>                       <td>    1.8168</td> <td>    0.126</td> <td>   14.384</td> <td> 0.000</td> <td>    1.569</td> <td>    2.064</td>\n",
       "</tr>\n",
       "<tr>\n",
       "  <th>Genres_Productivity</th>                      <td>    1.8338</td> <td>    0.126</td> <td>   14.546</td> <td> 0.000</td> <td>    1.587</td> <td>    2.081</td>\n",
       "</tr>\n",
       "<tr>\n",
       "  <th>Genres_Puzzle</th>                            <td>    0.2125</td> <td>    0.058</td> <td>    3.659</td> <td> 0.000</td> <td>    0.099</td> <td>    0.326</td>\n",
       "</tr>\n",
       "<tr>\n",
       "  <th>Genres_Puzzle_Brain_Games</th>                <td>    0.1954</td> <td>    0.133</td> <td>    1.466</td> <td> 0.143</td> <td>   -0.066</td> <td>    0.457</td>\n",
       "</tr>\n",
       "<tr>\n",
       "  <th>Genres_Racing_Action_&_Adventure</th>         <td>    0.2353</td> <td>    0.133</td> <td>    1.763</td> <td> 0.078</td> <td>   -0.026</td> <td>    0.497</td>\n",
       "</tr>\n",
       "<tr>\n",
       "  <th>Genres_Role_Playing</th>                      <td>   -0.0166</td> <td>    0.068</td> <td>   -0.244</td> <td> 0.807</td> <td>   -0.150</td> <td>    0.116</td>\n",
       "</tr>\n",
       "<tr>\n",
       "  <th>Genres_Shopping</th>                          <td>    1.8480</td> <td>    0.127</td> <td>   14.607</td> <td> 0.000</td> <td>    1.600</td> <td>    2.096</td>\n",
       "</tr>\n",
       "<tr>\n",
       "  <th>Genres_Simulation</th>                        <td>   -0.0181</td> <td>    0.056</td> <td>   -0.326</td> <td> 0.745</td> <td>   -0.127</td> <td>    0.091</td>\n",
       "</tr>\n",
       "<tr>\n",
       "  <th>Genres_Simulation_Action_&_Adventure</th>     <td>    0.2198</td> <td>    0.163</td> <td>    1.348</td> <td> 0.178</td> <td>   -0.100</td> <td>    0.539</td>\n",
       "</tr>\n",
       "<tr>\n",
       "  <th>Genres_Social</th>                            <td>    1.8453</td> <td>    0.126</td> <td>   14.601</td> <td> 0.000</td> <td>    1.598</td> <td>    2.093</td>\n",
       "</tr>\n",
       "<tr>\n",
       "  <th>Genres_Strategy</th>                          <td>   -0.0747</td> <td>    0.074</td> <td>   -1.013</td> <td> 0.311</td> <td>   -0.219</td> <td>    0.070</td>\n",
       "</tr>\n",
       "<tr>\n",
       "  <th>Genres_Tools</th>                             <td>    1.1144</td> <td>    0.180</td> <td>    6.182</td> <td> 0.000</td> <td>    0.761</td> <td>    1.468</td>\n",
       "</tr>\n",
       "<tr>\n",
       "  <th>Genres_Tools_Education</th>                   <td>    1.3265</td> <td>    0.329</td> <td>    4.029</td> <td> 0.000</td> <td>    0.681</td> <td>    1.972</td>\n",
       "</tr>\n",
       "<tr>\n",
       "  <th>Genres_Travel_&_Local</th>                    <td>    1.1734</td> <td>    0.182</td> <td>    6.463</td> <td> 0.000</td> <td>    0.818</td> <td>    1.529</td>\n",
       "</tr>\n",
       "<tr>\n",
       "  <th>Genres_Travel_&_Local_Action_&_Adventure</th> <td>    1.2716</td> <td>    0.329</td> <td>    3.862</td> <td> 0.000</td> <td>    0.626</td> <td>    1.917</td>\n",
       "</tr>\n",
       "<tr>\n",
       "  <th>Genres_Weather</th>                           <td>    1.8664</td> <td>    0.130</td> <td>   14.393</td> <td> 0.000</td> <td>    1.612</td> <td>    2.121</td>\n",
       "</tr>\n",
       "</table>\n",
       "<table class=\"simpletable\">\n",
       "<tr>\n",
       "  <th>Omnibus:</th>       <td>2297.871</td> <th>  Durbin-Watson:     </th> <td>   2.001</td> \n",
       "</tr>\n",
       "<tr>\n",
       "  <th>Prob(Omnibus):</th>  <td> 0.000</td>  <th>  Jarque-Bera (JB):  </th> <td>13445.585</td>\n",
       "</tr>\n",
       "<tr>\n",
       "  <th>Skew:</th>           <td>-1.657</td>  <th>  Prob(JB):          </th> <td>    0.00</td> \n",
       "</tr>\n",
       "<tr>\n",
       "  <th>Kurtosis:</th>       <td> 9.392</td>  <th>  Cond. No.          </th> <td>1.23e+16</td> \n",
       "</tr>\n",
       "</table><br/><br/>Notes:<br/>[1] R² is computed without centering (uncentered) since the model does not contain a constant.<br/>[2] Standard Errors assume that the covariance matrix of the errors is correctly specified.<br/>[3] The smallest eigenvalue is 9.55e-27. This might indicate that there are<br/>strong multicollinearity problems or that the design matrix is singular."
      ],
      "text/plain": [
       "<class 'statsmodels.iolib.summary.Summary'>\n",
       "\"\"\"\n",
       "                                 OLS Regression Results                                \n",
       "=======================================================================================\n",
       "Dep. Variable:                 Rating   R-squared (uncentered):                   0.987\n",
       "Model:                            OLS   Adj. R-squared (uncentered):              0.987\n",
       "Method:                 Least Squares   F-statistic:                              6754.\n",
       "Date:                Fri, 30 Dec 2022   Prob (F-statistic):                        0.00\n",
       "Time:                        18:15:16   Log-Likelihood:                         -4194.7\n",
       "No. Observations:                6225   AIC:                                      8531.\n",
       "Df Residuals:                    6154   BIC:                                      9010.\n",
       "Df Model:                          71                                                  \n",
       "Covariance Type:            nonrobust                                                  \n",
       "============================================================================================================\n",
       "                                               coef    std err          t      P>|t|      [0.025      0.975]\n",
       "------------------------------------------------------------------------------------------------------------\n",
       "Reviews                                      0.1705      0.006     28.102      0.000       0.159       0.182\n",
       "Installs                                    -0.1445      0.006    -23.970      0.000      -0.156      -0.133\n",
       "Category_AUTO_AND_VEHICLES                   1.9031      0.130     14.695      0.000       1.649       2.157\n",
       "Category_BEAUTY                              1.9525      0.132     14.740      0.000       1.693       2.212\n",
       "Category_BOOKS_AND_REFERENCE                 1.9213      0.127     15.123      0.000       1.672       2.170\n",
       "Category_BUSINESS                            1.8444      0.126     14.629      0.000       1.597       2.092\n",
       "Category_COMICS                              2.6672      0.229     11.662      0.000       2.219       3.116\n",
       "Category_COMMUNICATION                       1.8106      0.126     14.324      0.000       1.563       2.058\n",
       "Category_DATING                              1.7386      0.127     13.636      0.000       1.489       1.989\n",
       "Category_EDUCATION                           1.7797      0.129     13.759      0.000       1.526       2.033\n",
       "Category_EDUCATION                           1.7797      0.129     13.759      0.000       1.526       2.033\n",
       "Category_ENTERTAINMENT                       3.4664      0.259     13.405      0.000       2.959       3.973\n",
       "Category_EVENTS                              2.0030      0.131     15.268      0.000       1.746       2.260\n",
       "Category_FAMILY                              3.5873      0.252     14.255      0.000       3.094       4.081\n",
       "Category_FINANCE                             1.8090      0.126     14.366      0.000       1.562       2.056\n",
       "Category_FOOD_AND_DRINK                      1.8283      0.128     14.304      0.000       1.578       2.079\n",
       "Category_GAME                                3.6377      0.251     14.508      0.000       3.146       4.129\n",
       "Category_HEALTH_AND_FITNESS                  1.8614      0.126     14.753      0.000       1.614       2.109\n",
       "Category_HOUSE_AND_HOME                      1.8442      0.129     14.256      0.000       1.591       2.098\n",
       "Category_LIBRARIES_AND_DEMO                  1.8819      0.130     14.522      0.000       1.628       2.136\n",
       "Category_LIFESTYLE                           1.8373      0.126     14.579      0.000       1.590       2.084\n",
       "Category_MAPS_AND_NAVIGATION                 1.7814      0.127     13.973      0.000       1.531       2.031\n",
       "Category_MEDICAL                             1.8692      0.126     14.855      0.000       1.623       2.116\n",
       "Category_NEWS_AND_MAGAZINES                  1.8021      0.126     14.252      0.000       1.554       2.050\n",
       "Category_PARENTING                           2.9076      0.218     13.319      0.000       2.480       3.336\n",
       "Category_PERSONALIZATION                     1.8993      0.126     15.066      0.000       1.652       2.146\n",
       "Category_PHOTOGRAPHY                         1.8168      0.126     14.384      0.000       1.569       2.064\n",
       "Category_PRODUCTIVITY                        1.8338      0.126     14.546      0.000       1.587       2.081\n",
       "Category_SHOPPING                            1.8480      0.127     14.607      0.000       1.600       2.096\n",
       "Category_SOCIAL                              1.8453      0.126     14.601      0.000       1.598       2.093\n",
       "Category_SPORTS                              3.6050      0.251     14.364      0.000       3.113       4.097\n",
       "Category_TOOLS                               2.4410      0.231     10.580      0.000       1.989       2.893\n",
       "Category_TRAVEL_AND_LOCAL                    2.4451      0.231     10.588      0.000       1.992       2.898\n",
       "Category_VIDEO_PLAYERS                       3.5467      0.254     13.949      0.000       3.048       4.045\n",
       "Category_WEATHER                             1.8664      0.130     14.393      0.000       1.612       2.121\n",
       "Type_Paid                                   -0.0624      0.026     -2.362      0.018      -0.114      -0.011\n",
       "Content_Rating_Everyone                      0.8887      0.249      3.570      0.000       0.401       1.377\n",
       "Content_Rating_Everyone_10+                  0.8770      0.251      3.496      0.000       0.385       1.369\n",
       "Content_Rating_Mature_17+                    0.8558      0.251      3.408      0.001       0.364       1.348\n",
       "Content_Rating_Teen                          0.8868      0.249      3.556      0.000       0.398       1.376\n",
       "Content_Rating_Unrated                   -1.423e-14   1.24e-15    -11.464      0.000   -1.67e-14   -1.18e-14\n",
       "Genres_Art_&_Design                          3.9250      0.262     14.985      0.000       3.412       4.438\n",
       "Genres_Art_&_Design_Creativity               3.3993      0.293     11.606      0.000       2.825       3.973\n",
       "Genres_Art_&_Design_Pretend_Play             3.7351      0.540      6.923      0.000       2.678       4.793\n",
       "Genres_Auto_&_Vehicles                       1.9031      0.130     14.695      0.000       1.649       2.157\n",
       "Genres_Beauty                                1.9525      0.132     14.740      0.000       1.693       2.212\n",
       "Genres_Board_Brain_Games                     0.2452      0.156      1.568      0.117      -0.061       0.552\n",
       "Genres_Books_&_Reference                     1.9213      0.127     15.123      0.000       1.672       2.170\n",
       "Genres_Business                              1.8444      0.126     14.629      0.000       1.597       2.092\n",
       "Genres_Casual                               -0.0602      0.057     -1.060      0.289      -0.171       0.051\n",
       "Genres_Casual_Action_&_Adventure             0.0422      0.143      0.295      0.768      -0.238       0.323\n",
       "Genres_Casual_Brain_Games                    0.3807      0.163      2.336      0.020       0.061       0.700\n",
       "Genres_Casual_Pretend_Play                   0.0234      0.108      0.216      0.829      -0.189       0.236\n",
       "Genres_Comics                                0.9251      0.183      5.046      0.000       0.566       1.285\n",
       "Genres_Comics_Creativity                     1.7421      0.331      5.259      0.000       1.093       2.392\n",
       "Genres_Communication                         1.8106      0.126     14.324      0.000       1.563       2.058\n",
       "Genres_Dating                                1.7386      0.127     13.636      0.000       1.489       1.989\n",
       "Genres_Education                             0.2560      0.049      5.197      0.000       0.159       0.353\n",
       "Genres_Education_Action_&_Adventure          0.8037      0.342      2.353      0.019       0.134       1.473\n",
       "Genres_Education_Creativity                  0.4723      0.200      2.362      0.018       0.080       0.864\n",
       "Genres_Education_Education                   0.3031      0.097      3.118      0.002       0.112       0.494\n",
       "Genres_Education_Pretend_Play                0.3327      0.120      2.769      0.006       0.097       0.568\n",
       "Genres_Educational_Education                 0.2363      0.098      2.404      0.016       0.044       0.429\n",
       "Genres_Educational_Pretend_Play              0.1173      0.133      0.879      0.379      -0.144       0.379\n",
       "Genres_Entertainment                         0.0402      0.048      0.837      0.403      -0.054       0.134\n",
       "Genres_Entertainment_Brain_Games             0.2735      0.185      1.476      0.140      -0.090       0.637\n",
       "Genres_Entertainment_Creativity              0.4354      0.279      1.560      0.119      -0.112       0.982\n",
       "Genres_Entertainment_Music_&_Video           0.1901      0.139      1.370      0.171      -0.082       0.462\n",
       "Genres_Events                                2.0030      0.131     15.268      0.000       1.746       2.260\n",
       "Genres_Finance                               1.8090      0.126     14.366      0.000       1.562       2.056\n",
       "Genres_Food_&_Drink                          1.8283      0.128     14.304      0.000       1.578       2.079\n",
       "Genres_Health_&_Fitness                      1.8614      0.126     14.753      0.000       1.614       2.109\n",
       "Genres_House_&_Home                          1.8442      0.129     14.256      0.000       1.591       2.098\n",
       "Genres_Libraries_&_Demo                      1.8819      0.130     14.522      0.000       1.628       2.136\n",
       "Genres_Lifestyle                             1.8373      0.126     14.579      0.000       1.590       2.084\n",
       "Genres_Maps_&_Navigation                     1.7814      0.127     13.973      0.000       1.531       2.031\n",
       "Genres_Medical                               1.8692      0.126     14.855      0.000       1.623       2.116\n",
       "Genres_Music_Music_&_Video                   0.5285      0.340      1.555      0.120      -0.138       1.195\n",
       "Genres_News_&_Magazines                      1.8021      0.126     14.252      0.000       1.554       2.050\n",
       "Genres_Parenting                             1.0996      0.142      7.743      0.000       0.821       1.378\n",
       "Genres_Parenting_Education                   0.7599      0.271      2.806      0.005       0.229       1.291\n",
       "Genres_Parenting_Music_&_Video               1.0481      0.233      4.499      0.000       0.591       1.505\n",
       "Genres_Personalization                       1.8993      0.126     15.066      0.000       1.652       2.146\n",
       "Genres_Photography                           1.8168      0.126     14.384      0.000       1.569       2.064\n",
       "Genres_Productivity                          1.8338      0.126     14.546      0.000       1.587       2.081\n",
       "Genres_Puzzle                                0.2125      0.058      3.659      0.000       0.099       0.326\n",
       "Genres_Puzzle_Brain_Games                    0.1954      0.133      1.466      0.143      -0.066       0.457\n",
       "Genres_Racing_Action_&_Adventure             0.2353      0.133      1.763      0.078      -0.026       0.497\n",
       "Genres_Role_Playing                         -0.0166      0.068     -0.244      0.807      -0.150       0.116\n",
       "Genres_Shopping                              1.8480      0.127     14.607      0.000       1.600       2.096\n",
       "Genres_Simulation                           -0.0181      0.056     -0.326      0.745      -0.127       0.091\n",
       "Genres_Simulation_Action_&_Adventure         0.2198      0.163      1.348      0.178      -0.100       0.539\n",
       "Genres_Social                                1.8453      0.126     14.601      0.000       1.598       2.093\n",
       "Genres_Strategy                             -0.0747      0.074     -1.013      0.311      -0.219       0.070\n",
       "Genres_Tools                                 1.1144      0.180      6.182      0.000       0.761       1.468\n",
       "Genres_Tools_Education                       1.3265      0.329      4.029      0.000       0.681       1.972\n",
       "Genres_Travel_&_Local                        1.1734      0.182      6.463      0.000       0.818       1.529\n",
       "Genres_Travel_&_Local_Action_&_Adventure     1.2716      0.329      3.862      0.000       0.626       1.917\n",
       "Genres_Weather                               1.8664      0.130     14.393      0.000       1.612       2.121\n",
       "==============================================================================\n",
       "Omnibus:                     2297.871   Durbin-Watson:                   2.001\n",
       "Prob(Omnibus):                  0.000   Jarque-Bera (JB):            13445.585\n",
       "Skew:                          -1.657   Prob(JB):                         0.00\n",
       "Kurtosis:                       9.392   Cond. No.                     1.23e+16\n",
       "==============================================================================\n",
       "\n",
       "Notes:\n",
       "[1] R² is computed without centering (uncentered) since the model does not contain a constant.\n",
       "[2] Standard Errors assume that the covariance matrix of the errors is correctly specified.\n",
       "[3] The smallest eigenvalue is 9.55e-27. This might indicate that there are\n",
       "strong multicollinearity problems or that the design matrix is singular.\n",
       "\"\"\""
      ]
     },
     "execution_count": 139,
     "metadata": {},
     "output_type": "execute_result"
    }
   ],
   "source": [
    "#Find the summary\n",
    "model2.summary()"
   ]
  },
  {
   "cell_type": "markdown",
   "metadata": {
    "id": "Sf9FDt5V29YS"
   },
   "source": [
    "* Rating\tR-squared (uncentered):\t0.987\n",
    "\n",
    "* Adj. R-squared (uncentered): 0.987\n",
    "\n",
    "* F-statistic: 6412\n",
    "\n",
    "* AIC: 8749\n",
    "\n",
    "* BIC: 9234"
   ]
  },
  {
   "cell_type": "markdown",
   "metadata": {
    "id": "Y469JsvQ93Bv"
   },
   "source": [
    "#### **How Well Does the Model Fit the Data?**\n",
    " ***model2* performs better:**\n",
    "\n",
    "\n",
    "* R-squared value:<br>\n",
    "\n",
    "  The most common way to evaluate the overall fit of a linear model is by the **R-squared** value.<br>\n",
    "\n",
    "  R-squared is between 0 and 1 (or between 0 to 100%), and higher is better because it means that more variance is explained by the model.<br>\n",
    "\n",
    "  In case of our models, model1 and model2 have same R-squared values.\n",
    "\n",
    "* F-statistics:<br>\n",
    "\n",
    "  In case of dataset that only have numerical values, it is said higher the F-statistic better the model.\n",
    "\n",
    "  In case of our models, model2 has more F-statistic value than model1.\n",
    "\n",
    "* AIC and BIC: <br>\n",
    "\n",
    "  In case of models, lesser the AIC and BIC, better the model.\n",
    "\n",
    "  In case of models, model2 has lesser AIC and BIC values than the model1."
   ]
  },
  {
   "cell_type": "markdown",
   "metadata": {
    "id": "Mzwl9WxZ7Qs2"
   },
   "source": [
    "**Prediction using \"model2\"**"
   ]
  },
  {
   "cell_type": "markdown",
   "metadata": {
    "id": "4dFq4Lgaz8j2"
   },
   "source": [
    "Let us perform prediction using model2 by importing **sklearn.metrics**"
   ]
  },
  {
   "cell_type": "code",
   "execution_count": 140,
   "metadata": {
    "id": "tek2QIiiX-UF"
   },
   "outputs": [
    {
     "name": "stdout",
     "output_type": "stream",
     "text": [
      "0.51423318975432\n"
     ]
    }
   ],
   "source": [
    "#Importing sklearn.metrics\n",
    "import sklearn.metrics as metrics\n",
    "y_test_pred1= model2.predict(X_test1)\n",
    "print(np.sqrt(metrics.mean_squared_error(y_test, y_test_pred1)))\n",
    "\n",
    "\n",
    "#RMSE value of model1 = 0.49203326281981113 "
   ]
  },
  {
   "cell_type": "code",
   "execution_count": 141,
   "metadata": {
    "id": "msSs5VEjGuBO"
   },
   "outputs": [
    {
     "name": "stdout",
     "output_type": "stream",
     "text": [
      "MAPE: 9.957515950460468\n"
     ]
    }
   ],
   "source": [
    "#Calculating MAPE\n",
    "def MAPE(y_test_pred1,y_test1):\n",
    "    return np.mean(np.abs((y_test1 - y_test_pred1) / y_test1)) * 100\n",
    "print ('MAPE: ' + str(MAPE(y_test_pred1,y_test1)) )"
   ]
  },
  {
   "cell_type": "markdown",
   "metadata": {
    "id": "YZI2fnVkLqJ1"
   },
   "source": [
    "**model2** shows slight improvement as the RMSE and MAPE value of this model is lesser than that of **model1**."
   ]
  },
  {
   "cell_type": "markdown",
   "metadata": {
    "id": "OeedFsJUkJpe"
   },
   "source": [
    "#### **4. Ridge Regression:**"
   ]
  },
  {
   "cell_type": "markdown",
   "metadata": {
    "id": "TCe3lNvgkOJm"
   },
   "source": [
    "* Ridge Regression (L2) is used when there is a problem of multicollinearity.\n",
    "\n",
    "* By adding a degree of bias to the regression estimates, ridge regression reduces the standard errors.\n",
    "\n",
    "<br>\n",
    "\n",
    "![Ridge Reg](https://labcontent.simplicdn.net/data-content/content-assets/Data_and_AI/Applied_Machine_Learning/Images/0.7_Supervised_Learning_-_Regression_and_Classification/Trainer_PPT_and_IPYNB/0.2_Linear_Regression/Ridge%20Reg.JPG)"
   ]
  },
  {
   "cell_type": "markdown",
   "metadata": {
    "id": "vLtahPask1A3"
   },
   "source": [
    "#### **5. Lasso Regression:**"
   ]
  },
  {
   "cell_type": "markdown",
   "metadata": {
    "id": "ADAsum1Mk_9c"
   },
   "source": [
    "* Lasso Regression (L1) is similar to ridge, but it also performs feature selection.\n",
    "\n",
    "\n",
    "* It will set the coefficient value for features that do not help in decision making very low, potentially zero.\n",
    "\n",
    "  ![Lasso Reg](https://labcontent.simplicdn.net/data-content/content-assets/Data_and_AI/Applied_Machine_Learning/Images/0.7_Supervised_Learning_-_Regression_and_Classification/Trainer_PPT_and_IPYNB/0.2_Linear_Regression/Lasso%20Reg.JPG)\n",
    "\n",
    "* Lasso regression tends to exclude variables that are not required from the equation, whereas ridge tends to do better when all variables are present\n"
   ]
  },
  {
   "cell_type": "markdown",
   "metadata": {
    "id": "pySCTk23lima"
   },
   "source": [
    "#### **6. ElasticNet Regression:**"
   ]
  },
  {
   "cell_type": "markdown",
   "metadata": {
    "id": "cwBx313Jl0A6"
   },
   "source": [
    "![ElasticNet Reg](https://labcontent.simplicdn.net/data-content/content-assets/Data_and_AI/Applied_Machine_Learning/Images/0.7_Supervised_Learning_-_Regression_and_Classification/Trainer_PPT_and_IPYNB/0.2_Linear_Regression/ElasticNet%20Reg.JPG)"
   ]
  },
  {
   "cell_type": "markdown",
   "metadata": {
    "id": "btWzKyP7mAoK"
   },
   "source": [
    "#### **Use Case: Ridge, Lasso, ElasticNet Regression for Training and Prediction:**"
   ]
  },
  {
   "cell_type": "markdown",
   "metadata": {
    "id": "BUP0dPU-mFYb"
   },
   "source": [
    "We are going to use the same dataset that we used in the previous use case at the time of training of \"model2\" i.e. inp3"
   ]
  },
  {
   "cell_type": "markdown",
   "metadata": {
    "id": "Ht0pkliww9f2"
   },
   "source": [
    "**1. Ridge Regression:**"
   ]
  },
  {
   "cell_type": "code",
   "execution_count": 142,
   "metadata": {
    "id": "6xpgqzPAxAzx"
   },
   "outputs": [
    {
     "data": {
      "text/plain": [
       "Ridge(alpha=0.001, normalize=True)"
      ]
     },
     "execution_count": 142,
     "metadata": {},
     "output_type": "execute_result"
    }
   ],
   "source": [
    "#Importing Ridge\n",
    "import sklearn\n",
    "from sklearn.linear_model import Ridge\n",
    "ridgeReg = Ridge(alpha=0.001, normalize=True)\n",
    "ridgeReg.fit(X_train1,y_train1)\n"
   ]
  },
  {
   "cell_type": "markdown",
   "metadata": {
    "id": "UlQbpZ2Qk9RP"
   },
   "source": [
    "**Evaluating using RMSE:**"
   ]
  },
  {
   "cell_type": "code",
   "execution_count": 143,
   "metadata": {
    "id": "Cp6hlHIklAWc"
   },
   "outputs": [
    {
     "name": "stdout",
     "output_type": "stream",
     "text": [
      "0.47254670640605245\n",
      "0.5045075922388654\n",
      "R2 Value/Coefficient of Determination: 0.12475268395266081\n"
     ]
    }
   ],
   "source": [
    "print(np.sqrt(sklearn.metrics.mean_squared_error(y_train1, ridgeReg.predict(X_train1))))\n",
    "print(np.sqrt(sklearn.metrics.mean_squared_error(y_test1, ridgeReg.predict(X_test1))))\n",
    "print('R2 Value/Coefficient of Determination: {}'.format(ridgeReg.score(X_test1, y_test1)))\n"
   ]
  },
  {
   "cell_type": "markdown",
   "metadata": {
    "id": "phjbBvo538Mq"
   },
   "source": [
    "**2. Lasso Regression:**"
   ]
  },
  {
   "cell_type": "code",
   "execution_count": 144,
   "metadata": {
    "id": "AMyu1Lk-394b"
   },
   "outputs": [
    {
     "data": {
      "text/plain": [
       "Lasso(alpha=0.001, normalize=True)"
      ]
     },
     "execution_count": 144,
     "metadata": {},
     "output_type": "execute_result"
    }
   ],
   "source": [
    "#Importing Lasso\n",
    "from sklearn.linear_model import Lasso\n",
    "lassoreg = Lasso(alpha=0.001, normalize=True)\n",
    "lassoreg.fit(X_train1,y_train1)\n"
   ]
  },
  {
   "cell_type": "markdown",
   "metadata": {
    "id": "G7ew0yN_lC9R"
   },
   "source": [
    "**Evaluating using RMSE:**"
   ]
  },
  {
   "cell_type": "code",
   "execution_count": 145,
   "metadata": {
    "id": "gqO61XjtlEm2"
   },
   "outputs": [
    {
     "name": "stdout",
     "output_type": "stream",
     "text": [
      "0.5141131839538357\n",
      "0.5364303615947789\n",
      "R2 Value/Coefficient of Determination: 0.010485696161395941\n"
     ]
    }
   ],
   "source": [
    "print(np.sqrt(sklearn.metrics.mean_squared_error(y_train1, lassoreg.predict(X_train1))))\n",
    "print(np.sqrt(sklearn.metrics.mean_squared_error(y_test1, lassoreg.predict(X_test1))))\n",
    "print('R2 Value/Coefficient of Determination: {}'.format(lassoreg.score(X_test1, y_test1)))\n"
   ]
  },
  {
   "cell_type": "markdown",
   "metadata": {
    "id": "qnjUflT44p_M"
   },
   "source": [
    "**3. ElasticNet Regression:**"
   ]
  },
  {
   "cell_type": "code",
   "execution_count": 146,
   "metadata": {
    "id": "ODkIycTW4tMX"
   },
   "outputs": [
    {
     "data": {
      "text/plain": [
       "ElasticNet(alpha=0.001, normalize=True)"
      ]
     },
     "execution_count": 146,
     "metadata": {},
     "output_type": "execute_result"
    }
   ],
   "source": [
    "#Importing ElasticNet\n",
    "from sklearn.linear_model import ElasticNet\n",
    "Elastic = ElasticNet(alpha=0.001, normalize=True)\n",
    "Elastic.fit(X_train1,y_train1)\n"
   ]
  },
  {
   "cell_type": "markdown",
   "metadata": {
    "id": "RCCNPFnplH-9"
   },
   "source": [
    "**Evaluating using RMSE:**"
   ]
  },
  {
   "cell_type": "code",
   "execution_count": 147,
   "metadata": {
    "id": "ofNarEA0lIir"
   },
   "outputs": [
    {
     "name": "stdout",
     "output_type": "stream",
     "text": [
      "0.5144047280738357\n",
      "0.5369211920753153\n",
      "R2 Value/Coefficient of Determination: 0.0086740687261323\n"
     ]
    }
   ],
   "source": [
    "print(np.sqrt(sklearn.metrics.mean_squared_error(y_train1, Elastic.predict(X_train1))))\n",
    "print(np.sqrt(sklearn.metrics.mean_squared_error(y_test1, Elastic.predict(X_test1))))\n",
    "print('R2 Value/Coefficient of Determination: {}'.format(Elastic.score(X_test1, y_test1)))\n"
   ]
  },
  {
   "cell_type": "markdown",
   "metadata": {
    "id": "uzlv97mx49Oz"
   },
   "source": [
    "### **Exercise:**"
   ]
  },
  {
   "cell_type": "markdown",
   "metadata": {
    "id": "aTSZPu7c4_OW"
   },
   "source": [
    "* Perform the iteration of the model with Lasso, Ridge, and ElasticNet Regression by using the original dataset i.e., **inp0** as done in the case of Linear Regression.\n",
    "\n",
    "* Use the following metrics to evaluate the model:\n",
    "  * RMSE\n",
    "  * MAPE\n",
    "  * R$^2$ error"
   ]
  },
  {
   "cell_type": "markdown",
   "metadata": {
    "id": "p2Ra1XbqK9bc"
   },
   "source": [
    "#### **Cost Function:**\n",
    "- A cost function is a function that evaluates a model's performance for a given dataset.\n",
    "\n",
    "- It evaluates and expresses the error between predicted values and expected values as a single, real number."
   ]
  },
  {
   "cell_type": "markdown",
   "metadata": {
    "id": "oq0faxmKL_LV"
   },
   "source": [
    "### **Gradient:**\n",
    "\n",
    "- A gradient is a measurement of how much a function's output varies as its inputs are changed."
   ]
  },
  {
   "cell_type": "markdown",
   "metadata": {
    "id": "bXOr6kXwMDtH"
   },
   "source": [
    "### **Gradient Descent:**\n",
    "\n",
    "- Gradient descent is an optimization algorithm that is used to find the values of the parameters (coefficients) of a function that minimizes the cost function by iteratively moving in the direction of steepest descent as determined by the gradient's negative.\n",
    "\n",
    "- It's an optimization algorithm to discover the local minimum of a differentiable function or feature.\n",
    "\n",
    "- We use gradient descent to update the parameters of our model. In linear regression, parameters correspond to coefficients, and in neural networks, parameters correspond to weights.\n",
    "\n",
    "- The gradient descent equation is as follows:\n",
    "\n",
    "![GD](https://labcontent.simplicdn.net/data-content/content-assets/Data_and_AI/Applied_Machine_Learning/Images/0.7_Supervised_Learning_-_Regression_and_Classification/Trainer_PPT_and_IPYNB/0.2_Linear_Regression/GD.png)\n",
    "\n",
    "### **Types of Gradient Descents:**\n",
    "\n",
    "Gradient descents are divided into three categories, which vary primarily in the amount of data they use. These categories are:\n",
    "\n",
    "1. Batch Gradient Descent (BGD)\n",
    "2. Stochastic Gradient Descent (SGD) \n",
    "3. Mini-Batch Gradient Descent (Mini BGD)\n",
    "\n",
    "\n",
    "#### **1. Batch Gradient Descent (BGD):**\n",
    "\n",
    "- Batch gradient descent (BGD), also known as vanilla gradient descent, measures the error for each example in the training dataset, but the model is updated only after all of the training examples have been evaluated.\n",
    "\n",
    "- This whole process is referred to as a training epoch because it resembles a loop.\n",
    "\n",
    "- For each gradient descent iteration, it processes all the training samples. However, batch gradient descent is computationally very expensive when the number of training examples is high.\n",
    "\n",
    "- Thus, if the number of training examples is high, we tend to use stochastic gradient descent (SGD) or mini-batch gradient descent (Mini BGD) instead.\n",
    "\n",
    "#### **2. Stochastic Gradient Descent (SGD):**\n",
    "\n",
    "- Stochastic gradient descent (SGD) is a form of gradient descent that processes one training example per iteration.\n",
    "\n",
    "- It estimates the error for each example in the training dataset and updates the parameters one by one.\n",
    "\n",
    "- Based on the problem statement, batch gradient descent (BGD) can be much faster because the parameters are modified even after an iteration in which only a single example has been processed.\n",
    "\n",
    "- One advantage is that the frequent updates allow us to track our progress in great detail.\n",
    "\n",
    "- However, even if the number of training examples is high, it can only process one of them, which will add to the system's overhead and the number of iterations needed.\n",
    "\n",
    "#### **3. Mini-Batch Gradient Descent (Mini BGD):**\n",
    "\n",
    "- Mini-batch gradient descent (Mini BGD) combines the principles of stochastic gradient descent (SGD) and batch gradient descent (BGD) and is faster than both.\n",
    "\n",
    "- It divides the training dataset into small batches and updates each of those batches. This establishes a balance between the robustness of stochastic gradient descent (SGD) and the efficiency of batch gradient descent (BGD).\n",
    "\n",
    "- It is compatible with both larger and smaller training examples.\n"
   ]
  },
  {
   "cell_type": "markdown",
   "metadata": {
    "id": "7Xt9x-WFMKx8"
   },
   "source": [
    "### <b>Use Case: Stochastic Gradient Descent (SGD):</b>"
   ]
  },
  {
   "cell_type": "markdown",
   "metadata": {
    "id": "0w-_L7okMPCA"
   },
   "source": [
    "#### <b> Importing Required Libraries </b>"
   ]
  },
  {
   "cell_type": "code",
   "execution_count": 148,
   "metadata": {
    "id": "kmg_RHS6MMJY"
   },
   "outputs": [],
   "source": [
    "#Importing libraries\n",
    "import numpy as np\n",
    "import pandas as pd\n",
    "\n",
    "from tabulate import tabulate\n",
    "\n",
    "from sklearn.datasets import load_boston\n",
    "from sklearn.preprocessing import StandardScaler\n",
    "from sklearn.model_selection import cross_val_score, train_test_split\n",
    "from sklearn.linear_model import LinearRegression, SGDRegressor\n",
    "from sklearn.metrics import mean_squared_error, mean_absolute_error, explained_variance_score\n",
    "\n",
    "import warnings\n",
    "warnings.filterwarnings(\"ignore\")\n",
    "\n",
    "import matplotlib.pyplot as plt\n",
    "%matplotlib inline"
   ]
  },
  {
   "cell_type": "markdown",
   "metadata": {
    "id": "8Nigq9_SMUuG"
   },
   "source": [
    "#### <b> Load the Data</b>"
   ]
  },
  {
   "cell_type": "code",
   "execution_count": 149,
   "metadata": {
    "id": "EPc44DKDMbvL"
   },
   "outputs": [
    {
     "name": "stdout",
     "output_type": "stream",
     "text": [
      "dict_keys(['data', 'target', 'feature_names', 'DESCR', 'filename', 'data_module'])\n"
     ]
    }
   ],
   "source": [
    "#Load the data dictionary\n",
    "boston = load_boston()\n",
    "\n",
    "#Find the dict keys\n",
    "print(boston.keys())"
   ]
  },
  {
   "cell_type": "markdown",
   "metadata": {
    "id": "PfA07X1-MgQN"
   },
   "source": [
    "#### <b> Dataset Description</b>"
   ]
  },
  {
   "cell_type": "code",
   "execution_count": 150,
   "metadata": {
    "id": "OzmUllK2MkaT"
   },
   "outputs": [
    {
     "name": "stdout",
     "output_type": "stream",
     "text": [
      ".. _boston_dataset:\n",
      "\n",
      "Boston house prices dataset\n",
      "---------------------------\n",
      "\n",
      "**Data Set Characteristics:**  \n",
      "\n",
      "    :Number of Instances: 506 \n",
      "\n",
      "    :Number of Attributes: 13 numeric/categorical predictive. Median Value (attribute 14) is usually the target.\n",
      "\n",
      "    :Attribute Information (in order):\n",
      "        - CRIM     per capita crime rate by town\n",
      "        - ZN       proportion of residential land zoned for lots over 25,000 sq.ft.\n",
      "        - INDUS    proportion of non-retail business acres per town\n",
      "        - CHAS     Charles River dummy variable (= 1 if tract bounds river; 0 otherwise)\n",
      "        - NOX      nitric oxides concentration (parts per 10 million)\n",
      "        - RM       average number of rooms per dwelling\n",
      "        - AGE      proportion of owner-occupied units built prior to 1940\n",
      "        - DIS      weighted distances to five Boston employment centres\n",
      "        - RAD      index of accessibility to radial highways\n",
      "        - TAX      full-value property-tax rate per $10,000\n",
      "        - PTRATIO  pupil-teacher ratio by town\n",
      "        - B        1000(Bk - 0.63)^2 where Bk is the proportion of black people by town\n",
      "        - LSTAT    % lower status of the population\n",
      "        - MEDV     Median value of owner-occupied homes in $1000's\n",
      "\n",
      "    :Missing Attribute Values: None\n",
      "\n",
      "    :Creator: Harrison, D. and Rubinfeld, D.L.\n",
      "\n",
      "This is a copy of UCI ML housing dataset.\n",
      "https://archive.ics.uci.edu/ml/machine-learning-databases/housing/\n",
      "\n",
      "\n",
      "This dataset was taken from the StatLib library which is maintained at Carnegie Mellon University.\n",
      "\n",
      "The Boston house-price data of Harrison, D. and Rubinfeld, D.L. 'Hedonic\n",
      "prices and the demand for clean air', J. Environ. Economics & Management,\n",
      "vol.5, 81-102, 1978.   Used in Belsley, Kuh & Welsch, 'Regression diagnostics\n",
      "...', Wiley, 1980.   N.B. Various transformations are used in the table on\n",
      "pages 244-261 of the latter.\n",
      "\n",
      "The Boston house-price data has been used in many machine learning papers that address regression\n",
      "problems.   \n",
      "     \n",
      ".. topic:: References\n",
      "\n",
      "   - Belsley, Kuh & Welsch, 'Regression diagnostics: Identifying Influential Data and Sources of Collinearity', Wiley, 1980. 244-261.\n",
      "   - Quinlan,R. (1993). Combining Instance-Based and Model-Based Learning. In Proceedings on the Tenth International Conference of Machine Learning, 236-243, University of Massachusetts, Amherst. Morgan Kaufmann.\n",
      "\n"
     ]
    }
   ],
   "source": [
    "#To print the boston dataset description\n",
    "print(boston.DESCR)"
   ]
  },
  {
   "cell_type": "markdown",
   "metadata": {
    "id": "69wj19BtMoRZ"
   },
   "source": [
    "#### <b> Find Features and Target</b>"
   ]
  },
  {
   "cell_type": "markdown",
   "metadata": {
    "id": "g3tSIErbz8kK"
   },
   "source": [
    "Let us split the data into **test** and **train.**"
   ]
  },
  {
   "cell_type": "code",
   "execution_count": 151,
   "metadata": {
    "id": "LZ_sG4lqMtUI"
   },
   "outputs": [],
   "source": [
    "X = boston.data\n",
    "Y = boston.target\n",
    "\n",
    "#Splitting the data to test and train\n",
    "x_train, x_test, y_train, y_test = train_test_split(X, Y, test_size=0.3)"
   ]
  },
  {
   "cell_type": "markdown",
   "metadata": {
    "id": "WPbJFsVoMxMl"
   },
   "source": [
    "#### <b>Find Feature's Name</b>"
   ]
  },
  {
   "cell_type": "code",
   "execution_count": 152,
   "metadata": {
    "id": "Tw0lvsyzM4FC"
   },
   "outputs": [
    {
     "data": {
      "text/plain": [
       "array(['CRIM', 'ZN', 'INDUS', 'CHAS', 'NOX', 'RM', 'AGE', 'DIS', 'RAD',\n",
       "       'TAX', 'PTRATIO', 'B', 'LSTAT'], dtype='<U7')"
      ]
     },
     "execution_count": 152,
     "metadata": {},
     "output_type": "execute_result"
    }
   ],
   "source": [
    "columns = boston.feature_names\n",
    "columns"
   ]
  },
  {
   "cell_type": "code",
   "execution_count": 153,
   "metadata": {
    "id": "DbgfOT6IM9h7"
   },
   "outputs": [],
   "source": [
    "boston_df = pd.DataFrame(boston.data)\n",
    "boston_df.columns = columns\n",
    "boston_df[\"MEDV\"] = Y"
   ]
  },
  {
   "cell_type": "code",
   "execution_count": 154,
   "metadata": {
    "id": "iAv9Es_LM_hU"
   },
   "outputs": [
    {
     "data": {
      "text/html": [
       "<div>\n",
       "<style scoped>\n",
       "    .dataframe tbody tr th:only-of-type {\n",
       "        vertical-align: middle;\n",
       "    }\n",
       "\n",
       "    .dataframe tbody tr th {\n",
       "        vertical-align: top;\n",
       "    }\n",
       "\n",
       "    .dataframe thead th {\n",
       "        text-align: right;\n",
       "    }\n",
       "</style>\n",
       "<table border=\"1\" class=\"dataframe\">\n",
       "  <thead>\n",
       "    <tr style=\"text-align: right;\">\n",
       "      <th></th>\n",
       "      <th>CRIM</th>\n",
       "      <th>ZN</th>\n",
       "      <th>INDUS</th>\n",
       "      <th>CHAS</th>\n",
       "      <th>NOX</th>\n",
       "      <th>RM</th>\n",
       "      <th>AGE</th>\n",
       "      <th>DIS</th>\n",
       "      <th>RAD</th>\n",
       "      <th>TAX</th>\n",
       "      <th>PTRATIO</th>\n",
       "      <th>B</th>\n",
       "      <th>LSTAT</th>\n",
       "      <th>MEDV</th>\n",
       "    </tr>\n",
       "  </thead>\n",
       "  <tbody>\n",
       "    <tr>\n",
       "      <th>0</th>\n",
       "      <td>0.00632</td>\n",
       "      <td>18.0</td>\n",
       "      <td>2.31</td>\n",
       "      <td>0.0</td>\n",
       "      <td>0.538</td>\n",
       "      <td>6.575</td>\n",
       "      <td>65.2</td>\n",
       "      <td>4.0900</td>\n",
       "      <td>1.0</td>\n",
       "      <td>296.0</td>\n",
       "      <td>15.3</td>\n",
       "      <td>396.90</td>\n",
       "      <td>4.98</td>\n",
       "      <td>24.0</td>\n",
       "    </tr>\n",
       "    <tr>\n",
       "      <th>1</th>\n",
       "      <td>0.02731</td>\n",
       "      <td>0.0</td>\n",
       "      <td>7.07</td>\n",
       "      <td>0.0</td>\n",
       "      <td>0.469</td>\n",
       "      <td>6.421</td>\n",
       "      <td>78.9</td>\n",
       "      <td>4.9671</td>\n",
       "      <td>2.0</td>\n",
       "      <td>242.0</td>\n",
       "      <td>17.8</td>\n",
       "      <td>396.90</td>\n",
       "      <td>9.14</td>\n",
       "      <td>21.6</td>\n",
       "    </tr>\n",
       "    <tr>\n",
       "      <th>2</th>\n",
       "      <td>0.02729</td>\n",
       "      <td>0.0</td>\n",
       "      <td>7.07</td>\n",
       "      <td>0.0</td>\n",
       "      <td>0.469</td>\n",
       "      <td>7.185</td>\n",
       "      <td>61.1</td>\n",
       "      <td>4.9671</td>\n",
       "      <td>2.0</td>\n",
       "      <td>242.0</td>\n",
       "      <td>17.8</td>\n",
       "      <td>392.83</td>\n",
       "      <td>4.03</td>\n",
       "      <td>34.7</td>\n",
       "    </tr>\n",
       "    <tr>\n",
       "      <th>3</th>\n",
       "      <td>0.03237</td>\n",
       "      <td>0.0</td>\n",
       "      <td>2.18</td>\n",
       "      <td>0.0</td>\n",
       "      <td>0.458</td>\n",
       "      <td>6.998</td>\n",
       "      <td>45.8</td>\n",
       "      <td>6.0622</td>\n",
       "      <td>3.0</td>\n",
       "      <td>222.0</td>\n",
       "      <td>18.7</td>\n",
       "      <td>394.63</td>\n",
       "      <td>2.94</td>\n",
       "      <td>33.4</td>\n",
       "    </tr>\n",
       "    <tr>\n",
       "      <th>4</th>\n",
       "      <td>0.06905</td>\n",
       "      <td>0.0</td>\n",
       "      <td>2.18</td>\n",
       "      <td>0.0</td>\n",
       "      <td>0.458</td>\n",
       "      <td>7.147</td>\n",
       "      <td>54.2</td>\n",
       "      <td>6.0622</td>\n",
       "      <td>3.0</td>\n",
       "      <td>222.0</td>\n",
       "      <td>18.7</td>\n",
       "      <td>396.90</td>\n",
       "      <td>5.33</td>\n",
       "      <td>36.2</td>\n",
       "    </tr>\n",
       "  </tbody>\n",
       "</table>\n",
       "</div>"
      ],
      "text/plain": [
       "      CRIM    ZN  INDUS  CHAS    NOX     RM   AGE     DIS  RAD    TAX  \\\n",
       "0  0.00632  18.0   2.31   0.0  0.538  6.575  65.2  4.0900  1.0  296.0   \n",
       "1  0.02731   0.0   7.07   0.0  0.469  6.421  78.9  4.9671  2.0  242.0   \n",
       "2  0.02729   0.0   7.07   0.0  0.469  7.185  61.1  4.9671  2.0  242.0   \n",
       "3  0.03237   0.0   2.18   0.0  0.458  6.998  45.8  6.0622  3.0  222.0   \n",
       "4  0.06905   0.0   2.18   0.0  0.458  7.147  54.2  6.0622  3.0  222.0   \n",
       "\n",
       "   PTRATIO       B  LSTAT  MEDV  \n",
       "0     15.3  396.90   4.98  24.0  \n",
       "1     17.8  396.90   9.14  21.6  \n",
       "2     17.8  392.83   4.03  34.7  \n",
       "3     18.7  394.63   2.94  33.4  \n",
       "4     18.7  396.90   5.33  36.2  "
      ]
     },
     "execution_count": 154,
     "metadata": {},
     "output_type": "execute_result"
    }
   ],
   "source": [
    "boston_df.head()"
   ]
  },
  {
   "cell_type": "code",
   "execution_count": 155,
   "metadata": {
    "id": "xNDXo4AjNB4G"
   },
   "outputs": [
    {
     "name": "stdout",
     "output_type": "stream",
     "text": [
      "             CRIM          ZN       INDUS        CHAS         NOX          RM  \\\n",
      "count  506.000000  506.000000  506.000000  506.000000  506.000000  506.000000   \n",
      "mean     3.613524   11.363636   11.136779    0.069170    0.554695    6.284634   \n",
      "std      8.601545   23.322453    6.860353    0.253994    0.115878    0.702617   \n",
      "min      0.006320    0.000000    0.460000    0.000000    0.385000    3.561000   \n",
      "25%      0.082045    0.000000    5.190000    0.000000    0.449000    5.885500   \n",
      "50%      0.256510    0.000000    9.690000    0.000000    0.538000    6.208500   \n",
      "75%      3.677083   12.500000   18.100000    0.000000    0.624000    6.623500   \n",
      "max     88.976200  100.000000   27.740000    1.000000    0.871000    8.780000   \n",
      "\n",
      "              AGE         DIS         RAD         TAX     PTRATIO           B  \\\n",
      "count  506.000000  506.000000  506.000000  506.000000  506.000000  506.000000   \n",
      "mean    68.574901    3.795043    9.549407  408.237154   18.455534  356.674032   \n",
      "std     28.148861    2.105710    8.707259  168.537116    2.164946   91.294864   \n",
      "min      2.900000    1.129600    1.000000  187.000000   12.600000    0.320000   \n",
      "25%     45.025000    2.100175    4.000000  279.000000   17.400000  375.377500   \n",
      "50%     77.500000    3.207450    5.000000  330.000000   19.050000  391.440000   \n",
      "75%     94.075000    5.188425   24.000000  666.000000   20.200000  396.225000   \n",
      "max    100.000000   12.126500   24.000000  711.000000   22.000000  396.900000   \n",
      "\n",
      "            LSTAT        MEDV  \n",
      "count  506.000000  506.000000  \n",
      "mean    12.653063   22.532806  \n",
      "std      7.141062    9.197104  \n",
      "min      1.730000    5.000000  \n",
      "25%      6.950000   17.025000  \n",
      "50%     11.360000   21.200000  \n",
      "75%     16.955000   25.000000  \n",
      "max     37.970000   50.000000  \n"
     ]
    }
   ],
   "source": [
    "print(boston_df.describe())"
   ]
  },
  {
   "cell_type": "markdown",
   "metadata": {
    "id": "TtfLKygJM6_f"
   },
   "source": [
    "#### <b> Standardizing Data</b>"
   ]
  },
  {
   "cell_type": "markdown",
   "metadata": {
    "id": "ueEJJaynz8kM"
   },
   "source": [
    "Let us standardize the **test** and **train** data using the **StandardScaler()** function."
   ]
  },
  {
   "cell_type": "code",
   "execution_count": 156,
   "metadata": {
    "id": "QY9bk5gqNH-P"
   },
   "outputs": [],
   "source": [
    "scaler = StandardScaler().fit(x_train)\n",
    "x_train = scaler.transform(x_train)\n",
    "x_test = scaler.transform(x_test)"
   ]
  },
  {
   "cell_type": "code",
   "execution_count": 157,
   "metadata": {
    "id": "Y85tX7CKNKyq"
   },
   "outputs": [
    {
     "data": {
      "text/html": [
       "<div>\n",
       "<style scoped>\n",
       "    .dataframe tbody tr th:only-of-type {\n",
       "        vertical-align: middle;\n",
       "    }\n",
       "\n",
       "    .dataframe tbody tr th {\n",
       "        vertical-align: top;\n",
       "    }\n",
       "\n",
       "    .dataframe thead th {\n",
       "        text-align: right;\n",
       "    }\n",
       "</style>\n",
       "<table border=\"1\" class=\"dataframe\">\n",
       "  <thead>\n",
       "    <tr style=\"text-align: right;\">\n",
       "      <th></th>\n",
       "      <th>0</th>\n",
       "      <th>1</th>\n",
       "      <th>2</th>\n",
       "      <th>3</th>\n",
       "      <th>4</th>\n",
       "      <th>5</th>\n",
       "      <th>6</th>\n",
       "      <th>7</th>\n",
       "      <th>8</th>\n",
       "      <th>9</th>\n",
       "      <th>10</th>\n",
       "      <th>11</th>\n",
       "      <th>12</th>\n",
       "      <th>price</th>\n",
       "    </tr>\n",
       "  </thead>\n",
       "  <tbody>\n",
       "    <tr>\n",
       "      <th>0</th>\n",
       "      <td>-0.380672</td>\n",
       "      <td>-0.49783</td>\n",
       "      <td>-0.057465</td>\n",
       "      <td>-0.26968</td>\n",
       "      <td>-0.554910</td>\n",
       "      <td>-1.178661</td>\n",
       "      <td>-2.021190</td>\n",
       "      <td>-0.124265</td>\n",
       "      <td>-0.660295</td>\n",
       "      <td>-0.743852</td>\n",
       "      <td>0.026000</td>\n",
       "      <td>-0.086707</td>\n",
       "      <td>2.373756</td>\n",
       "      <td>23.7</td>\n",
       "    </tr>\n",
       "    <tr>\n",
       "      <th>1</th>\n",
       "      <td>0.384331</td>\n",
       "      <td>-0.49783</td>\n",
       "      <td>1.052006</td>\n",
       "      <td>-0.26968</td>\n",
       "      <td>1.413179</td>\n",
       "      <td>0.060417</td>\n",
       "      <td>0.585481</td>\n",
       "      <td>-0.508823</td>\n",
       "      <td>1.595925</td>\n",
       "      <td>1.490283</td>\n",
       "      <td>0.793002</td>\n",
       "      <td>-0.925961</td>\n",
       "      <td>0.495496</td>\n",
       "      <td>14.9</td>\n",
       "    </tr>\n",
       "    <tr>\n",
       "      <th>2</th>\n",
       "      <td>-0.392804</td>\n",
       "      <td>-0.49783</td>\n",
       "      <td>-0.357362</td>\n",
       "      <td>-0.26968</td>\n",
       "      <td>-0.282541</td>\n",
       "      <td>-0.587695</td>\n",
       "      <td>0.874719</td>\n",
       "      <td>-0.782325</td>\n",
       "      <td>-0.547484</td>\n",
       "      <td>-0.129321</td>\n",
       "      <td>1.128566</td>\n",
       "      <td>0.424591</td>\n",
       "      <td>0.838152</td>\n",
       "      <td>19.5</td>\n",
       "    </tr>\n",
       "  </tbody>\n",
       "</table>\n",
       "</div>"
      ],
      "text/plain": [
       "          0        1         2        3         4         5         6  \\\n",
       "0 -0.380672 -0.49783 -0.057465 -0.26968 -0.554910 -1.178661 -2.021190   \n",
       "1  0.384331 -0.49783  1.052006 -0.26968  1.413179  0.060417  0.585481   \n",
       "2 -0.392804 -0.49783 -0.357362 -0.26968 -0.282541 -0.587695  0.874719   \n",
       "\n",
       "          7         8         9        10        11        12  price  \n",
       "0 -0.124265 -0.660295 -0.743852  0.026000 -0.086707  2.373756   23.7  \n",
       "1 -0.508823  1.595925  1.490283  0.793002 -0.925961  0.495496   14.9  \n",
       "2 -0.782325 -0.547484 -0.129321  1.128566  0.424591  0.838152   19.5  "
      ]
     },
     "execution_count": 157,
     "metadata": {},
     "output_type": "execute_result"
    }
   ],
   "source": [
    "train_data=pd.DataFrame(x_train)\n",
    "train_data['price']=y_train\n",
    "train_data.head(3)"
   ]
  },
  {
   "cell_type": "code",
   "execution_count": 158,
   "metadata": {
    "id": "M-OtJpnhNNWl"
   },
   "outputs": [],
   "source": [
    "x_test = np.array(x_test)\n",
    "y_test = np.array(y_test)"
   ]
  },
  {
   "cell_type": "code",
   "execution_count": 159,
   "metadata": {
    "id": "7JyGVKFGNRoi"
   },
   "outputs": [
    {
     "name": "stdout",
     "output_type": "stream",
     "text": [
      "(354, 13)\n",
      "(354,)\n",
      "(152, 13)\n",
      "(152,)\n"
     ]
    }
   ],
   "source": [
    "#Shape of test and train data metrics\n",
    "print(x_train.shape)\n",
    "print(y_train.shape)\n",
    "\n",
    "print(x_test.shape)\n",
    "print(y_test.shape)"
   ]
  },
  {
   "cell_type": "markdown",
   "metadata": {
    "id": "ZXO5iaEHNUPe"
   },
   "source": [
    "#### <b> Linear Regression: Boston Housing Prediction</b>"
   ]
  },
  {
   "cell_type": "markdown",
   "metadata": {
    "id": "4bZKJusiz8kO"
   },
   "source": [
    "Let us calculate **R-Squared**, **Linear Regressor Model Accuracy**, **MAE**, **MSE**, and **RMSE**."
   ]
  },
  {
   "cell_type": "code",
   "execution_count": 160,
   "metadata": {
    "id": "5jSg_01tNVue"
   },
   "outputs": [
    {
     "name": "stdout",
     "output_type": "stream",
     "text": [
      "Linear Regression: Boston Housing Prediction\n",
      "R-squared: 0.7297488289666196\n",
      "Linear Regressor Model Accuracy: 75.271686 %\n",
      "\n",
      "MAE: 3.2477294472307827\n",
      "MSE: 3.2477294472307827\n",
      "RMSE: 10.399669937060807\n",
      "\n"
     ]
    }
   ],
   "source": [
    "print(\"Linear Regression: Boston Housing Prediction\")\n",
    "lin_reg = LinearRegression()\n",
    "lin_reg.fit(x_train, y_train)\n",
    "lin_score = lin_reg.score(x_train, y_train)\n",
    "print(\"R-squared:\", lin_score)\n",
    "\n",
    "lin_y_pred = lin_reg.predict(x_test)\n",
    "lin_accuracy = explained_variance_score(y_test, lin_y_pred)\n",
    "lin_accuracy = round(lin_accuracy*100, 6)\n",
    "print(\"Linear Regressor Model Accuracy:\", lin_accuracy, \"%\")\n",
    "print()\n",
    "\n",
    "lin_mae = mean_absolute_error(y_test, lin_y_pred)\n",
    "lin_mse = mean_squared_error(y_test, lin_y_pred)\n",
    "lin_rmse = lin_mse*(1/2.0)\n",
    "\n",
    "print(\"MAE:\", lin_mae)\n",
    "print(\"MSE:\", lin_mae)\n",
    "print(\"RMSE:\", lin_rmse)\n",
    "print()"
   ]
  },
  {
   "cell_type": "markdown",
   "metadata": {
    "id": "WDNKc9zdz8kO"
   },
   "source": [
    "Let us plot a graph of the **Actual vs. Predicted Target**."
   ]
  },
  {
   "cell_type": "code",
   "execution_count": 161,
   "metadata": {
    "id": "lxLV3uEWNVXR"
   },
   "outputs": [
    {
     "data": {
      "image/png": "[encoded data removed]",
      "text/plain": [
       "<Figure size 432x288 with 1 Axes>"
      ]
     },
     "metadata": {
      "needs_background": "light"
     },
     "output_type": "display_data"
    }
   ],
   "source": [
    "plt.scatter(y_test, lin_y_pred)\n",
    "plt.grid()\n",
    "plt.xlabel('Actual Y')\n",
    "plt.ylabel('Predicted Y')\n",
    "plt.title('Actual vs. Predicted Target')\n",
    "plt.show()"
   ]
  },
  {
   "cell_type": "markdown",
   "metadata": {
    "id": "nHLvonh8z8kP"
   },
   "source": [
    "Let us plot a graph of the **Test vs. Predicted Data**."
   ]
  },
  {
   "cell_type": "code",
   "execution_count": 162,
   "metadata": {
    "id": "_FYH7LKaNcHt"
   },
   "outputs": [
    {
     "data": {
      "image/png": "[encoded data removed]",
      "text/plain": [
       "<Figure size 432x288 with 1 Axes>"
      ]
     },
     "metadata": {
      "needs_background": "light"
     },
     "output_type": "display_data"
    }
   ],
   "source": [
    "x_ax = range(len(y_test))\n",
    "plt.plot(x_ax, y_test, label=\"original\")\n",
    "plt.plot(x_ax, lin_y_pred, label=\"predicted\")\n",
    "plt.title(\"Test vs. Predicted Data\")\n",
    "plt.xlabel('X-axis')\n",
    "plt.ylabel('Y-axis')\n",
    "plt.legend(loc='best',fancybox=True, shadow=True)\n",
    "plt.grid(True)\n",
    "plt.show()"
   ]
  },
  {
   "cell_type": "markdown",
   "metadata": {
    "id": "wSXlb3HANhud"
   },
   "source": [
    "#### <b> SGD Regression: Boston Housing Prediction</b>"
   ]
  },
  {
   "cell_type": "markdown",
   "metadata": {
    "id": "j9EOqTdiz8kQ"
   },
   "source": [
    "Let us calculate **R-squared**, **SGD Regressor Model Accuracy**, **MAE**, **MSE**, and **RMSE**."
   ]
  },
  {
   "cell_type": "code",
   "execution_count": 163,
   "metadata": {
    "id": "Udml5S5yNcCk"
   },
   "outputs": [
    {
     "name": "stdout",
     "output_type": "stream",
     "text": [
      "SGD Regression: Boston Housing Prediction\n",
      "R-squared: 0.7265151897806774\n",
      "SGD Regressor Model Accuracy: 75.507096 %\n",
      "\n",
      "MAE: 3.1867568076848927\n",
      "MSE: 20.61056373576927\n",
      "RMSE: 10.305281867884634\n",
      "\n"
     ]
    }
   ],
   "source": [
    "print(\"SGD Regression: Boston Housing Prediction\")\n",
    "sgd_reg = SGDRegressor()\n",
    "sgd_reg.fit(x_train, y_train)\n",
    "sgd_score = sgd_reg.score(x_train, y_train)\n",
    "print(\"R-squared:\", sgd_score)\n",
    "\n",
    "sgd_y_pred = sgd_reg.predict(x_test)\n",
    "sgd_accuracy = explained_variance_score(y_test, sgd_y_pred)\n",
    "sgd_accuracy = round(sgd_accuracy*100, 6)\n",
    "print(\"SGD Regressor Model Accuracy:\", sgd_accuracy, \"%\")\n",
    "print()\n",
    "\n",
    "sgd_mae = mean_absolute_error(y_test, sgd_y_pred)\n",
    "sgd_mse = mean_squared_error(y_test, sgd_y_pred)\n",
    "sgd_rmse = sgd_mse*(1/2.0)\n",
    "\n",
    "print(\"MAE:\", sgd_mae)\n",
    "print(\"MSE:\", sgd_mse)\n",
    "print(\"RMSE:\", sgd_rmse)\n",
    "print()"
   ]
  },
  {
   "cell_type": "markdown",
   "metadata": {
    "id": "BL40Dijpz8kU"
   },
   "source": [
    "Let us plot a graph of the **Actual vs. Predicted Target**."
   ]
  },
  {
   "cell_type": "code",
   "execution_count": 164,
   "metadata": {
    "id": "oVBJm8YENb3t"
   },
   "outputs": [
    {
     "data": {
      "image/png": "[encoded data removed]",
      "text/plain": [
       "<Figure size 432x288 with 1 Axes>"
      ]
     },
     "metadata": {
      "needs_background": "light"
     },
     "output_type": "display_data"
    }
   ],
   "source": [
    "plt.scatter(y_test, sgd_y_pred)\n",
    "plt.grid()\n",
    "plt.xlabel('Actual Y')\n",
    "plt.ylabel('Predicted Y')\n",
    "plt.title('Actual vs. Predicted Target')\n",
    "plt.show()"
   ]
  },
  {
   "cell_type": "markdown",
   "metadata": {
    "id": "ppS9W-S8z8kV"
   },
   "source": [
    "Let us plot a graph of the **Test vs. Predicted Data**."
   ]
  },
  {
   "cell_type": "code",
   "execution_count": 165,
   "metadata": {
    "id": "K4C6JNxwNqN4"
   },
   "outputs": [
    {
     "data": {
      "image/png": "[encoded data removed]",
      "text/plain": [
       "<Figure size 432x288 with 1 Axes>"
      ]
     },
     "metadata": {
      "needs_background": "light"
     },
     "output_type": "display_data"
    }
   ],
   "source": [
    "x_ax = range(len(y_test))\n",
    "plt.plot(x_ax, y_test, label=\"original\")\n",
    "plt.plot(x_ax, sgd_y_pred, label=\"predicted\")\n",
    "plt.title(\"Test vs. Predicted Data\")\n",
    "plt.xlabel('X-axis')\n",
    "plt.ylabel('Y-axis')\n",
    "plt.legend(loc='best',fancybox=True, shadow=True)\n",
    "plt.grid(True)\n",
    "plt.show()"
   ]
  },
  {
   "cell_type": "markdown",
   "metadata": {
    "id": "Ys3AYiTsN4s3"
   },
   "source": [
    "#### <b> Model Comparison</b>"
   ]
  },
  {
   "cell_type": "markdown",
   "metadata": {
    "id": "LoRNgEp0N76q"
   },
   "source": [
    "**1. Evaluation Matrix Comparison**"
   ]
  },
  {
   "cell_type": "code",
   "execution_count": 166,
   "metadata": {
    "id": "CxJC83crNqG9"
   },
   "outputs": [
    {
     "name": "stdout",
     "output_type": "stream",
     "text": [
      "+----+---------------------------+------------+-------------+\n",
      "|    | Comparison Matrix         | LR Model   | SGD Model   |\n",
      "|----+---------------------------+------------+-------------|\n",
      "| 0  | Accuracy (Variance Score) | 75.2717    | 75.5071     |\n",
      "| 1  | R2 Score                  | 0.729749   | 0.726515    |\n",
      "| 2  | MAE                       | 3.24773    | 3.18676     |\n",
      "| 3  | MSE                       | 20.7993    | 20.6106     |\n",
      "| 4  | RMSE                      | 10.3997    | 10.3053     |\n",
      "+----+---------------------------+------------+-------------+\n"
     ]
    }
   ],
   "source": [
    "#Performing evaluation matrix comparison\n",
    "model_table = pd.DataFrame(columns = [\"Comparison Matrix\", \"LR Model\", \"SGD Model\"])\n",
    "model_table[\"Comparison Matrix\"] = [\"Accuracy (Variance Score)\", \"R2 Score\", \"MAE\", \"MSE\", \"RMSE\"]\n",
    "model_table[\"LR Model\"] = [lin_accuracy, lin_score, lin_mae, lin_mse, lin_rmse]\n",
    "model_table[\"SGD Model\"] = [sgd_accuracy, sgd_score, sgd_mae, sgd_mse, sgd_rmse]\n",
    "\n",
    "print(tabulate(model_table, headers = 'keys', tablefmt = 'psql', numalign=\"left\"))"
   ]
  },
  {
   "cell_type": "markdown",
   "metadata": {
    "id": "TJfBD4P_OBXo"
   },
   "source": [
    "**2. Prediction Comparison - A: Scatter Plot**"
   ]
  },
  {
   "cell_type": "markdown",
   "metadata": {
    "id": "2W_seA-wz8kW"
   },
   "source": [
    "Let us perform a comparison of the **Actual vs. Predicted Target** for the **Scatter Plot**."
   ]
  },
  {
   "cell_type": "code",
   "execution_count": 167,
   "metadata": {
    "id": "07tmOmViNp8r"
   },
   "outputs": [
    {
     "data": {
      "image/png": "[encoded data removed]",
      "text/plain": [
       "<Figure size 432x288 with 1 Axes>"
      ]
     },
     "metadata": {
      "needs_background": "light"
     },
     "output_type": "display_data"
    }
   ],
   "source": [
    "plt.scatter(y_test, lin_y_pred, c=\"b\", marker=\"d\", label='LR')\n",
    "plt.scatter(y_test, sgd_y_pred, c=\"r\", marker=\".\", label='SGD')\n",
    "plt.xlabel('Actual Y')\n",
    "plt.ylabel('Predicted Y')\n",
    "plt.title('Actual Vs. Predicted Target - LR Vs. SGD')\n",
    "plt.legend(loc='best',fancybox=True, shadow=True)\n",
    "plt.grid()\n",
    "plt.show()"
   ]
  },
  {
   "cell_type": "markdown",
   "metadata": {
    "id": "ySqRXaJ3OFa_"
   },
   "source": [
    "**3. Prediction Comparison - B: Line Graph**"
   ]
  },
  {
   "cell_type": "markdown",
   "metadata": {
    "id": "T4JNp0Miz8kX"
   },
   "source": [
    "Let us perform a comparison of **LR vs. SGD Prediction** for the **Line Graph**."
   ]
  },
  {
   "cell_type": "code",
   "execution_count": 168,
   "metadata": {
    "id": "xM0XolC4OKgz"
   },
   "outputs": [
    {
     "data": {
      "image/png": "[encoded data removed]",
      "text/plain": [
       "<Figure size 432x288 with 1 Axes>"
      ]
     },
     "metadata": {
      "needs_background": "light"
     },
     "output_type": "display_data"
    }
   ],
   "source": [
    "x_ax = range(len(sgd_y_pred))\n",
    "plt.plot(x_ax, lin_y_pred, c=\"C0\", linestyle=\"-\", linewidth = 2, label=\"LR Prediction\")\n",
    "plt.plot(x_ax, sgd_y_pred, c=\"C2\", linestyle=\":\", linewidth = 4, label=\"SGD Prediction\")\n",
    "plt.title(\"LR Vs. SGD Prediction\")\n",
    "plt.xlabel('X-axis')\n",
    "plt.ylabel('Y-axis')\n",
    "plt.legend(loc='best',fancybox=True, shadow=True)\n",
    "plt.grid(True)\n",
    "plt.show()"
   ]
  },
  {
   "cell_type": "markdown",
   "metadata": {
    "id": "JtbFaaGOOOeU"
   },
   "source": [
    "**4. Prediction Comparison - C: Target Prediction Table**"
   ]
  },
  {
   "cell_type": "markdown",
   "metadata": {
    "id": "tdIIxseez8kY"
   },
   "source": [
    "Let us compare the **LR Predicted value** and **SGD Predicted value**.\n"
   ]
  },
  {
   "cell_type": "code",
   "execution_count": 169,
   "metadata": {
    "id": "v-2xvfpgOPfK"
   },
   "outputs": [
    {
     "name": "stdout",
     "output_type": "stream",
     "text": [
      "+-----+----------------------+-----------------------+\n",
      "|     | LR Predicted Value   | SGD Predicted Value   |\n",
      "|-----+----------------------+-----------------------|\n",
      "| 0   | 25.8742              | 25.8216               |\n",
      "| 1   | 23.5995              | 23.9628               |\n",
      "| 2   | 27.677               | 27.7931               |\n",
      "| 3   | 6.03929              | 5.70567               |\n",
      "| 4   | 6.25974              | 5.60918               |\n",
      "| 5   | 22.3739              | 22.511                |\n",
      "| 6   | 18.8227              | 18.9066               |\n",
      "| 7   | 34.3962              | 33.8115               |\n",
      "| 8   | 33.1048              | 32.8026               |\n",
      "| 9   | 25.7905              | 25.3213               |\n",
      "| 10  | 16.365               | 17.1127               |\n",
      "| 11  | 16.5135              | 16.4012               |\n",
      "| 12  | 30.768               | 31.0272               |\n",
      "| 13  | 19.3961              | 19.9206               |\n",
      "| 14  | 40.6686              | 40.3976               |\n",
      "| 15  | 21.2495              | 21.6958               |\n",
      "| 16  | 21.5299              | 21.865                |\n",
      "| 17  | 19.3348              | 19.5773               |\n",
      "| 18  | 24.931               | 25.2525               |\n",
      "| 19  | 29.1028              | 29.2569               |\n",
      "| 20  | 17.2208              | 17.2844               |\n",
      "| 21  | 35.2331              | 35.8224               |\n",
      "| 22  | 14.346               | 14.6394               |\n",
      "| 23  | 12.9108              | 13.4896               |\n",
      "| 24  | 14.0941              | 13.1839               |\n",
      "| 25  | 17.0641              | 16.3142               |\n",
      "| 26  | 15.1422              | 15.2616               |\n",
      "| 27  | 19.6416              | 19.0321               |\n",
      "| 28  | 15.038               | 16.1124               |\n",
      "| 29  | 26.0011              | 25.8465               |\n",
      "| 30  | 17.3813              | 17.5187               |\n",
      "| 31  | 17.4006              | 17.3247               |\n",
      "| 32  | 17.6278              | 17.9679               |\n",
      "| 33  | 21.9325              | 23.1556               |\n",
      "| 34  | 24.853               | 25.4303               |\n",
      "| 35  | 11.5977              | 12.6903               |\n",
      "| 36  | 17.5872              | 17.6896               |\n",
      "| 37  | 31.5702              | 31.611                |\n",
      "| 38  | 32.4084              | 32.3516               |\n",
      "| 39  | 7.45408              | 8.33803               |\n",
      "| 40  | 36.1847              | 36.0746               |\n",
      "| 41  | 23.9009              | 25.0831               |\n",
      "| 42  | 20.3018              | 21.7415               |\n",
      "| 43  | 35.7408              | 35.8755               |\n",
      "| 44  | 35.8831              | 36.3487               |\n",
      "| 45  | 8.72012              | 9.6752                |\n",
      "| 46  | 17.449               | 17.2009               |\n",
      "| 47  | 34.1196              | 33.6289               |\n",
      "| 48  | 25.1165              | 25.4551               |\n",
      "| 49  | 25.0851              | 24.857                |\n",
      "| 50  | 10.94                | 11.9558               |\n",
      "| 51  | 26.3437              | 26.894                |\n",
      "| 52  | 18.4206              | 19.1386               |\n",
      "| 53  | 36.1701              | 36.0254               |\n",
      "| 54  | 15.6349              | 16.2709               |\n",
      "| 55  | 14.777               | 16.7789               |\n",
      "| 56  | 25.3768              | 25.5605               |\n",
      "| 57  | 18.072               | 17.9449               |\n",
      "| 58  | 30.8143              | 30.3957               |\n",
      "| 59  | 21.5344              | 21.633                |\n",
      "| 60  | 24.5948              | 25.2626               |\n",
      "| 61  | 27.1346              | 26.6547               |\n",
      "| 62  | 17.3827              | 17.2644               |\n",
      "| 63  | 13.2795              | 13.8434               |\n",
      "| 64  | 15.8606              | 16.2723               |\n",
      "| 65  | 32.4896              | 32.0711               |\n",
      "| 66  | 18.9822              | 18.4594               |\n",
      "| 67  | 16.2955              | 17.2636               |\n",
      "| 68  | 21.3881              | 21.1267               |\n",
      "| 69  | 11.7377              | 12.068                |\n",
      "| 70  | 19.0485              | 19.8016               |\n",
      "| 71  | 12.7571              | 14.6697               |\n",
      "| 72  | 20.7741              | 21.1065               |\n",
      "| 73  | 16.8817              | 17.3095               |\n",
      "| 74  | 23.1859              | 22.5116               |\n",
      "| 75  | 22.2771              | 21.5675               |\n",
      "| 76  | 11.0541              | 10.733                |\n",
      "| 77  | 20.3186              | 21.8175               |\n",
      "| 78  | 11.7077              | 11.0358               |\n",
      "| 79  | 10.6843              | 10.5537               |\n",
      "| 80  | 18.3915              | 19.1456               |\n",
      "| 81  | 29.3342              | 29.0494               |\n",
      "| 82  | 19.1135              | 18.3655               |\n",
      "| 83  | 22.1128              | 21.5868               |\n",
      "| 84  | 22.8471              | 22.8343               |\n",
      "| 85  | 23.034               | 23.0276               |\n",
      "| 86  | 38.2485              | 38.0838               |\n",
      "| 87  | 24.7767              | 24.2015               |\n",
      "| 88  | 25.5618              | 25.2147               |\n",
      "| 89  | 31.3369              | 31.6063               |\n",
      "| 90  | 12.6616              | 12.7545               |\n",
      "| 91  | 6.44635              | 6.03697               |\n",
      "| 92  | 28.3778              | 28.0525               |\n",
      "| 93  | 30.3553              | 30.5822               |\n",
      "| 94  | 25.2968              | 25.3104               |\n",
      "| 95  | 16.7978              | 16.6754               |\n",
      "| 96  | 22.6391              | 22.3855               |\n",
      "| 97  | 16.8765              | 16.8609               |\n",
      "| 98  | 21.2201              | 22.5508               |\n",
      "| 99  | 20.8138              | 21.2074               |\n",
      "| 100 | 19.8936              | 19.9471               |\n",
      "| 101 | 27.4847              | 27.969                |\n",
      "| 102 | 23.3643              | 23.4657               |\n",
      "| 103 | 21.9541              | 22.2999               |\n",
      "| 104 | 18.355               | 18.6741               |\n",
      "| 105 | 35.5205              | 35.391                |\n",
      "| 106 | 16.8967              | 16.4625               |\n",
      "| 107 | 36.9864              | 36.9927               |\n",
      "| 108 | 23.4323              | 22.3147               |\n",
      "| 109 | 13.1182              | 13.6824               |\n",
      "| 110 | 17.3611              | 17.5268               |\n",
      "| 111 | 21.2313              | 21.4823               |\n",
      "| 112 | 30.2193              | 30.7832               |\n",
      "| 113 | 26.2852              | 25.7141               |\n",
      "| 114 | 32.7889              | 32.3052               |\n",
      "| 115 | 29.8956              | 30.5458               |\n",
      "| 116 | 30.3047              | 29.7888               |\n",
      "| 117 | 14.0781              | 15.0553               |\n",
      "| 118 | 20.3394              | 20.7658               |\n",
      "| 119 | 33.6112              | 33.5586               |\n",
      "| 120 | 19.2769              | 19.2598               |\n",
      "| 121 | 9.64964              | 9.26039               |\n",
      "| 122 | 12.913               | 13.5983               |\n",
      "| 123 | 24.6607              | 24.7324               |\n",
      "| 124 | 34.563               | 34.8671               |\n",
      "| 125 | 14.959               | 16.1216               |\n",
      "| 126 | 14.4765              | 13.7953               |\n",
      "| 127 | 36.9688              | 36.8722               |\n",
      "| 128 | 25.5234              | 25.0145               |\n",
      "| 129 | 30.8467              | 30.9117               |\n",
      "| 130 | 36.7833              | 37.4048               |\n",
      "| 131 | 25.0937              | 25.0406               |\n",
      "| 132 | 11.5566              | 11.5694               |\n",
      "| 133 | 33.8106              | 33.573                |\n",
      "| 134 | 42.2168              | 42.8225               |\n",
      "| 135 | 20.2923              | 20.9626               |\n",
      "| 136 | 40.4492              | 40.6976               |\n",
      "| 137 | 37.4996              | 37.212                |\n",
      "| 138 | 28.0477              | 27.8505               |\n",
      "| 139 | 18.1424              | 17.4866               |\n",
      "| 140 | 21.4962              | 22.0288               |\n",
      "| 141 | 28.4905              | 28.3293               |\n",
      "| 142 | 15.1005              | 15.7276               |\n",
      "| 143 | 31.8312              | 32.2108               |\n",
      "| 144 | 34.679               | 34.4131               |\n",
      "| 145 | 29.8265              | 29.2969               |\n",
      "| 146 | 24.9808              | 25.1783               |\n",
      "| 147 | 27.3973              | 27.5603               |\n",
      "| 148 | 19.17                | 19.1475               |\n",
      "| 149 | 24.4999              | 25.0836               |\n",
      "| 150 | 33.604               | 33.1307               |\n",
      "| 151 | 25.3632              | 25.7116               |\n",
      "+-----+----------------------+-----------------------+\n"
     ]
    }
   ],
   "source": [
    "prediction_table = pd.DataFrame(columns=[\"LR Predicted Value\", \"SGD Predicted Value\"])\n",
    "prediction_table[\"LR Predicted Value\"] = lin_y_pred\n",
    "prediction_table[\"SGD Predicted Value\"] = sgd_y_pred\n",
    "\n",
    "print(tabulate(prediction_table, headers = 'keys', tablefmt = 'psql', numalign=\"left\"))"
   ]
  },
  {
   "cell_type": "markdown",
   "metadata": {
    "id": "M58DVrEtZhNw"
   },
   "source": [
    "**Note: In this topic, we saw the use of the linear regression methods, but in the next topic we will be working on \"Logistic Regression\".**"
   ]
  },
  {
   "cell_type": "markdown",
   "metadata": {
    "id": "wWnaEd6tqhcn"
   },
   "source": [
    "![Simplilearn_Logo](https://labcontent.simplicdn.net/data-content/content-assets/Data_and_AI/Logo_Powered_By_Simplilearn/SL_Logo_1.png)"
   ]
  }
 ],
 "metadata": {
  "colab": {
   "collapsed_sections": [],
   "name": "3.02_Regression_Algorithms.ipynb",
   "private_outputs": true,
   "provenance": []
  },
  "kernelspec": {
   "display_name": "Python 3 (ipykernel)",
   "language": "python",
   "name": "python3"
  },
  "language_info": {
   "codemirror_mode": {
    "name": "ipython",
    "version": 3
   },
   "file_extension": ".py",
   "mimetype": "text/x-python",
   "name": "python",
   "nbconvert_exporter": "python",
   "pygments_lexer": "ipython3",
   "version": "3.9.12"
  }
 },
 "nbformat": 4,
 "nbformat_minor": 1
}
